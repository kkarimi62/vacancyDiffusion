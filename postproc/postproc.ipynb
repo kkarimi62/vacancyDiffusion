{
 "cells": [
  {
   "cell_type": "markdown",
   "metadata": {},
   "source": [
    "# parsing configuration file"
   ]
  },
  {
   "cell_type": "code",
   "execution_count": 1,
   "metadata": {},
   "outputs": [],
   "source": [
    "import configparser\n",
    "confParser = configparser.ConfigParser()"
   ]
  },
  {
   "cell_type": "code",
   "execution_count": 2,
   "metadata": {},
   "outputs": [
    {
     "name": "stdout",
     "output_type": "stream",
     "text": [
      "conf. file sections: ['parameters', 'flags', 'input files', 'Atomic Radius']\n"
     ]
    }
   ],
   "source": [
    "#--- parse conf. file\n",
    "confParser.read('configuration.ini')\n",
    "print('conf. file sections:',confParser.sections())\n",
    "\n",
    "#--- set dynamic parameters\n",
    "temp=confParser['parameters']['temperature']\n",
    "\n",
    "#--- edit list of input files\n",
    "confParser.set('input files','dump file',''.join([\n",
    "               'allconf ', #0\n",
    "              ]))\n",
    "confParser.set('input files','diffusion file',''.join([\n",
    "               'Diffusion.dat ', #0\n",
    "              ]))\n"
   ]
  },
  {
   "cell_type": "markdown",
   "metadata": {},
   "source": [
    "# import libraries"
   ]
  },
  {
   "cell_type": "code",
   "execution_count": 3,
   "metadata": {},
   "outputs": [
    {
     "data": {
      "text/plain": [
       "<module 'utilityy' from '../../HeaDef/postprocess/utilityy.py'>"
      ]
     },
     "execution_count": 3,
     "metadata": {},
     "output_type": "execute_result"
    }
   ],
   "source": [
    "import sys\n",
    "sys.path.append(confParser['input files']['lib_path'])\n",
    "\n",
    "#--- system libraries\n",
    "import pdb\n",
    "import pandas as pd\n",
    "import numpy as np\n",
    "import matplotlib.pylab as plt\n",
    "import matplotlib as mpl\n",
    "import traceback\n",
    "import os\n",
    "import scipy.interpolate as scp_int\n",
    "import warnings\n",
    "import matplotlib\n",
    "from matplotlib.ticker import (MultipleLocator, AutoMinorLocator)\n",
    "from matplotlib import patches\n",
    "import sys\n",
    "import sklearn\n",
    "from sklearn.preprocessing import PolynomialFeatures\n",
    "from sklearn.linear_model import LinearRegression\n",
    "from sklearn.model_selection import cross_validate\n",
    "import patsy\n",
    "from sklearn import linear_model, mixture\n",
    "import sklearn.mixture as skm\n",
    "from scipy import optimize\n",
    "import scipy\n",
    "import re\n",
    "from functools import reduce\n",
    "import time\n",
    "import fnmatch\n",
    "from scipy.optimize import curve_fit\n",
    "#\n",
    "warnings.filterwarnings('ignore')\n",
    "\n",
    "#--- user modules\n",
    "import LammpsPostProcess as lp\n",
    "import LammpsPostProcess2nd as lpp\n",
    "import utilityy as utll\n",
    "import utility as utl\n",
    "from utility import *\n",
    "import imp\n",
    "imp.reload(lp)\n",
    "imp.reload(lpp)\n",
    "imp.reload(utl)\n",
    "imp.reload(utll)"
   ]
  },
  {
   "cell_type": "code",
   "execution_count": 4,
   "metadata": {},
   "outputs": [],
   "source": [
    "class Symbols:\n",
    "    def __init__(self):\n",
    "        self.colors = ['black','red','green','blue','cyan','brown','grey','magenta','orange','yellow']\n",
    "        self.fillstyles=['white',None,'white',None,'white',None,'white',None,'white',None,'white',None,'white',None,'white',None]\n",
    "        self.markers=['o','s','D','^','<','>','v']\n",
    "        self.markersizes=[10,10,10,12,12,12,10]\n",
    "        self.nmax=7\n",
    "        \n",
    "    def GetAttrs(self,count=0,label='',nevery=1,fmt='.-',zorder=1):\n",
    "        if count > self.nmax:\n",
    "            print('index out of list bound!')\n",
    "            return \n",
    "        attrs={ 'color':self.colors[count],\n",
    "            'markersize':self.markersizes[count],\n",
    "            'marker':self.markers[count],\n",
    "            'markerfacecolor':self.colors[count],\n",
    "            'markeredgecolor':'white', #'black' if not self.fillstyles[count] else None,\n",
    "            'label':label,\n",
    "           'markevery':nevery,\n",
    "           'errorevery':nevery,\n",
    "           'markeredgewidth':1.75,\n",
    "            'linewidth':1, \n",
    "           'barsabove':None,\n",
    "           'capsize':5,\n",
    "           'capthick':1,\n",
    "           'elinewidth':1,\n",
    "           'fmt':fmt,\n",
    "             'zorder':zorder,\n",
    "         }\n",
    "        return attrs\n",
    "    \n",
    "    def GetAttrs2nd(self,count=0,label='',nevery=1,fmt='.-',zorder=1):\n",
    "        if count > self.nmax:\n",
    "            print('index out of list bound!')\n",
    "            return \n",
    "        attrs={ 'color':self.colors[count],\n",
    "            'markersize':self.markersizes[count],\n",
    "            'marker':self.markers[count],\n",
    "            'markerfacecolor':'white',\n",
    "#            'markeredgecolor':'black' if not self.fillstyles[count] else None,\n",
    "            'label':label,\n",
    "           'markevery':nevery,\n",
    "           'errorevery':nevery,\n",
    "           'markeredgewidth':1.75,\n",
    "            'linewidth':1, \n",
    "           'barsabove':None,\n",
    "           'capsize':5,\n",
    "           'capthick':1,\n",
    "           'elinewidth':1,\n",
    "           'fmt':fmt,\n",
    "            'zorder':zorder,\n",
    "          }\n",
    "        return attrs\n",
    "\n",
    "class Legends:\n",
    "    def __init__(self\n",
    "                ):\n",
    "        pass\n",
    "    def Set(self,fontsize=20,\n",
    "                 labelspacing=0,\n",
    "                 **kwargs\n",
    "#                 bbox_to_anchor=(0.5,0.48,0.5,0.5),\n",
    "           ):\n",
    "        self.attrs = {'frameon':False,'fontsize':fontsize,\n",
    "                   'labelspacing':labelspacing,\n",
    "                      'handletextpad':.2,\n",
    "                   'handlelength':1,\n",
    "                    **kwargs,\n",
    "                     }\n",
    "    def Get(self):\n",
    "        return self.attrs\n",
    "\n",
    "DRAW_FRAME=(0.23,0.08,0.12,0.07,0.01)\n",
    "if not eval(confParser['flags']['RemoteMachine']):\n",
    "    matplotlib.rcParams['text.usetex'] = True #--- comment tex stuff!\n",
    "    "
   ]
  },
  {
   "cell_type": "markdown",
   "metadata": {},
   "source": [
    "\n",
    "# Dump File"
   ]
  },
  {
   "cell_type": "code",
   "execution_count": 6,
   "metadata": {
    "scrolled": true
   },
   "outputs": [
    {
     "name": "stdout",
     "output_type": "stream",
     "text": [
      "InputFile= ../simulations/CantorNatom16KTemp1000K_ensemble/Run0/allconf\n",
      "num_frames= 201\n",
      "frame=0\n",
      "frame=1\n",
      "frame=2\n",
      "frame=3\n",
      "frame=4\n",
      "frame=5\n",
      "frame=6\n",
      "frame=7\n",
      "frame=8\n",
      "frame=9\n",
      "frame=10\n",
      "frame=11\n",
      "frame=12\n",
      "frame=13\n",
      "frame=14\n",
      "frame=15\n",
      "frame=16\n",
      "frame=17\n",
      "frame=18\n",
      "frame=19\n",
      "frame=20\n",
      "frame=21\n",
      "frame=22\n",
      "frame=23\n",
      "frame=24\n",
      "frame=25\n",
      "frame=26\n",
      "frame=27\n",
      "frame=28\n",
      "frame=29\n",
      "frame=30\n",
      "frame=31\n",
      "frame=32\n",
      "frame=33\n",
      "frame=34\n",
      "frame=35\n",
      "frame=36\n",
      "frame=37\n",
      "frame=38\n",
      "frame=39\n",
      "frame=40\n",
      "frame=41\n",
      "frame=42\n",
      "frame=43\n",
      "frame=44\n",
      "frame=45\n",
      "frame=46\n",
      "frame=47\n",
      "frame=48\n",
      "frame=49\n",
      "frame=50\n",
      "frame=51\n",
      "frame=52\n",
      "frame=53\n",
      "frame=54\n",
      "frame=55\n",
      "frame=56\n",
      "frame=57\n",
      "frame=58\n",
      "frame=59\n",
      "frame=60\n",
      "frame=61\n",
      "frame=62\n",
      "frame=63\n",
      "frame=64\n",
      "frame=65\n",
      "frame=66\n",
      "frame=67\n",
      "frame=68\n",
      "frame=69\n",
      "frame=70\n",
      "frame=71\n",
      "frame=72\n",
      "frame=73\n",
      "frame=74\n",
      "frame=75\n",
      "frame=76\n",
      "frame=77\n",
      "frame=78\n",
      "frame=79\n",
      "frame=80\n",
      "frame=81\n",
      "frame=82\n",
      "frame=83\n",
      "frame=84\n",
      "frame=85\n",
      "frame=86\n",
      "frame=87\n",
      "frame=88\n",
      "frame=89\n",
      "frame=90\n",
      "frame=91\n",
      "frame=92\n",
      "frame=93\n",
      "frame=94\n",
      "frame=95\n",
      "frame=96\n",
      "frame=97\n",
      "frame=98\n",
      "frame=99\n",
      "frame=100\n",
      "frame=101\n",
      "frame=102\n",
      "frame=103\n",
      "frame=104\n",
      "frame=105\n",
      "frame=106\n",
      "frame=107\n",
      "frame=108\n",
      "frame=109\n",
      "frame=110\n",
      "frame=111\n",
      "frame=112\n",
      "frame=113\n",
      "frame=114\n",
      "frame=115\n",
      "frame=116\n",
      "frame=117\n",
      "frame=118\n",
      "frame=119\n",
      "frame=120\n",
      "frame=121\n",
      "frame=122\n",
      "frame=123\n",
      "frame=124\n",
      "frame=125\n",
      "frame=126\n",
      "frame=127\n",
      "frame=128\n",
      "frame=129\n",
      "frame=130\n",
      "frame=131\n",
      "frame=132\n",
      "frame=133\n",
      "frame=134\n",
      "frame=135\n",
      "frame=136\n",
      "frame=137\n",
      "frame=138\n",
      "frame=139\n",
      "frame=140\n",
      "frame=141\n",
      "frame=142\n",
      "frame=143\n",
      "frame=144\n",
      "frame=145\n",
      "frame=146\n",
      "frame=147\n",
      "frame=148\n",
      "frame=149\n",
      "frame=150\n",
      "frame=151\n",
      "frame=152\n",
      "frame=153\n",
      "frame=154\n",
      "frame=155\n",
      "frame=156\n",
      "frame=157\n",
      "frame=158\n",
      "frame=159\n",
      "frame=160\n",
      "frame=161\n",
      "frame=162\n",
      "frame=163\n",
      "frame=164\n",
      "frame=165\n",
      "frame=166\n",
      "frame=167\n",
      "frame=168\n",
      "frame=169\n",
      "frame=170\n",
      "frame=171\n",
      "frame=172\n",
      "frame=173\n",
      "frame=174\n",
      "frame=175\n",
      "frame=176\n",
      "frame=177\n",
      "frame=178\n",
      "frame=179\n",
      "frame=180\n",
      "frame=181\n",
      "frame=182\n",
      "frame=183\n",
      "frame=184\n",
      "frame=185\n",
      "frame=186\n",
      "frame=187\n",
      "frame=188\n",
      "frame=189\n",
      "frame=190\n",
      "frame=191\n",
      "frame=192\n",
      "frame=193\n",
      "frame=194\n",
      "frame=195\n",
      "frame=196\n",
      "frame=197\n",
      "frame=198\n",
      "frame=199\n",
      "frame=200\n",
      "output dump file=2.81844425201416 s\n",
      "parsing dumpFile/dump.xyz\n",
      "reached end of file!\n",
      "time steps: dict_keys([0, 1, 2, 3, 4, 5, 6, 7, 8, 9, 10, 11, 12, 13, 14, 15, 16, 17, 18, 19, 20, 21, 22, 23, 24, 25, 26, 27, 28, 29, 30, 31, 32, 33, 34, 35, 36, 37, 38, 39, 40, 41, 42, 43, 44, 45, 46, 47, 48, 49, 50, 51, 52, 53, 54, 55, 56, 57, 58, 59, 60, 61, 62, 63, 64, 65, 66, 67, 68, 69, 70, 71, 72, 73, 74, 75, 76, 77, 78, 79, 80, 81, 82, 83, 84, 85, 86, 87, 88, 89, 90, 91, 92, 93, 94, 95, 96, 97, 98, 99, 100, 101, 102, 103, 104, 105, 106, 107, 108, 109, 110, 111, 112, 113, 114, 115, 116, 117, 118, 119, 120, 121, 122, 123, 124, 125, 126, 127, 128, 129, 130, 131, 132, 133, 134, 135, 136, 137, 138, 139, 140, 141, 142, 143, 144, 145, 146, 147, 148, 149, 150, 151, 152, 153, 154, 155, 156, 157, 158, 159, 160, 161, 162, 163, 164, 165, 166, 167, 168, 169, 170, 171, 172, 173, 174, 175, 176, 177, 178, 179, 180, 181, 182, 183, 184, 185, 186, 187, 188, 189, 190, 191, 192, 193, 194, 195, 196, 197, 198, 199, 200, 201])\n"
     ]
    },
    {
     "data": {
      "text/html": [
       "<div>\n",
       "<style scoped>\n",
       "    .dataframe tbody tr th:only-of-type {\n",
       "        vertical-align: middle;\n",
       "    }\n",
       "\n",
       "    .dataframe tbody tr th {\n",
       "        vertical-align: top;\n",
       "    }\n",
       "\n",
       "    .dataframe thead th {\n",
       "        text-align: right;\n",
       "    }\n",
       "</style>\n",
       "<table border=\"1\" class=\"dataframe\">\n",
       "  <thead>\n",
       "    <tr style=\"text-align: right;\">\n",
       "      <th></th>\n",
       "      <th>id</th>\n",
       "      <th>type</th>\n",
       "      <th>x</th>\n",
       "      <th>y</th>\n",
       "      <th>z</th>\n",
       "    </tr>\n",
       "  </thead>\n",
       "  <tbody>\n",
       "    <tr>\n",
       "      <th>0</th>\n",
       "      <td>1</td>\n",
       "      <td>5</td>\n",
       "      <td>28.689497</td>\n",
       "      <td>26.941841</td>\n",
       "      <td>12.545537</td>\n",
       "    </tr>\n",
       "    <tr>\n",
       "      <th>1</th>\n",
       "      <td>2</td>\n",
       "      <td>2</td>\n",
       "      <td>48.483498</td>\n",
       "      <td>16.100222</td>\n",
       "      <td>14.239468</td>\n",
       "    </tr>\n",
       "    <tr>\n",
       "      <th>2</th>\n",
       "      <td>3</td>\n",
       "      <td>3</td>\n",
       "      <td>3.538586</td>\n",
       "      <td>50.284424</td>\n",
       "      <td>14.288689</td>\n",
       "    </tr>\n",
       "    <tr>\n",
       "      <th>3</th>\n",
       "      <td>4</td>\n",
       "      <td>5</td>\n",
       "      <td>5.396572</td>\n",
       "      <td>52.065559</td>\n",
       "      <td>46.693573</td>\n",
       "    </tr>\n",
       "    <tr>\n",
       "      <th>4</th>\n",
       "      <td>5</td>\n",
       "      <td>2</td>\n",
       "      <td>1.722084</td>\n",
       "      <td>12.465472</td>\n",
       "      <td>39.446503</td>\n",
       "    </tr>\n",
       "  </tbody>\n",
       "</table>\n",
       "</div>"
      ],
      "text/plain": [
       "   id  type          x          y          z\n",
       "0   1     5  28.689497  26.941841  12.545537\n",
       "1   2     2  48.483498  16.100222  14.239468\n",
       "2   3     3   3.538586  50.284424  14.288689\n",
       "3   4     5   5.396572  52.065559  46.693573\n",
       "4   5     2   1.722084  12.465472  39.446503"
      ]
     },
     "metadata": {},
     "output_type": "display_data"
    },
    {
     "ename": "OSError",
     "evalue": "dumpFile/calcResults.txt not found.",
     "output_type": "error",
     "traceback": [
      "\u001b[0;31m---------------------------------------------------------------------------\u001b[0m",
      "\u001b[0;31mOSError\u001b[0m                                   Traceback (most recent call last)",
      "\u001b[0;32m/tmp/ipykernel_71590/4052268304.py\u001b[0m in \u001b[0;36m<module>\u001b[0;34m\u001b[0m\n\u001b[1;32m     28\u001b[0m \u001b[0;34m\u001b[0m\u001b[0m\n\u001b[1;32m     29\u001b[0m \u001b[0;31m#--- parse headers\u001b[0m\u001b[0;34m\u001b[0m\u001b[0;34m\u001b[0m\u001b[0m\n\u001b[0;32m---> 30\u001b[0;31m \u001b[0mlmpData\u001b[0m\u001b[0;34m.\u001b[0m\u001b[0mheaders\u001b[0m \u001b[0;34m=\u001b[0m \u001b[0mpd\u001b[0m\u001b[0;34m.\u001b[0m\u001b[0mDataFrame\u001b[0m\u001b[0;34m(\u001b[0m\u001b[0mnp\u001b[0m\u001b[0;34m.\u001b[0m\u001b[0mloadtxt\u001b[0m\u001b[0;34m(\u001b[0m\u001b[0moutpt_headers\u001b[0m\u001b[0;34m)\u001b[0m\u001b[0;34m,\u001b[0m\u001b[0mcolumns\u001b[0m\u001b[0;34m=\u001b[0m\u001b[0;34m[\u001b[0m\u001b[0;34m\"Barrier\"\u001b[0m\u001b[0;34m,\u001b[0m \u001b[0;34m\"Energy\"\u001b[0m\u001b[0;34m,\u001b[0m \u001b[0;34m\"Step\"\u001b[0m\u001b[0;34m,\u001b[0m \u001b[0;34m\"Time\"\u001b[0m\u001b[0;34m]\u001b[0m\u001b[0;34m)\u001b[0m\u001b[0;34m\u001b[0m\u001b[0m\n\u001b[0m",
      "\u001b[0;32m~/opt/anaconda3/envs/python37VirEnv/lib/python3.7/site-packages/numpy/lib/npyio.py\u001b[0m in \u001b[0;36mloadtxt\u001b[0;34m(fname, dtype, comments, delimiter, converters, skiprows, usecols, unpack, ndmin, encoding, max_rows)\u001b[0m\n\u001b[1;32m    979\u001b[0m             \u001b[0mfname\u001b[0m \u001b[0;34m=\u001b[0m \u001b[0mos_fspath\u001b[0m\u001b[0;34m(\u001b[0m\u001b[0mfname\u001b[0m\u001b[0;34m)\u001b[0m\u001b[0;34m\u001b[0m\u001b[0m\n\u001b[1;32m    980\u001b[0m         \u001b[0;32mif\u001b[0m \u001b[0m_is_string_like\u001b[0m\u001b[0;34m(\u001b[0m\u001b[0mfname\u001b[0m\u001b[0;34m)\u001b[0m\u001b[0;34m:\u001b[0m\u001b[0;34m\u001b[0m\u001b[0m\n\u001b[0;32m--> 981\u001b[0;31m             \u001b[0mfh\u001b[0m \u001b[0;34m=\u001b[0m \u001b[0mnp\u001b[0m\u001b[0;34m.\u001b[0m\u001b[0mlib\u001b[0m\u001b[0;34m.\u001b[0m\u001b[0m_datasource\u001b[0m\u001b[0;34m.\u001b[0m\u001b[0mopen\u001b[0m\u001b[0;34m(\u001b[0m\u001b[0mfname\u001b[0m\u001b[0;34m,\u001b[0m \u001b[0;34m'rt'\u001b[0m\u001b[0;34m,\u001b[0m \u001b[0mencoding\u001b[0m\u001b[0;34m=\u001b[0m\u001b[0mencoding\u001b[0m\u001b[0;34m)\u001b[0m\u001b[0;34m\u001b[0m\u001b[0m\n\u001b[0m\u001b[1;32m    982\u001b[0m             \u001b[0mfencoding\u001b[0m \u001b[0;34m=\u001b[0m \u001b[0mgetattr\u001b[0m\u001b[0;34m(\u001b[0m\u001b[0mfh\u001b[0m\u001b[0;34m,\u001b[0m \u001b[0;34m'encoding'\u001b[0m\u001b[0;34m,\u001b[0m \u001b[0;34m'latin1'\u001b[0m\u001b[0;34m)\u001b[0m\u001b[0;34m\u001b[0m\u001b[0m\n\u001b[1;32m    983\u001b[0m             \u001b[0mfh\u001b[0m \u001b[0;34m=\u001b[0m \u001b[0miter\u001b[0m\u001b[0;34m(\u001b[0m\u001b[0mfh\u001b[0m\u001b[0;34m)\u001b[0m\u001b[0;34m\u001b[0m\u001b[0m\n",
      "\u001b[0;32m~/opt/anaconda3/envs/python37VirEnv/lib/python3.7/site-packages/numpy/lib/_datasource.py\u001b[0m in \u001b[0;36mopen\u001b[0;34m(path, mode, destpath, encoding, newline)\u001b[0m\n\u001b[1;32m    267\u001b[0m \u001b[0;34m\u001b[0m\u001b[0m\n\u001b[1;32m    268\u001b[0m     \u001b[0mds\u001b[0m \u001b[0;34m=\u001b[0m \u001b[0mDataSource\u001b[0m\u001b[0;34m(\u001b[0m\u001b[0mdestpath\u001b[0m\u001b[0;34m)\u001b[0m\u001b[0;34m\u001b[0m\u001b[0m\n\u001b[0;32m--> 269\u001b[0;31m     \u001b[0;32mreturn\u001b[0m \u001b[0mds\u001b[0m\u001b[0;34m.\u001b[0m\u001b[0mopen\u001b[0m\u001b[0;34m(\u001b[0m\u001b[0mpath\u001b[0m\u001b[0;34m,\u001b[0m \u001b[0mmode\u001b[0m\u001b[0;34m,\u001b[0m \u001b[0mencoding\u001b[0m\u001b[0;34m=\u001b[0m\u001b[0mencoding\u001b[0m\u001b[0;34m,\u001b[0m \u001b[0mnewline\u001b[0m\u001b[0;34m=\u001b[0m\u001b[0mnewline\u001b[0m\u001b[0;34m)\u001b[0m\u001b[0;34m\u001b[0m\u001b[0m\n\u001b[0m\u001b[1;32m    270\u001b[0m \u001b[0;34m\u001b[0m\u001b[0m\n\u001b[1;32m    271\u001b[0m \u001b[0;34m\u001b[0m\u001b[0m\n",
      "\u001b[0;32m~/opt/anaconda3/envs/python37VirEnv/lib/python3.7/site-packages/numpy/lib/_datasource.py\u001b[0m in \u001b[0;36mopen\u001b[0;34m(self, path, mode, encoding, newline)\u001b[0m\n\u001b[1;32m    621\u001b[0m                                       encoding=encoding, newline=newline)\n\u001b[1;32m    622\u001b[0m         \u001b[0;32melse\u001b[0m\u001b[0;34m:\u001b[0m\u001b[0;34m\u001b[0m\u001b[0m\n\u001b[0;32m--> 623\u001b[0;31m             \u001b[0;32mraise\u001b[0m \u001b[0mIOError\u001b[0m\u001b[0;34m(\u001b[0m\u001b[0;34m\"%s not found.\"\u001b[0m \u001b[0;34m%\u001b[0m \u001b[0mpath\u001b[0m\u001b[0;34m)\u001b[0m\u001b[0;34m\u001b[0m\u001b[0m\n\u001b[0m\u001b[1;32m    624\u001b[0m \u001b[0;34m\u001b[0m\u001b[0m\n\u001b[1;32m    625\u001b[0m \u001b[0;34m\u001b[0m\u001b[0m\n",
      "\u001b[0;31mOSError\u001b[0m: dumpFile/calcResults.txt not found."
     ]
    }
   ],
   "source": [
    "!rm -r dumpFile;mkdir dumpFile\n",
    "\n",
    "#--- fetch parameters\n",
    "path = confParser['input files']['input_path']\n",
    "indx = confParser['input files']['fileIndex']\n",
    "dumpFile = '%s/%s'%(path,confParser['input files']['dump file'].split()[int(indx)])\n",
    "datFile = '%s/%s'%(path,confParser['input files']['diffusion file'].split()[int(indx)])\n",
    "lib_path = confParser['input files']['lib_path']\n",
    "outpt = 'dumpFile/dump.xyz'\n",
    "outpt_headers = 'dumpFile/calcResults.txt'\n",
    "\n",
    "#--- parse dump: call ovito\n",
    "t0=time.time()\n",
    "!ovitos $lib_path/OvitosCna.py $dumpFile $outpt 1 7 $outpt_headers\n",
    "print('output dump file=%s s'%(time.time()-t0))\n",
    "\n",
    "\n",
    "#--- parse dump files\n",
    "print('parsing %s'%(outpt))\n",
    "lmpData = lp.ReadDumpFile( '%s'%(outpt) ) \n",
    "lmpData.GetCords( ncount = sys.maxsize, \n",
    "                )\n",
    "print('time steps:',lmpData.coord_atoms_broken.keys())\n",
    "display(lmpData.coord_atoms_broken[0].head())\n",
    "\n",
    "#--- add timescales\n",
    "lmpData.times = np.loadtxt(datFile)[:,0]\n",
    "\n",
    "#--- parse headers\n",
    "lmpData.headers = pd.DataFrame(np.loadtxt(outpt_headers),columns=[\"Barrier\", \"Energy\", \"Step\", \"Time\"])"
   ]
  },
  {
   "cell_type": "code",
   "execution_count": 126,
   "metadata": {},
   "outputs": [],
   "source": [
    "def AddRndStrs(df):\n",
    "    df['sxx']=np.random.normal(size=len(df))\n",
    "    df['syy']=np.random.normal(size=len(df))\n",
    "    df['szz']=np.random.normal(size=len(df))\n",
    "\n",
    "#--- add random stress\n",
    "#list( map(lambda x:AddRndStrs(lmpData.coord_atoms_broken[x]),lmpData.coord_atoms_broken.keys()) )\n"
   ]
  },
  {
   "cell_type": "markdown",
   "metadata": {},
   "source": [
    "# Displacements"
   ]
  },
  {
   "cell_type": "code",
   "execution_count": null,
   "metadata": {
    "scrolled": true
   },
   "outputs": [],
   "source": [
    "def WrapperDisp(lmpData,reference_frames,current_frames):\n",
    "    '''\n",
    "    invoke disp analysis in ovito\n",
    "    '''\n",
    "    #--- split dump file\n",
    "    for ii0, ii in zip(reference_frames,current_frames):\n",
    "        atom_current = lp.Atoms(**lmpData.coord_atoms_broken[ii])\n",
    "        atom_reference = lp.Atoms(**lmpData.coord_atoms_broken[ii0])\n",
    "        box  = lp.Box( BoxBounds = lmpData.BoxBounds[ii],  AddMissing = np.array([0.0,0.0,0.0] ))\n",
    "        box0 = lp.Box( BoxBounds = lmpData.BoxBounds[ii0], AddMissing = np.array([0.0,0.0,0.0] ))\n",
    "        lpp.WriteDumpFile(atom_current, box).Write('disp/dump_curr.xyz', itime = ii,\n",
    "                 attrs=['id', 'type','x', 'y', 'z'],\n",
    "                 fmt='%i %i %15.14e %15.14e %15.14e')\n",
    "        lpp.WriteDumpFile(atom_reference, box0).Write('disp/dump_ref.xyz', itime=ii0,\n",
    "                 attrs=['id', 'type','x', 'y', 'z'],\n",
    "                 fmt='%i %i %15.14e %15.14e %15.14e')\n",
    "    #    os.system('tar czf dump.gz dump.xyz')\n",
    "        fileCurr = 'disp/dump_curr.xyz'\n",
    "        fileRef = 'disp/dump_ref.xyz'\n",
    "        output = 'disp/disp.%s.xyz'%ii\n",
    "        #--- load to ovito\n",
    "        os.system('ovitos %s/OvitosCna.py %s %s 2 8 %s'%(lib_path,fileCurr,output,fileRef))\n",
    "        #--- concat\n",
    "        os.system('cat %s >> disp/disp.xyz;rm %s'%(output,output))\n",
    "        \n",
    "        \n",
    "        \n",
    "\n",
    "!mkdir disp\n",
    "\n",
    "#--- fetch parameters\n",
    "lib_path = confParser['input files']['lib_path']\n",
    "outpt = 'disp/disp.xyz'\n",
    "!rm $outpt\n",
    "\n",
    "current_frames = np.array(list(lmpData.coord_atoms_broken.keys()))[::2] #--- ignore half steps\n",
    "current_frames.sort()\n",
    "print('current_frames=',current_frames)\n",
    "#--- reference\n",
    "reference_frames = [current_frames[0]]*len(current_frames)\n",
    "print('reference_frames=',reference_frames)\n",
    "    \n",
    "    \n",
    "#--- call ovito\n",
    "WrapperDisp(lmpData,reference_frames,current_frames)\n",
    "\n",
    "\n",
    "#--- parse dump files\n",
    "print('parsing %s'%(outpt))\n",
    "lmpDisp = lp.ReadDumpFile( 'disp/disp.xyz' )\n",
    "lmpDisp.GetCords( ncount = sys.maxsize )\n",
    "display(lmpDisp.coord_atoms_broken[0].head())\n"
   ]
  },
  {
   "cell_type": "markdown",
   "metadata": {},
   "source": [
    "## msd vs. time"
   ]
  },
  {
   "cell_type": "code",
   "execution_count": 136,
   "metadata": {},
   "outputs": [
    {
     "name": "stdout",
     "output_type": "stream",
     "text": [
      "mkdir: msd: File exists\r\n"
     ]
    }
   ],
   "source": [
    "class MsDisp:\n",
    "    \n",
    "    def __init__(self, lmpDisp, filtr):\n",
    "        self.disp = lmpDisp.coord_atoms_broken\n",
    "        \n",
    "        self.times = list(lmpDisp.coord_atoms_broken.keys())\n",
    "        self.times.sort()\n",
    "        \n",
    "        self.filtr=filtr\n",
    "    \n",
    "    def Get(self):\n",
    "        msd = list(map(lambda x:(self.disp[x]['DisplacementX']**2+\\\n",
    "                     self.disp[x]['DisplacementY']**2+\\\n",
    "                     self.disp[x]['DisplacementZ']**2).mean(),\n",
    "                self.times))\n",
    "        return np.array(msd)\n",
    "        \n",
    "\n",
    "    def WindowAverage(self,ttime,bins_per_decade=4):\n",
    "        for shift in range(1,len(self.times)-1):\n",
    "    #        shift = 1 #--- time index  shift\n",
    "            dt = zip(self.times,self.times[shift:]) #--- time tuples\n",
    "            dt_real = list(map(lambda x: x[1]-x[0], zip(ttime,ttime[shift:]))) #--- real time difference\n",
    "            disp = list(map(lambda x: ((self.disp[x[1]]['DisplacementX'][self.filtr]-self.disp[x[0]]['DisplacementX'][self.filtr])**2+\\\n",
    "                          (self.disp[x[1]]['DisplacementY'][self.filtr]-self.disp[x[0]]['DisplacementY'][self.filtr])**2+\\\n",
    "                          (self.disp[x[1]]['DisplacementZ'][self.filtr]-self.disp[x[0]]['DisplacementZ'][self.filtr])**2).mean(),\n",
    "                zip(self.times,self.times[shift:])))\n",
    "            \n",
    "#            print(np.c_[dt_real,disp].shape)\n",
    "            if shift == 1:\n",
    "                tr_mat=np.c_[dt_real,disp]\n",
    "            else:    \n",
    "                tr_mat = np.concatenate([tr_mat,np.c_[dt_real,disp]],axis=0)\n",
    "                \n",
    "                \n",
    "                \n",
    "        #--- binning\n",
    "        xmin = 0.99*tr_mat[:,0].min()\n",
    "        xmax = 1.01*tr_mat[:,0].max()\n",
    "        n_decades = int(np.ceil(np.log10(xmax/xmin)))\n",
    "        bins = np.logspace(np.log10(xmin),np.log10(xmax),n_decades*bins_per_decade)\n",
    "        #\n",
    "        ysum, edges = np.histogram(tr_mat[:,0],bins=bins,weights=tr_mat[:,1])\n",
    "        ysum_sq, edges = np.histogram(tr_mat[:,0],bins=bins,weights=tr_mat[:,1]*tr_mat[:,1])\n",
    "        xsum, edges = np.histogram(tr_mat[:,0],bins=bins,weights=tr_mat[:,0])\n",
    "        count, edges = np.histogram(tr_mat[:,0],bins=bins)\n",
    "        #\n",
    "        filtr = count > 1\n",
    "        ysum = ysum[filtr]\n",
    "        ysum_sq = ysum_sq[filtr]\n",
    "        xsum = xsum[filtr]\n",
    "        count = count[filtr]\n",
    "        assert not np.any(count == 0), 'incerease bin size!'\n",
    "        #\n",
    "        ysum_sq /= count\n",
    "        ysum /= count\n",
    "        xsum /= count\n",
    "        ysum_sq -= (ysum * ysum)\n",
    "#        assert not np.any(ysum_sq < 0.0), 'print %s'%ysum_sq\n",
    "        \n",
    "        return np.c_[xsum,ysum,(ysum_sq/count)**0.5]\n",
    "\n",
    "msd = MsDisp( lmpDisp, \n",
    "              np.ones(lmpDisp.coord_atoms_broken[0].shape[0],dtype=bool) #--- filter \n",
    "            )\n",
    "ans = msd.WindowAverage(lmpData.times,bins_per_decade=4)\n",
    "\n",
    "!mkdir msd\n",
    "with open('msd/msd.txt','w') as fp:\n",
    "    np.savetxt(fp,ans,header='t\\tmsd\\terr')\n",
    "with open('msd/event_times.txt','w') as fp:\n",
    "    np.savetxt(fp,lmpData.times,header='t')\n",
    "    \n",
    "#--- filter based on atom types\n",
    "types = list(set(lmpDisp.coord_atoms_broken[0]['type']))\n",
    "for itype in types:\n",
    "    filtr = lmpDisp.coord_atoms_broken[0]['type'] == itype\n",
    "    msd = MsDisp( lmpDisp, \n",
    "              filtr #--- filter \n",
    "            )\n",
    "    ans = msd.WindowAverage(lmpData.times,bins_per_decade=4)\n",
    "    #--- print\n",
    "    with open('msd/msd_type%s.txt'%itype,'w') as fp:\n",
    "        np.savetxt(fp,ans,header='t\\tmsd\\terr')\n",
    "    with open('msd/event_times_type%s.txt'%itype,'w') as fp:\n",
    "        np.savetxt(fp,lmpData.times,header='t')\n",
    "\n"
   ]
  },
  {
   "cell_type": "code",
   "execution_count": 138,
   "metadata": {},
   "outputs": [
    {
     "name": "stdout",
     "output_type": "stream",
     "text": [
      "mkdir: png: File exists\r\n"
     ]
    },
    {
     "data": {
      "image/png": "[encoded data removed]",
      "text/plain": [
       "<Figure size 288x288 with 1 Axes>"
      ]
     },
     "metadata": {
      "needs_background": "light"
     },
     "output_type": "display_data"
    },
    {
     "data": {
      "text/plain": [
       "<AxesSubplot:xlabel='$t\\\\mathrm{(s)}$', ylabel='msd(A$^2$)'>"
      ]
     },
     "execution_count": 138,
     "metadata": {},
     "output_type": "execute_result"
    }
   ],
   "source": [
    "!mkdir png\n",
    "symbols=utl.Symbols()\n",
    "ax = utl.PltErr(ans[:,0],\n",
    "                1e8*ans[:,0],\n",
    "                attrs={'fmt':'-.r'},Plot=False)\n",
    "\n",
    "utl.PltErr(ans[:,0],ans[:,1],\n",
    "           yerr=ans[:,2],\n",
    "           ax = ax,\n",
    "           attrs=symbols.GetAttrs(count=0),\n",
    "           Plot=False,\n",
    "          )\n",
    "utl.PltErr(None,#lmpData.times[1:],\n",
    "           None, #msd.Get()[1:],\n",
    "          xscale='log',\n",
    "          yscale='log',\n",
    "           attrs={'fmt':'-'},\n",
    "           ax=ax,\n",
    "#           ylim=(1e-4,1e-1),\n",
    "           xstr=r'$t\\mathrm{(s)}$',\n",
    "           ystr=r'msd(A$^2$)',\n",
    "           title='png/msd.png'\n",
    "          )"
   ]
  },
  {
   "cell_type": "markdown",
   "metadata": {},
   "source": [
    "## arrhenius law"
   ]
  },
  {
   "cell_type": "code",
   "execution_count": 20,
   "metadata": {
    "scrolled": false
   },
   "outputs": [
    {
     "name": "stdout",
     "output_type": "stream",
     "text": [
      "mkdir: cannot create directory ‘png’: File exists\n",
      "ensemble average\n",
      "Temp=300,x0,y0,c0,alpha [9.77441951e-03 2.28712842e-04 2.25551855e-02 1.00100000e+00]\n"
     ]
    },
    {
     "data": {
      "image/png": "[encoded data removed]",
      "text/plain": [
       "<Figure size 288x288 with 1 Axes>"
      ]
     },
     "metadata": {
      "needs_background": "light"
     },
     "output_type": "display_data"
    },
    {
     "data": {
      "image/png": "[encoded data removed]",
      "text/plain": [
       "<Figure size 288x288 with 1 Axes>"
      ]
     },
     "metadata": {
      "needs_background": "light"
     },
     "output_type": "display_data"
    },
    {
     "data": {
      "image/png": "[encoded data removed]",
      "text/plain": [
       "<Figure size 288x288 with 1 Axes>"
      ]
     },
     "metadata": {
      "needs_background": "light"
     },
     "output_type": "display_data"
    },
    {
     "name": "stdout",
     "output_type": "stream",
     "text": [
      "Temp=1400,x0,y0,c0,alpha [5.91645638e-04 3.72611876e-04 6.59601966e-01 9.99000000e-01]\n"
     ]
    },
    {
     "data": {
      "image/png": "[encoded data removed]",
      "text/plain": [
       "<Figure size 288x288 with 1 Axes>"
      ]
     },
     "metadata": {
      "needs_background": "light"
     },
     "output_type": "display_data"
    },
    {
     "data": {
      "image/png": "[encoded data removed]",
      "text/plain": [
       "<Figure size 288x288 with 1 Axes>"
      ]
     },
     "metadata": {
      "needs_background": "light"
     },
     "output_type": "display_data"
    }
   ],
   "source": [
    "class Temperature:\n",
    "    \n",
    "    def __init__(self,temp_range,nrun):\n",
    "        self.temps =  temp_range\n",
    "        self.nrun = nrun\n",
    "        t,r=np.meshgrid(self.temps,np.arange(nrun))\n",
    "        self.temps_runs = np.array(list(zip(t.flatten(),r.flatten())))\n",
    "        \n",
    "    def Parse(self,dirs):\n",
    "        self.data=list(map(lambda x:np.loadtxt(x),dirs))\n",
    "        \n",
    "        \n",
    "    def Plot(self):\n",
    "#        print(list(self.temps_runs))\n",
    "        self.ax = utl.PltErr(None,#ans[:,0],\n",
    "                        None,#1e8*ans[:,0],\n",
    "                        attrs={'fmt':'-.r'},Plot=False)\n",
    "\n",
    "        symbols=utl.Symbols()\n",
    "        legends = Legends()\n",
    "        legends.Set(bbox_to_anchor=(1.0,0.5,0.5,0.5))\n",
    "        for data, temp_run, count in zip(self.data,self.temps_runs,range(len(self.data))): \n",
    "            temp = temp_run[0]\n",
    "            utl.PltErr(data[:,0],data[:,1],\n",
    "                   yerr=data[:,2],\n",
    "                   ax = self.ax,\n",
    "                   attrs=symbols.GetAttrs(count=count%7,label=r'$%s$'%temp),\n",
    "                   Plot=False,\n",
    "                  )\n",
    "\n",
    "        utl.PltErr(None,#lmpData.times[1:],\n",
    "                   None, #msd.Get()[1:],\n",
    "                  xscale='log',\n",
    "                  yscale='log',\n",
    "                   attrs={'fmt':'-'},\n",
    "                   ax=self.ax,\n",
    "                   Plot=False,\n",
    "#                   xlim=(1e-10,1e-3),\n",
    "#                   ylim=(1e-4,1e-1),\n",
    "                   xstr=r'$t\\mathrm{(s)}$',\n",
    "                   ystr=r'msd(A$^2$)',\n",
    "#                   title=['png/msd_temp_pureNi.png','png/msd_temp_Cantor.png'][0],\n",
    "                    legend=legends.Get(),\n",
    "                   DrawFrame=DRAW_FRAME,\n",
    "                  )\n",
    "        \n",
    "    def EnsAverage(self):\n",
    "        kount = 0\n",
    "        self.data_averaged = {} #np.zeros(len(self.temps))\n",
    "        n_thresh = 1\n",
    "        for temp, indx in zip(self.temps,range(len(self.temps))):\n",
    "            #--- concat. data for each temp\n",
    "            data = self.data[kount:kount+self.nrun]\n",
    "            data = np.concatenate(data,axis=0)\n",
    "            #--- average\n",
    "            xdata = data[:,0]\n",
    "            ydata = data[:,1]\n",
    "            xmin = np.floor(np.log10(xdata).min())\n",
    "            xmax = np.ceil(np.log10(xdata).max())\n",
    "            n_decades = int((xmax - xmin))\n",
    "            bins = np.logspace(xmin,xmax,n_decades*4)\n",
    "            #\n",
    "            count, _ = np.histogram(xdata,bins=bins)\n",
    "            xsum, _  = np.histogram(xdata,bins=bins,weights=xdata)\n",
    "            ysum, _  = np.histogram(xdata,bins=bins,weights=ydata)\n",
    "            ysum_sq, _  = np.histogram(xdata,bins=bins,weights=ydata*ydata)\n",
    "            #\n",
    "            xsum = xsum[count>n_thresh]\n",
    "            ysum = ysum[count>n_thresh]\n",
    "            ysum_sq = ysum_sq[count>n_thresh]\n",
    "            count = count[count>n_thresh]\n",
    "            #\n",
    "            xsum /= count\n",
    "            ysum /= count\n",
    "            ysum_sq /= count\n",
    "            std = np.sqrt((ysum_sq - ysum * ysum)/count)\n",
    "        \n",
    "            self.data_averaged[ temp ] = np.c_[xsum,ysum,std]\n",
    "        \n",
    "        \n",
    "#            utl.PltErr(xsum,ysum,ax=self.ax)\n",
    "            \n",
    "            kount += self.nrun\n",
    "\n",
    "    def PlotAverage(self):\n",
    "#        print(list(self.temps_runs))\n",
    "        self.ax = utl.PltErr(None,#ans[:,0],\n",
    "                        None,#1e8*ans[:,0],\n",
    "                        attrs={'fmt':'-.r'},Plot=False)\n",
    "\n",
    "        symbols=utl.Symbols()\n",
    "        legends = Legends()\n",
    "        legends.Set(bbox_to_anchor=(1.0,0.5,0.5,0.5))\n",
    "        for temp, count in zip(self.temps,range(len(self.temps))): \n",
    "            data = self.data_averaged[ temp ]\n",
    "            utl.PltErr(data[:,0],data[:,1],\n",
    "                   yerr=data[:,2],\n",
    "                   ax = self.ax,\n",
    "                   attrs=symbols.GetAttrs(count=count%7,label=r'$%s$'%temp),\n",
    "                   Plot=False,\n",
    "                  )\n",
    "\n",
    "        utl.PltErr(None,#lmpData.times[1:],\n",
    "                   None, #msd.Get()[1:],\n",
    "                  xscale='log',\n",
    "                  yscale='log',\n",
    "                   attrs={'fmt':'-'},\n",
    "                   ax=self.ax,\n",
    "                   Plot=False,\n",
    "#                   xlim=(1e-10,1e-3),\n",
    "#                   ylim=(1e-4,1e-1),\n",
    "                   xstr=r'$t\\mathrm{(s)}$',\n",
    "                   ystr=r'msd(A$^2$)',\n",
    "                   title='png/msd_temp_pureNi.png',\n",
    "#                    legend=legends.Get(),\n",
    "                   DrawFrame=DRAW_FRAME,\n",
    "                  )\n",
    "        \n",
    "        \n",
    "    def func(self,x,x0,y0,c0,alpha):\n",
    "        return y0+c0*(x/x0)**alpha\n",
    "\n",
    "    def Fit(self,Plot=None,verbose=None):\n",
    "        self.Diffusion = {}\n",
    "        pref=1e-10*1e-10 #--- ang^2 to m^2\n",
    "\n",
    "        for temp, count in zip(self.temps,range(len(self.temps))): \n",
    "            smat = self.data_averaged[ temp ]\n",
    "\n",
    "            xdata=smat[:,0]\n",
    "            ydata=smat[:,1]\n",
    "            yerr = smat[:,2]\n",
    "            popt, pcov = curve_fit(self.func, xdata, ydata, \n",
    "                                   bounds=([0, 0, 0,0.999], [1e-2, 1., 1,1.001]),\n",
    "                                   sigma=yerr,\n",
    "                                    )\n",
    "            if verbose:\n",
    "                print('Temp=%s,x0,y0,c0,alpha'%temp,popt)\n",
    "            c0=popt[2]\n",
    "            tau=popt[0]\n",
    "            self.Diffusion[temp] = pref*c0/tau\n",
    "\n",
    "            if Plot:\n",
    "                ax = utl.PltErr(xdata,\n",
    "                                self.func(xdata,*popt),\n",
    "                                attrs={'fmt':'-.r'},Plot=False)\n",
    "                utl.PltErr(xdata,\n",
    "                           ydata,\n",
    "                           yerr=yerr,\n",
    "                          xscale='log',\n",
    "                          yscale='log',\n",
    "                           attrs={'fmt':'-'},\n",
    "                           ax=ax,\n",
    "                           xstr=r'$t\\mathrm{(s)}$',\n",
    "                           ystr=r'msd(A$^2$)',\n",
    "            #               title='png/msd_pureNi.png',\n",
    "                #           legend=legends.Get()\n",
    "                          )\n",
    "\n",
    "    def PlotDiff(self):\n",
    "        symbols=utl.Symbols()\n",
    "        utl.PltErr(1.0/np.array(self.temps),\n",
    "                   list(map(lambda x:self.Diffusion[x],self.temps)),\n",
    "                  yscale='log',\n",
    "                   attrs=symbols.GetAttrs(),\n",
    "#                           ylim=(1e-13,1e-11),\n",
    "                   xstr=r'$1/T(K^{-1})$',\n",
    "                   ystr=r'$D(m^2/s)$',\n",
    "                   DrawFrame=DRAW_FRAME,\n",
    "                   title=['png/D_temp_pureNi.png','png/D_temp_Cantor.png'][0],\n",
    "                  )\n",
    "\n",
    "if not eval(confParser['flags']['RemoteMachine']):\n",
    "    !mkdir png\n",
    "    temp = Temperature(#[1000],1\n",
    "                       #list(map(int,np.linspace(1000,1400,11))),3\n",
    "#                        np.arange(300,1000,100),3\n",
    "                        [300,1400],3\n",
    "                      )\n",
    "    temp.Parse( list(map(lambda x:'CantorNatom16KTemp%sK_ensemble_min/Run%s/msd/msd.txt'%(x[0],x[1]),\n",
    "                        temp.temps_runs ))\n",
    "              )\n",
    "    #\n",
    "#    print('single realizations')\n",
    "    temp.Plot()\n",
    "    #\n",
    "    print('ensemble average')\n",
    "    temp.EnsAverage()\n",
    "    temp.PlotAverage()\n",
    "    #\n",
    "    temp.Fit(Plot=True,\n",
    "             verbose=True\n",
    "            )\n",
    "    temp.PlotDiff()\n"
   ]
  },
  {
   "cell_type": "code",
   "execution_count": 21,
   "metadata": {},
   "outputs": [
    {
     "data": {
      "text/plain": [
       "array([[ 300,    0],\n",
       "       [1400,    0],\n",
       "       [ 300,    1],\n",
       "       [1400,    1],\n",
       "       [ 300,    2],\n",
       "       [1400,    2]])"
      ]
     },
     "execution_count": 21,
     "metadata": {},
     "output_type": "execute_result"
    }
   ],
   "source": [
    "temp.temps_runs"
   ]
  },
  {
   "cell_type": "code",
   "execution_count": 6,
   "metadata": {},
   "outputs": [
    {
     "data": {
      "text/plain": [
       "array([1400, 1500, 1600, 1700, 1800, 1900, 2000])"
      ]
     },
     "execution_count": 6,
     "metadata": {},
     "output_type": "execute_result"
    }
   ],
   "source": [
    "np.arange(1400,2100,100)"
   ]
  },
  {
   "cell_type": "markdown",
   "metadata": {},
   "source": [
    "### per type"
   ]
  },
  {
   "cell_type": "code",
   "execution_count": 26,
   "metadata": {
    "scrolled": false
   },
   "outputs": [
    {
     "name": "stdout",
     "output_type": "stream",
     "text": [
      "mkdir: cannot create directory ‘png’: File exists\n",
      "ensemble average: type 1\n",
      "ensemble average: type 2\n",
      "ensemble average: type 3\n",
      "ensemble average: type 4\n",
      "ensemble average: type 5\n"
     ]
    },
    {
     "data": {
      "image/png": "[encoded data removed]",
      "text/plain": [
       "<Figure size 288x288 with 1 Axes>"
      ]
     },
     "metadata": {
      "needs_background": "light"
     },
     "output_type": "display_data"
    }
   ],
   "source": [
    "if not eval(confParser['flags']['RemoteMachine']):\n",
    "    !mkdir png\n",
    "    ax = utl.PltErr(None,None,Plot=False)\n",
    "    symbols=utl.Symbols()\n",
    "    legends = Legends()\n",
    "    legends.Set(bbox_to_anchor=(1.0,0.5,0.5,0.5))\n",
    " \n",
    "                       \n",
    "    ntype = 5\n",
    "    for itype in range(1,ntype+1):\n",
    "        temp = Temperature(#[1000],3\n",
    "                           list(map(int,np.linspace(1000,1400,11))),3\n",
    "                          )\n",
    "        temp.Parse( list(map(lambda x:'CantorNatom16KTemp%sK_ensemble/Run%s/msd/msd_type%s.txt'%(x[0],x[1],itype),\n",
    "                            temp.temps_runs ))\n",
    "                  )\n",
    "        #\n",
    "  #      print('single realizations')\n",
    "  #      temp.Plot()\n",
    "        #\n",
    "        print('ensemble average: type %s'%itype)\n",
    "        temp.EnsAverage()\n",
    "#         temp.PlotAverage()\n",
    "#         #\n",
    "        temp.Fit(#Plot=True,\n",
    "        #         verbose=True\n",
    "        )\n",
    "#         temp.PlotDiff()\n",
    "        \n",
    "        #--- plot\n",
    "        utl.PltErr(1/np.array(list(temp.Diffusion.keys())),\n",
    "                   list(map(lambda x:temp.Diffusion[x],list(temp.Diffusion.keys()))),\n",
    "                       Plot=False,\n",
    "                   ax=ax,\n",
    "                   attrs=symbols.GetAttrs(count=(itype-1)%7,label=r'$%s$'%temp),\n",
    "                 )\n",
    "    utl.PltErr(None,None,\n",
    "               ax=ax,\n",
    "               yscale='log',\n",
    "               ylim=(1e-15,1e-11),\n",
    "              xstr=r'$1/T(K^{-1})$',\n",
    "              ystr=r'$D(m^2/s)$',\n",
    "              )"
   ]
  },
  {
   "cell_type": "code",
   "execution_count": 97,
   "metadata": {},
   "outputs": [
    {
     "data": {
      "image/png": "[encoded data removed]",
      "text/plain": [
       "<Figure size 288x288 with 1 Axes>"
      ]
     },
     "metadata": {
      "needs_background": "light"
     },
     "output_type": "display_data"
    },
    {
     "data": {
      "image/png": "[encoded data removed]",
      "text/plain": [
       "<Figure size 288x288 with 1 Axes>"
      ]
     },
     "metadata": {
      "needs_background": "light"
     },
     "output_type": "display_data"
    }
   ],
   "source": [
    "class Stats:\n",
    "    def __init__(self,lmpData):\n",
    "        self.lmpData=lmpData\n",
    "    #\n",
    "    def PlotWaitTimes(self):\n",
    "        times = np.array(np.c_[self.lmpData.headers['Time'].iloc[0::2]].flatten())\n",
    "        dtt = times[1:]-times[:-1]\n",
    "        assert not np.any(dtt<0.0)\n",
    "        filtr = dtt > 0.0\n",
    "        hist, bin_edges, err = utl.GetPDF(dtt[filtr],n_per_decade=4)\n",
    "        utl.PltErr(bin_edges,hist,\n",
    "                  yerr=err,\n",
    "                   attrs=symbols.GetAttrs(),\n",
    "                   yscale='log',\n",
    "                   xscale='log',\n",
    "                   xstr=r'$\\Delta t$',\n",
    "                   ystr=r'$P(\\Delta t)$'\n",
    "                  )\n",
    "    #\n",
    "    def Barries(self):\n",
    "        Barrier = self.lmpData.headers['Barrier'].iloc[1::2]        \n",
    "        hist, bin_edges, err = utl.GetPDF(Barrier,linscale=True,n_per_decade=16)\n",
    "        utl.PltErr(bin_edges,hist,\n",
    "                  yerr=err,\n",
    "                   attrs=symbols.GetAttrs(),\n",
    "                   #yscale='log',\n",
    "                   #xscale='log',\n",
    "                   xstr=r'$\\Delta E$',\n",
    "                   ystr=r'$P(\\Delta E)$'\n",
    "                  )\n",
    "stats = Stats(lmpData)\n",
    "stats.PlotWaitTimes()\n",
    "stats.Barries()"
   ]
  },
  {
   "cell_type": "code",
   "execution_count": 84,
   "metadata": {},
   "outputs": [
    {
     "name": "stdout",
     "output_type": "stream",
     "text": [
      "Help on function GetPDF in module utility:\n",
      "\n",
      "GetPDF(slist, n_per_decade=4, ACCUM=None, linscale=None, density=True)\n",
      "\n"
     ]
    }
   ],
   "source": [
    "help(utl.GetPDF)"
   ]
  },
  {
   "cell_type": "code",
   "execution_count": 66,
   "metadata": {},
   "outputs": [],
   "source": []
  },
  {
   "cell_type": "code",
   "execution_count": 67,
   "metadata": {},
   "outputs": [],
   "source": []
  },
  {
   "cell_type": "code",
   "execution_count": 68,
   "metadata": {},
   "outputs": [],
   "source": [
    "Energy = lmpData.headers['Energy']"
   ]
  },
  {
   "cell_type": "code",
   "execution_count": 71,
   "metadata": {},
   "outputs": [
    {
     "data": {
      "text/plain": [
       "[<matplotlib.lines.Line2D at 0x127a60df0>]"
      ]
     },
     "execution_count": 71,
     "metadata": {},
     "output_type": "execute_result"
    },
    {
     "data": {
      "image/png": "[encoded data removed]",
      "text/plain": [
       "<Figure size 432x288 with 1 Axes>"
      ]
     },
     "metadata": {
      "needs_background": "light"
     },
     "output_type": "display_data"
    }
   ],
   "source": [
    "plt.plot(times,np.ones(len(times)),'x')"
   ]
  },
  {
   "cell_type": "code",
   "execution_count": 91,
   "metadata": {},
   "outputs": [
    {
     "data": {
      "text/plain": [
       "[<matplotlib.lines.Line2D at 0x128183640>]"
      ]
     },
     "execution_count": 91,
     "metadata": {},
     "output_type": "execute_result"
    },
    {
     "data": {
      "image/png": "[encoded data removed]",
      "text/plain": [
       "<Figure size 432x288 with 1 Axes>"
      ]
     },
     "metadata": {
      "needs_background": "light"
     },
     "output_type": "display_data"
    }
   ],
   "source": [
    "plt.plot(Barrier,'x')"
   ]
  },
  {
   "cell_type": "code",
   "execution_count": 95,
   "metadata": {},
   "outputs": [
    {
     "data": {
      "text/plain": [
       "[<matplotlib.lines.Line2D at 0x127e5ea60>]"
      ]
     },
     "execution_count": 95,
     "metadata": {},
     "output_type": "execute_result"
    },
    {
     "data": {
      "image/png": "[encoded data removed]",
      "text/plain": [
       "<Figure size 432x288 with 1 Axes>"
      ]
     },
     "metadata": {
      "needs_background": "light"
     },
     "output_type": "display_data"
    }
   ],
   "source": [
    "plt.plot(lmpData.headers['Time'],Energy,'-o')"
   ]
  },
  {
   "cell_type": "code",
   "execution_count": null,
   "metadata": {},
   "outputs": [],
   "source": []
  }
 ],
 "metadata": {
  "kernelspec": {
   "display_name": "python37VirEnv",
   "language": "python",
   "name": "python37virenv"
  },
  "language_info": {
   "codemirror_mode": {
    "name": "ipython",
    "version": 3
   },
   "file_extension": ".py",
   "mimetype": "text/x-python",
   "name": "python",
   "nbconvert_exporter": "python",
   "pygments_lexer": "ipython3",
   "version": "3.7.0"
  },
  "toc": {
   "base_numbering": 1,
   "nav_menu": {},
   "number_sections": true,
   "sideBar": true,
   "skip_h1_title": false,
   "title_cell": "Table of Contents",
   "title_sidebar": "Contents",
   "toc_cell": false,
   "toc_position": {
    "height": "calc(100% - 180px)",
    "left": "10px",
    "top": "150px",
    "width": "497.594px"
   },
   "toc_section_display": true,
   "toc_window_display": true
  }
 },
 "nbformat": 4,
 "nbformat_minor": 4
}
