{
 "cells": [
  {
   "cell_type": "markdown",
   "metadata": {},
   "source": [
    "# parsing configuration file"
   ]
  },
  {
   "cell_type": "code",
   "execution_count": 2,
   "metadata": {},
   "outputs": [],
   "source": [
    "import configparser\n",
    "confParser = configparser.ConfigParser()"
   ]
  },
  {
   "cell_type": "code",
   "execution_count": 3,
   "metadata": {},
   "outputs": [
    {
     "name": "stdout",
     "output_type": "stream",
     "text": [
      "conf. file sections: ['parameters', 'flags', 'neigh list', 'dislocation analysis', 'input files', 'Atomic Radius']\n"
     ]
    }
   ],
   "source": [
    "#--- parse conf. file\n",
    "confParser.read('configuration.ini')\n",
    "print('conf. file sections:',confParser.sections())\n",
    "\n",
    "#--- set dynamic parameters\n",
    "temp=confParser['parameters']['temperature']\n",
    "load=confParser['parameters']['load']\n",
    "\n",
    "#--- edit list of input files\n",
    "confParser.set('input files','dump file',''.join([\n",
    "               'allconf ', #0\n",
    "              ]))\n",
    "confParser.set('input files','diffusion file',''.join([\n",
    "               'Diffusion.dat ', #0\n",
    "              ]))\n"
   ]
  },
  {
   "cell_type": "markdown",
   "metadata": {},
   "source": [
    "# import libraries"
   ]
  },
  {
   "cell_type": "code",
   "execution_count": 4,
   "metadata": {},
   "outputs": [
    {
     "data": {
      "text/plain": [
       "<module 'utilityy' from '/Users/Home/Desktop/Tmp/txt/git/vacancyDiffusion/postproc/../../HeaDef/postprocess/utilityy.py'>"
      ]
     },
     "execution_count": 4,
     "metadata": {},
     "output_type": "execute_result"
    }
   ],
   "source": [
    "import sys\n",
    "sys.path.append(confParser['input files']['lib_path'])\n",
    "\n",
    "#--- system libraries\n",
    "import pdb\n",
    "import pandas as pd\n",
    "import numpy as np\n",
    "import matplotlib.pylab as plt\n",
    "import matplotlib as mpl\n",
    "import traceback\n",
    "import os\n",
    "import scipy.interpolate as scp_int\n",
    "import warnings\n",
    "import matplotlib\n",
    "from matplotlib.ticker import (MultipleLocator, AutoMinorLocator)\n",
    "from matplotlib import patches\n",
    "import sys\n",
    "import sklearn\n",
    "from sklearn.preprocessing import PolynomialFeatures\n",
    "from sklearn.linear_model import LinearRegression\n",
    "from sklearn.model_selection import cross_validate\n",
    "import patsy\n",
    "from sklearn import linear_model, mixture\n",
    "import sklearn.mixture as skm\n",
    "from scipy import optimize\n",
    "import scipy\n",
    "import re\n",
    "from functools import reduce\n",
    "import time\n",
    "import fnmatch\n",
    "\n",
    "#\n",
    "warnings.filterwarnings('ignore')\n",
    "\n",
    "#--- user modules\n",
    "import LammpsPostProcess as lp\n",
    "import LammpsPostProcess2nd as lpp\n",
    "import utilityy as utll\n",
    "import utility as utl\n",
    "from utility import *\n",
    "import imp\n",
    "imp.reload(lp)\n",
    "imp.reload(lpp)\n",
    "imp.reload(utl)\n",
    "imp.reload(utll)"
   ]
  },
  {
   "cell_type": "code",
   "execution_count": 5,
   "metadata": {},
   "outputs": [],
   "source": [
    "class Symbols:\n",
    "    def __init__(self):\n",
    "        self.colors = ['black','red','green','blue','cyan','brown','grey','magenta','orange','yellow']\n",
    "        self.fillstyles=['white',None,'white',None,'white',None,'white',None,'white',None,'white',None,'white',None,'white',None]\n",
    "        self.markers=['o','s','D','^','<','>','v']\n",
    "        self.markersizes=[10,10,10,12,12,12,10]\n",
    "        self.nmax=7\n",
    "        \n",
    "    def GetAttrs(self,count=0,label='',nevery=1,fmt='.-',zorder=1):\n",
    "        if count > self.nmax:\n",
    "            print('index out of list bound!')\n",
    "            return \n",
    "        attrs={ 'color':self.colors[count],\n",
    "            'markersize':self.markersizes[count],\n",
    "            'marker':self.markers[count],\n",
    "            'markerfacecolor':self.colors[count],\n",
    "            'markeredgecolor':'white', #'black' if not self.fillstyles[count] else None,\n",
    "            'label':label,\n",
    "           'markevery':nevery,\n",
    "           'errorevery':nevery,\n",
    "           'markeredgewidth':1.75,\n",
    "            'linewidth':1, \n",
    "           'barsabove':None,\n",
    "           'capsize':5,\n",
    "           'capthick':1,\n",
    "           'elinewidth':1,\n",
    "           'fmt':fmt,\n",
    "             'zorder':zorder,\n",
    "         }\n",
    "        return attrs\n",
    "    \n",
    "    def GetAttrs2nd(self,count=0,label='',nevery=1,fmt='.-',zorder=1):\n",
    "        if count > self.nmax:\n",
    "            print('index out of list bound!')\n",
    "            return \n",
    "        attrs={ 'color':self.colors[count],\n",
    "            'markersize':self.markersizes[count],\n",
    "            'marker':self.markers[count],\n",
    "            'markerfacecolor':'white',\n",
    "#            'markeredgecolor':'black' if not self.fillstyles[count] else None,\n",
    "            'label':label,\n",
    "           'markevery':nevery,\n",
    "           'errorevery':nevery,\n",
    "           'markeredgewidth':1.75,\n",
    "            'linewidth':1, \n",
    "           'barsabove':None,\n",
    "           'capsize':5,\n",
    "           'capthick':1,\n",
    "           'elinewidth':1,\n",
    "           'fmt':fmt,\n",
    "            'zorder':zorder,\n",
    "          }\n",
    "        return attrs\n",
    "\n",
    "class Legends:\n",
    "    def __init__(self\n",
    "                ):\n",
    "        pass\n",
    "    def Set(self,fontsize=20,\n",
    "                 labelspacing=0,\n",
    "                 **kwargs\n",
    "#                 bbox_to_anchor=(0.5,0.48,0.5,0.5),\n",
    "           ):\n",
    "        self.attrs = {'frameon':False,'fontsize':fontsize,\n",
    "                   'labelspacing':labelspacing,\n",
    "                      'handletextpad':.2,\n",
    "                   'handlelength':1,\n",
    "                    **kwargs,\n",
    "                     }\n",
    "    def Get(self):\n",
    "        return self.attrs\n",
    "    \n",
    "if not eval(confParser['flags']['RemoteMachine']):\n",
    "    matplotlib.rcParams['text.usetex'] = True #--- comment tex stuff!"
   ]
  },
  {
   "cell_type": "markdown",
   "metadata": {},
   "source": [
    "\n",
    "# Dump File"
   ]
  },
  {
   "cell_type": "code",
   "execution_count": 6,
   "metadata": {
    "scrolled": false
   },
   "outputs": [
    {
     "name": "stdout",
     "output_type": "stream",
     "text": [
      "mkdir: dumpFile: File exists\n",
      "InputFile= ../simulations/NiNatom16KTemp1400K/Run0/allconf\n",
      "num_frames= 201\n",
      "frame=0\n",
      "frame=1\n",
      "frame=2\n",
      "frame=3\n",
      "frame=4\n",
      "frame=5\n",
      "frame=6\n",
      "frame=7\n",
      "frame=8\n",
      "frame=9\n",
      "frame=10\n",
      "frame=11\n",
      "frame=12\n",
      "frame=13\n",
      "frame=14\n",
      "frame=15\n",
      "frame=16\n",
      "frame=17\n",
      "frame=18\n",
      "frame=19\n",
      "frame=20\n",
      "frame=21\n",
      "frame=22\n",
      "frame=23\n",
      "frame=24\n",
      "frame=25\n",
      "frame=26\n",
      "frame=27\n",
      "frame=28\n",
      "frame=29\n",
      "frame=30\n",
      "frame=31\n",
      "frame=32\n",
      "frame=33\n",
      "frame=34\n",
      "frame=35\n",
      "frame=36\n",
      "frame=37\n",
      "frame=38\n",
      "frame=39\n",
      "frame=40\n",
      "frame=41\n",
      "frame=42\n",
      "frame=43\n",
      "frame=44\n",
      "frame=45\n",
      "frame=46\n",
      "frame=47\n",
      "frame=48\n",
      "frame=49\n",
      "frame=50\n",
      "frame=51\n",
      "frame=52\n",
      "frame=53\n",
      "frame=54\n",
      "frame=55\n",
      "frame=56\n",
      "frame=57\n",
      "frame=58\n",
      "frame=59\n",
      "frame=60\n",
      "frame=61\n",
      "frame=62\n",
      "frame=63\n",
      "frame=64\n",
      "frame=65\n",
      "frame=66\n",
      "frame=67\n",
      "frame=68\n",
      "frame=69\n",
      "frame=70\n",
      "frame=71\n",
      "frame=72\n",
      "frame=73\n",
      "frame=74\n",
      "frame=75\n",
      "frame=76\n",
      "frame=77\n",
      "frame=78\n",
      "frame=79\n",
      "frame=80\n",
      "frame=81\n",
      "frame=82\n",
      "frame=83\n",
      "frame=84\n",
      "frame=85\n",
      "frame=86\n",
      "frame=87\n",
      "frame=88\n",
      "frame=89\n",
      "frame=90\n",
      "frame=91\n",
      "frame=92\n",
      "frame=93\n",
      "frame=94\n",
      "frame=95\n",
      "frame=96\n",
      "frame=97\n",
      "frame=98\n",
      "frame=99\n",
      "frame=100\n",
      "frame=101\n",
      "frame=102\n",
      "frame=103\n",
      "frame=104\n",
      "frame=105\n",
      "frame=106\n",
      "frame=107\n",
      "frame=108\n",
      "frame=109\n",
      "frame=110\n",
      "frame=111\n",
      "frame=112\n",
      "frame=113\n",
      "frame=114\n",
      "frame=115\n",
      "frame=116\n",
      "frame=117\n",
      "frame=118\n",
      "frame=119\n",
      "frame=120\n",
      "frame=121\n",
      "frame=122\n",
      "frame=123\n",
      "frame=124\n",
      "frame=125\n",
      "frame=126\n",
      "frame=127\n",
      "frame=128\n",
      "frame=129\n",
      "frame=130\n",
      "frame=131\n",
      "frame=132\n",
      "frame=133\n",
      "frame=134\n",
      "frame=135\n",
      "frame=136\n",
      "frame=137\n",
      "frame=138\n",
      "frame=139\n",
      "frame=140\n",
      "frame=141\n",
      "frame=142\n",
      "frame=143\n",
      "frame=144\n",
      "frame=145\n",
      "frame=146\n",
      "frame=147\n",
      "frame=148\n",
      "frame=149\n",
      "frame=150\n",
      "frame=151\n",
      "frame=152\n",
      "frame=153\n",
      "frame=154\n",
      "frame=155\n",
      "frame=156\n",
      "frame=157\n",
      "frame=158\n",
      "frame=159\n",
      "frame=160\n",
      "frame=161\n",
      "frame=162\n",
      "frame=163\n",
      "frame=164\n",
      "frame=165\n",
      "frame=166\n",
      "frame=167\n",
      "frame=168\n",
      "frame=169\n",
      "frame=170\n",
      "frame=171\n",
      "frame=172\n",
      "frame=173\n",
      "frame=174\n",
      "frame=175\n",
      "frame=176\n",
      "frame=177\n",
      "frame=178\n",
      "frame=179\n",
      "frame=180\n",
      "frame=181\n",
      "frame=182\n",
      "frame=183\n",
      "frame=184\n",
      "frame=185\n",
      "frame=186\n",
      "frame=187\n",
      "frame=188\n",
      "frame=189\n",
      "frame=190\n",
      "frame=191\n",
      "frame=192\n",
      "frame=193\n",
      "frame=194\n",
      "frame=195\n",
      "frame=196\n",
      "frame=197\n",
      "frame=198\n",
      "frame=199\n",
      "frame=200\n",
      "output dump file=11.198909759521484 s\n",
      "parsing dumpFile/dump.xyz\n",
      "reached end of file!\n",
      "time steps: dict_keys([0, 1, 2, 3, 4, 5, 6, 7, 8, 9, 10, 11, 12, 13, 14, 15, 16, 17, 18, 19, 20, 21, 22, 23, 24, 25, 26, 27, 28, 29, 30, 31, 32, 33, 34, 35, 36, 37, 38, 39, 40, 41, 42, 43, 44, 45, 46, 47, 48, 49, 50, 51, 52, 53, 54, 55, 56, 57, 58, 59, 60, 61, 62, 63, 64, 65, 66, 67, 68, 69, 70, 71, 72, 73, 74, 75, 76, 77, 78, 79, 80, 81, 82, 83, 84, 85, 86, 87, 88, 89, 90, 91, 92, 93, 94, 95, 96, 97, 98, 99, 100, 101, 102, 103, 104, 105, 106, 107, 108, 109, 110, 111, 112, 113, 114, 115, 116, 117, 118, 119, 120, 121, 122, 123, 124, 125, 126, 127, 128, 129, 130, 131, 132, 133, 134, 135, 136, 137, 138, 139, 140, 141, 142, 143, 144, 145, 146, 147, 148, 149, 150, 151, 152, 153, 154, 155, 156, 157, 158, 159, 160, 161, 162, 163, 164, 165, 166, 167, 168, 169, 170, 171, 172, 173, 174, 175, 176, 177, 178, 179, 180, 181, 182, 183, 184, 185, 186, 187, 188, 189, 190, 191, 192, 193, 194, 195, 196, 197, 198, 199, 200, 201])\n"
     ]
    },
    {
     "data": {
      "text/html": [
       "<div>\n",
       "<style scoped>\n",
       "    .dataframe tbody tr th:only-of-type {\n",
       "        vertical-align: middle;\n",
       "    }\n",
       "\n",
       "    .dataframe tbody tr th {\n",
       "        vertical-align: top;\n",
       "    }\n",
       "\n",
       "    .dataframe thead th {\n",
       "        text-align: right;\n",
       "    }\n",
       "</style>\n",
       "<table border=\"1\" class=\"dataframe\">\n",
       "  <thead>\n",
       "    <tr style=\"text-align: right;\">\n",
       "      <th></th>\n",
       "      <th>id</th>\n",
       "      <th>type</th>\n",
       "      <th>x</th>\n",
       "      <th>y</th>\n",
       "      <th>z</th>\n",
       "    </tr>\n",
       "  </thead>\n",
       "  <tbody>\n",
       "    <tr>\n",
       "      <th>0</th>\n",
       "      <td>1</td>\n",
       "      <td>1</td>\n",
       "      <td>7.614650</td>\n",
       "      <td>28.653929</td>\n",
       "      <td>46.186661</td>\n",
       "    </tr>\n",
       "    <tr>\n",
       "      <th>1</th>\n",
       "      <td>2</td>\n",
       "      <td>1</td>\n",
       "      <td>39.173443</td>\n",
       "      <td>9.368440</td>\n",
       "      <td>51.445854</td>\n",
       "    </tr>\n",
       "    <tr>\n",
       "      <th>2</th>\n",
       "      <td>3</td>\n",
       "      <td>1</td>\n",
       "      <td>46.186600</td>\n",
       "      <td>28.653833</td>\n",
       "      <td>39.173592</td>\n",
       "    </tr>\n",
       "    <tr>\n",
       "      <th>3</th>\n",
       "      <td>4</td>\n",
       "      <td>1</td>\n",
       "      <td>46.186661</td>\n",
       "      <td>37.420292</td>\n",
       "      <td>33.913750</td>\n",
       "    </tr>\n",
       "    <tr>\n",
       "      <th>4</th>\n",
       "      <td>5</td>\n",
       "      <td>1</td>\n",
       "      <td>49.693207</td>\n",
       "      <td>35.667023</td>\n",
       "      <td>35.667023</td>\n",
       "    </tr>\n",
       "  </tbody>\n",
       "</table>\n",
       "</div>"
      ],
      "text/plain": [
       "   id  type          x          y          z\n",
       "0   1     1   7.614650  28.653929  46.186661\n",
       "1   2     1  39.173443   9.368440  51.445854\n",
       "2   3     1  46.186600  28.653833  39.173592\n",
       "3   4     1  46.186661  37.420292  33.913750\n",
       "4   5     1  49.693207  35.667023  35.667023"
      ]
     },
     "metadata": {},
     "output_type": "display_data"
    }
   ],
   "source": [
    "!mkdir dumpFile\n",
    "\n",
    "#--- fetch parameters\n",
    "path = confParser['input files']['input_path']\n",
    "indx = confParser['input files']['fileIndex']\n",
    "dumpFile = '%s/%s'%(path,confParser['input files']['dump file'].split()[int(indx)])\n",
    "datFile = '%s/%s'%(path,confParser['input files']['diffusion file'].split()[int(indx)])\n",
    "nevery = int(confParser['parameters']['nevery'])\n",
    "lib_path = confParser['input files']['lib_path']\n",
    "outpt = 'dumpFile/dump.xyz'\n",
    "\n",
    "#--- parse dump: call ovito\n",
    "t0=time.time()\n",
    "!ovitos $lib_path/OvitosCna.py $dumpFile $outpt $nevery 7\n",
    "print('output dump file=%s s'%(time.time()-t0))\n",
    "\n",
    "\n",
    "#--- parse dump files\n",
    "print('parsing %s'%(outpt))\n",
    "lmpData = lp.ReadDumpFile( '%s'%(outpt) ) \n",
    "lmpData.GetCords( ncount = sys.maxsize, \n",
    "                )\n",
    "print('time steps:',lmpData.coord_atoms_broken.keys())\n",
    "display(lmpData.coord_atoms_broken[0].head())\n",
    "\n",
    "#--- add timescales\n",
    "lmpData.times = np.loadtxt(datFile)[:,0]\n",
    "\n"
   ]
  },
  {
   "cell_type": "code",
   "execution_count": 296,
   "metadata": {},
   "outputs": [
    {
     "data": {
      "text/plain": [
       "[None, None]"
      ]
     },
     "execution_count": 296,
     "metadata": {},
     "output_type": "execute_result"
    }
   ],
   "source": [
    "def AddRndStrs(df):\n",
    "    df['sxx']=np.random.normal(size=len(df))\n",
    "    df['syy']=np.random.normal(size=len(df))\n",
    "    df['szz']=np.random.normal(size=len(df))\n",
    "\n",
    "#--- add random stress\n",
    "#list( map(lambda x:AddRndStrs(lmpData.coord_atoms_broken[x]),lmpData.coord_atoms_broken.keys()) )\n"
   ]
  },
  {
   "cell_type": "markdown",
   "metadata": {},
   "source": [
    "# Displacements"
   ]
  },
  {
   "cell_type": "code",
   "execution_count": 7,
   "metadata": {
    "scrolled": true
   },
   "outputs": [
    {
     "name": "stdout",
     "output_type": "stream",
     "text": [
      "mkdir: disp: File exists\n",
      "rm: disp/disp.xyz: No such file or directory\n",
      "current_frames= [  0   2   4   6   8  10  12  14  16  18  20  22  24  26  28  30  32  34\n",
      "  36  38  40  42  44  46  48  50  52  54  56  58  60  62  64  66  68  70\n",
      "  72  74  76  78  80  82  84  86  88  90  92  94  96  98 100 102 104 106\n",
      " 108 110 112 114 116 118 120 122 124 126 128 130 132 134 136 138 140 142\n",
      " 144 146 148 150 152 154 156 158 160 162 164 166 168 170 172 174 176 178\n",
      " 180 182 184 186 188 190 192 194 196 198 200]\n",
      "reference_frames= [0, 0, 0, 0, 0, 0, 0, 0, 0, 0, 0, 0, 0, 0, 0, 0, 0, 0, 0, 0, 0, 0, 0, 0, 0, 0, 0, 0, 0, 0, 0, 0, 0, 0, 0, 0, 0, 0, 0, 0, 0, 0, 0, 0, 0, 0, 0, 0, 0, 0, 0, 0, 0, 0, 0, 0, 0, 0, 0, 0, 0, 0, 0, 0, 0, 0, 0, 0, 0, 0, 0, 0, 0, 0, 0, 0, 0, 0, 0, 0, 0, 0, 0, 0, 0, 0, 0, 0, 0, 0, 0, 0, 0, 0, 0, 0, 0, 0, 0, 0, 0]\n",
      "InputFile= disp/dump_curr.xyz\n",
      "num_frames= 1\n",
      "frame=0\n",
      "InputFile= disp/dump_curr.xyz\n",
      "num_frames= 1\n",
      "frame=0\n",
      "InputFile= disp/dump_curr.xyz\n",
      "num_frames= 1\n",
      "frame=0\n",
      "InputFile= disp/dump_curr.xyz\n",
      "num_frames= 1\n",
      "frame=0\n",
      "InputFile= disp/dump_curr.xyz\n",
      "num_frames= 1\n",
      "frame=0\n",
      "InputFile= disp/dump_curr.xyz\n",
      "num_frames= 1\n",
      "frame=0\n",
      "InputFile= disp/dump_curr.xyz\n",
      "num_frames= 1\n",
      "frame=0\n",
      "InputFile= disp/dump_curr.xyz\n",
      "num_frames= 1\n",
      "frame=0\n",
      "InputFile= disp/dump_curr.xyz\n",
      "num_frames= 1\n",
      "frame=0\n",
      "InputFile= disp/dump_curr.xyz\n",
      "num_frames= 1\n",
      "frame=0\n",
      "InputFile= disp/dump_curr.xyz\n",
      "num_frames= 1\n",
      "frame=0\n",
      "InputFile= disp/dump_curr.xyz\n",
      "num_frames= 1\n",
      "frame=0\n",
      "InputFile= disp/dump_curr.xyz\n",
      "num_frames= 1\n",
      "frame=0\n",
      "InputFile= disp/dump_curr.xyz\n",
      "num_frames= 1\n",
      "frame=0\n",
      "InputFile= disp/dump_curr.xyz\n",
      "num_frames= 1\n",
      "frame=0\n",
      "InputFile= disp/dump_curr.xyz\n",
      "num_frames= 1\n",
      "frame=0\n",
      "InputFile= disp/dump_curr.xyz\n",
      "num_frames= 1\n",
      "frame=0\n",
      "InputFile= disp/dump_curr.xyz\n",
      "num_frames= 1\n",
      "frame=0\n",
      "InputFile= disp/dump_curr.xyz\n",
      "num_frames= 1\n",
      "frame=0\n",
      "InputFile= disp/dump_curr.xyz\n",
      "num_frames= 1\n",
      "frame=0\n",
      "InputFile= disp/dump_curr.xyz\n",
      "num_frames= 1\n",
      "frame=0\n",
      "InputFile= disp/dump_curr.xyz\n",
      "num_frames= 1\n",
      "frame=0\n",
      "InputFile= disp/dump_curr.xyz\n",
      "num_frames= 1\n",
      "frame=0\n",
      "InputFile= disp/dump_curr.xyz\n",
      "num_frames= 1\n",
      "frame=0\n",
      "InputFile= disp/dump_curr.xyz\n",
      "num_frames= 1\n",
      "frame=0\n",
      "InputFile= disp/dump_curr.xyz\n",
      "num_frames= 1\n",
      "frame=0\n",
      "InputFile= disp/dump_curr.xyz\n",
      "num_frames= 1\n",
      "frame=0\n",
      "InputFile= disp/dump_curr.xyz\n",
      "num_frames= 1\n",
      "frame=0\n",
      "InputFile= disp/dump_curr.xyz\n",
      "num_frames= 1\n",
      "frame=0\n",
      "InputFile= disp/dump_curr.xyz\n",
      "num_frames= 1\n",
      "frame=0\n",
      "InputFile= disp/dump_curr.xyz\n",
      "num_frames= 1\n",
      "frame=0\n",
      "InputFile= disp/dump_curr.xyz\n",
      "num_frames= 1\n",
      "frame=0\n",
      "InputFile= disp/dump_curr.xyz\n",
      "num_frames= 1\n",
      "frame=0\n",
      "InputFile= disp/dump_curr.xyz\n",
      "num_frames= 1\n",
      "frame=0\n",
      "InputFile= disp/dump_curr.xyz\n",
      "num_frames= 1\n",
      "frame=0\n",
      "InputFile= disp/dump_curr.xyz\n",
      "num_frames= 1\n",
      "frame=0\n",
      "InputFile= disp/dump_curr.xyz\n",
      "num_frames= 1\n",
      "frame=0\n",
      "InputFile= disp/dump_curr.xyz\n",
      "num_frames= 1\n",
      "frame=0\n",
      "InputFile= disp/dump_curr.xyz\n",
      "num_frames= 1\n",
      "frame=0\n",
      "InputFile= disp/dump_curr.xyz\n",
      "num_frames= 1\n",
      "frame=0\n",
      "InputFile= disp/dump_curr.xyz\n",
      "num_frames= 1\n",
      "frame=0\n",
      "InputFile= disp/dump_curr.xyz\n",
      "num_frames= 1\n",
      "frame=0\n",
      "InputFile= disp/dump_curr.xyz\n",
      "num_frames= 1\n",
      "frame=0\n",
      "InputFile= disp/dump_curr.xyz\n",
      "num_frames= 1\n",
      "frame=0\n",
      "InputFile= disp/dump_curr.xyz\n",
      "num_frames= 1\n",
      "frame=0\n",
      "InputFile= disp/dump_curr.xyz\n",
      "num_frames= 1\n",
      "frame=0\n",
      "InputFile= disp/dump_curr.xyz\n",
      "num_frames= 1\n",
      "frame=0\n",
      "InputFile= disp/dump_curr.xyz\n",
      "num_frames= 1\n",
      "frame=0\n",
      "InputFile= disp/dump_curr.xyz\n",
      "num_frames= 1\n",
      "frame=0\n",
      "InputFile= disp/dump_curr.xyz\n",
      "num_frames= 1\n",
      "frame=0\n",
      "InputFile= disp/dump_curr.xyz\n",
      "num_frames= 1\n",
      "frame=0\n",
      "InputFile= disp/dump_curr.xyz\n",
      "num_frames= 1\n",
      "frame=0\n",
      "InputFile= disp/dump_curr.xyz\n",
      "num_frames= 1\n",
      "frame=0\n",
      "InputFile= disp/dump_curr.xyz\n",
      "num_frames= 1\n",
      "frame=0\n",
      "InputFile= disp/dump_curr.xyz\n",
      "num_frames= 1\n",
      "frame=0\n",
      "InputFile= disp/dump_curr.xyz\n",
      "num_frames= 1\n",
      "frame=0\n",
      "InputFile= disp/dump_curr.xyz\n",
      "num_frames= 1\n",
      "frame=0\n",
      "InputFile= disp/dump_curr.xyz\n",
      "num_frames= 1\n",
      "frame=0\n",
      "InputFile= disp/dump_curr.xyz\n",
      "num_frames= 1\n",
      "frame=0\n",
      "InputFile= disp/dump_curr.xyz\n",
      "num_frames= 1\n",
      "frame=0\n",
      "InputFile= disp/dump_curr.xyz\n",
      "num_frames= 1\n",
      "frame=0\n",
      "InputFile= disp/dump_curr.xyz\n",
      "num_frames= 1\n",
      "frame=0\n",
      "InputFile= disp/dump_curr.xyz\n",
      "num_frames= 1\n",
      "frame=0\n",
      "InputFile= disp/dump_curr.xyz\n",
      "num_frames= 1\n",
      "frame=0\n",
      "InputFile= disp/dump_curr.xyz\n",
      "num_frames= 1\n",
      "frame=0\n",
      "InputFile= disp/dump_curr.xyz\n",
      "num_frames= 1\n",
      "frame=0\n",
      "InputFile= disp/dump_curr.xyz\n",
      "num_frames= 1\n",
      "frame=0\n",
      "InputFile= disp/dump_curr.xyz\n",
      "num_frames= 1\n",
      "frame=0\n",
      "InputFile= disp/dump_curr.xyz\n",
      "num_frames= 1\n",
      "frame=0\n",
      "InputFile= disp/dump_curr.xyz\n",
      "num_frames= 1\n",
      "frame=0\n",
      "InputFile= disp/dump_curr.xyz\n",
      "num_frames= 1\n",
      "frame=0\n",
      "InputFile= disp/dump_curr.xyz\n",
      "num_frames= 1\n",
      "frame=0\n",
      "InputFile= disp/dump_curr.xyz\n",
      "num_frames= 1\n",
      "frame=0\n",
      "InputFile= disp/dump_curr.xyz\n",
      "num_frames= 1\n",
      "frame=0\n",
      "InputFile= disp/dump_curr.xyz\n",
      "num_frames= 1\n",
      "frame=0\n",
      "InputFile= disp/dump_curr.xyz\n",
      "num_frames= 1\n",
      "frame=0\n",
      "InputFile= disp/dump_curr.xyz\n",
      "num_frames= 1\n",
      "frame=0\n",
      "InputFile= disp/dump_curr.xyz\n",
      "num_frames= 1\n",
      "frame=0\n",
      "InputFile= disp/dump_curr.xyz\n",
      "num_frames= 1\n",
      "frame=0\n",
      "InputFile= disp/dump_curr.xyz\n",
      "num_frames= 1\n",
      "frame=0\n",
      "InputFile= disp/dump_curr.xyz\n",
      "num_frames= 1\n",
      "frame=0\n",
      "InputFile= disp/dump_curr.xyz\n",
      "num_frames= 1\n",
      "frame=0\n",
      "InputFile= disp/dump_curr.xyz\n",
      "num_frames= 1\n",
      "frame=0\n",
      "InputFile= disp/dump_curr.xyz\n",
      "num_frames= 1\n",
      "frame=0\n",
      "InputFile= disp/dump_curr.xyz\n",
      "num_frames= 1\n",
      "frame=0\n",
      "InputFile= disp/dump_curr.xyz\n",
      "num_frames= 1\n",
      "frame=0\n",
      "InputFile= disp/dump_curr.xyz\n",
      "num_frames= 1\n",
      "frame=0\n",
      "InputFile= disp/dump_curr.xyz\n",
      "num_frames= 1\n",
      "frame=0\n",
      "InputFile= disp/dump_curr.xyz\n",
      "num_frames= 1\n",
      "frame=0\n",
      "InputFile= disp/dump_curr.xyz\n",
      "num_frames= 1\n",
      "frame=0\n",
      "InputFile= disp/dump_curr.xyz\n",
      "num_frames= 1\n",
      "frame=0\n",
      "InputFile= disp/dump_curr.xyz\n",
      "num_frames= 1\n",
      "frame=0\n",
      "InputFile= disp/dump_curr.xyz\n",
      "num_frames= 1\n",
      "frame=0\n",
      "InputFile= disp/dump_curr.xyz\n",
      "num_frames= 1\n",
      "frame=0\n",
      "InputFile= disp/dump_curr.xyz\n",
      "num_frames= 1\n",
      "frame=0\n",
      "InputFile= disp/dump_curr.xyz\n",
      "num_frames= 1\n",
      "frame=0\n",
      "InputFile= disp/dump_curr.xyz\n",
      "num_frames= 1\n",
      "frame=0\n",
      "InputFile= disp/dump_curr.xyz\n",
      "num_frames= 1\n",
      "frame=0\n",
      "InputFile= disp/dump_curr.xyz\n",
      "num_frames= 1\n",
      "frame=0\n",
      "InputFile= disp/dump_curr.xyz\n",
      "num_frames= 1\n",
      "frame=0\n",
      "InputFile= disp/dump_curr.xyz\n",
      "num_frames= 1\n",
      "frame=0\n",
      "parsing disp/disp.xyz\n",
      "reached end of file!\n"
     ]
    },
    {
     "data": {
      "text/html": [
       "<div>\n",
       "<style scoped>\n",
       "    .dataframe tbody tr th:only-of-type {\n",
       "        vertical-align: middle;\n",
       "    }\n",
       "\n",
       "    .dataframe tbody tr th {\n",
       "        vertical-align: top;\n",
       "    }\n",
       "\n",
       "    .dataframe thead th {\n",
       "        text-align: right;\n",
       "    }\n",
       "</style>\n",
       "<table border=\"1\" class=\"dataframe\">\n",
       "  <thead>\n",
       "    <tr style=\"text-align: right;\">\n",
       "      <th></th>\n",
       "      <th>id</th>\n",
       "      <th>type</th>\n",
       "      <th>x</th>\n",
       "      <th>y</th>\n",
       "      <th>z</th>\n",
       "      <th>DisplacementX</th>\n",
       "      <th>DisplacementY</th>\n",
       "      <th>DisplacementZ</th>\n",
       "    </tr>\n",
       "  </thead>\n",
       "  <tbody>\n",
       "    <tr>\n",
       "      <th>0</th>\n",
       "      <td>1</td>\n",
       "      <td>1</td>\n",
       "      <td>7.614650</td>\n",
       "      <td>28.653929</td>\n",
       "      <td>46.186661</td>\n",
       "      <td>0.0</td>\n",
       "      <td>0.0</td>\n",
       "      <td>0.0</td>\n",
       "    </tr>\n",
       "    <tr>\n",
       "      <th>1</th>\n",
       "      <td>2</td>\n",
       "      <td>1</td>\n",
       "      <td>39.173443</td>\n",
       "      <td>9.368440</td>\n",
       "      <td>51.445854</td>\n",
       "      <td>0.0</td>\n",
       "      <td>0.0</td>\n",
       "      <td>0.0</td>\n",
       "    </tr>\n",
       "    <tr>\n",
       "      <th>2</th>\n",
       "      <td>3</td>\n",
       "      <td>1</td>\n",
       "      <td>46.186600</td>\n",
       "      <td>28.653833</td>\n",
       "      <td>39.173592</td>\n",
       "      <td>0.0</td>\n",
       "      <td>0.0</td>\n",
       "      <td>0.0</td>\n",
       "    </tr>\n",
       "    <tr>\n",
       "      <th>3</th>\n",
       "      <td>4</td>\n",
       "      <td>1</td>\n",
       "      <td>46.186661</td>\n",
       "      <td>37.420292</td>\n",
       "      <td>33.913750</td>\n",
       "      <td>0.0</td>\n",
       "      <td>0.0</td>\n",
       "      <td>0.0</td>\n",
       "    </tr>\n",
       "    <tr>\n",
       "      <th>4</th>\n",
       "      <td>5</td>\n",
       "      <td>1</td>\n",
       "      <td>49.693207</td>\n",
       "      <td>35.667023</td>\n",
       "      <td>35.667023</td>\n",
       "      <td>0.0</td>\n",
       "      <td>0.0</td>\n",
       "      <td>0.0</td>\n",
       "    </tr>\n",
       "  </tbody>\n",
       "</table>\n",
       "</div>"
      ],
      "text/plain": [
       "   id  type          x          y          z  DisplacementX  DisplacementY  \\\n",
       "0   1     1   7.614650  28.653929  46.186661            0.0            0.0   \n",
       "1   2     1  39.173443   9.368440  51.445854            0.0            0.0   \n",
       "2   3     1  46.186600  28.653833  39.173592            0.0            0.0   \n",
       "3   4     1  46.186661  37.420292  33.913750            0.0            0.0   \n",
       "4   5     1  49.693207  35.667023  35.667023            0.0            0.0   \n",
       "\n",
       "   DisplacementZ  \n",
       "0            0.0  \n",
       "1            0.0  \n",
       "2            0.0  \n",
       "3            0.0  \n",
       "4            0.0  "
      ]
     },
     "metadata": {},
     "output_type": "display_data"
    }
   ],
   "source": [
    "def WrapperDisp(lmpData,reference_frames,current_frames):\n",
    "    '''\n",
    "    invoke disp analysis in ovito\n",
    "    '''\n",
    "    #--- split dump file\n",
    "    for ii0, ii in zip(reference_frames,current_frames):\n",
    "        atom_current = lp.Atoms(**lmpData.coord_atoms_broken[ii])\n",
    "        atom_reference = lp.Atoms(**lmpData.coord_atoms_broken[ii0])\n",
    "        box  = lp.Box( BoxBounds = lmpData.BoxBounds[ii],  AddMissing = np.array([0.0,0.0,0.0] ))\n",
    "        box0 = lp.Box( BoxBounds = lmpData.BoxBounds[ii0], AddMissing = np.array([0.0,0.0,0.0] ))\n",
    "        lpp.WriteDumpFile(atom_current, box).Write('disp/dump_curr.xyz', itime = ii,\n",
    "                 attrs=['id', 'type','x', 'y', 'z'],\n",
    "                 fmt='%i %i %15.14e %15.14e %15.14e')\n",
    "        lpp.WriteDumpFile(atom_reference, box0).Write('disp/dump_ref.xyz', itime=ii0,\n",
    "                 attrs=['id', 'type','x', 'y', 'z'],\n",
    "                 fmt='%i %i %15.14e %15.14e %15.14e')\n",
    "    #    os.system('tar czf dump.gz dump.xyz')\n",
    "        fileCurr = 'disp/dump_curr.xyz'\n",
    "        fileRef = 'disp/dump_ref.xyz'\n",
    "        output = 'disp/disp.%s.xyz'%ii\n",
    "        #--- load to ovito\n",
    "        os.system('ovitos %s/OvitosCna.py %s %s 2 8 %s'%(lib_path,fileCurr,output,fileRef))\n",
    "        #--- concat\n",
    "        os.system('cat %s >> disp/disp.xyz;rm %s'%(output,output))\n",
    "        \n",
    "        \n",
    "        \n",
    "\n",
    "!mkdir disp\n",
    "\n",
    "#--- fetch parameters\n",
    "nevery = int(confParser['parameters']['nevery'])\n",
    "lib_path = confParser['input files']['lib_path']\n",
    "outpt = 'disp/disp.xyz'\n",
    "!rm $outpt\n",
    "\n",
    "current_frames = np.array(list(lmpData.coord_atoms_broken.keys()))[::2] #--- ignore half steps\n",
    "current_frames.sort()\n",
    "print('current_frames=',current_frames)\n",
    "#--- reference\n",
    "reference_frames = [current_frames[0]]*len(current_frames)\n",
    "print('reference_frames=',reference_frames)\n",
    "    \n",
    "    \n",
    "#--- call ovito\n",
    "WrapperDisp(lmpData,reference_frames,current_frames)\n",
    "\n",
    "\n",
    "#--- parse dump files\n",
    "print('parsing %s'%(outpt))\n",
    "lmpDisp = lp.ReadDumpFile( 'disp/disp.xyz' )\n",
    "lmpDisp.GetCords( ncount = sys.maxsize )\n",
    "display(lmpDisp.coord_atoms_broken[0].head())\n"
   ]
  },
  {
   "cell_type": "markdown",
   "metadata": {},
   "source": [
    "## msd vs. time"
   ]
  },
  {
   "cell_type": "code",
   "execution_count": 91,
   "metadata": {},
   "outputs": [
    {
     "name": "stdout",
     "output_type": "stream",
     "text": [
      "mkdir: msd: File exists\r\n"
     ]
    }
   ],
   "source": [
    "class MsDisp:\n",
    "    \n",
    "    def __init__(self, lmpDisp):\n",
    "        self.disp = lmpDisp.coord_atoms_broken\n",
    "        \n",
    "        self.times = list(lmpDisp.coord_atoms_broken.keys())\n",
    "        self.times.sort()\n",
    "    \n",
    "    def Get(self):\n",
    "        msd = list(map(lambda x:(self.disp[x]['DisplacementX']**2+\\\n",
    "                     self.disp[x]['DisplacementY']**2+\\\n",
    "                     self.disp[x]['DisplacementZ']**2).mean(),\n",
    "                self.times))\n",
    "        return np.array(msd)\n",
    "        \n",
    "\n",
    "    def WindowAverage(self,ttime,bins_per_decade=4):\n",
    "        for shift in range(1,len(self.times)-1):\n",
    "    #        shift = 1 #--- time index  shift\n",
    "            dt = zip(self.times,self.times[shift:]) #--- time tuples\n",
    "            dt_real = list(map(lambda x: x[1]-x[0], zip(ttime,ttime[shift:]))) #--- real time difference\n",
    "            disp = list(map(lambda x: ((self.disp[x[1]]['DisplacementX']-self.disp[x[0]]['DisplacementX'])**2+\\\n",
    "                          (self.disp[x[1]]['DisplacementY']-self.disp[x[0]]['DisplacementY'])**2+\\\n",
    "                          (self.disp[x[1]]['DisplacementZ']-self.disp[x[0]]['DisplacementZ'])**2).mean(),\n",
    "                zip(self.times,self.times[shift:])))\n",
    "            \n",
    "#            print(np.c_[dt_real,disp].shape)\n",
    "            if shift == 1:\n",
    "                tr_mat=np.c_[dt_real,disp]\n",
    "            else:    \n",
    "                tr_mat = np.concatenate([tr_mat,np.c_[dt_real,disp]],axis=0)\n",
    "                \n",
    "                \n",
    "                \n",
    "        #--- binning\n",
    "        xmin = 0.99*tr_mat[:,0].min()\n",
    "        xmax = 1.01*tr_mat[:,0].max()\n",
    "        n_decades = int(np.ceil(np.log10(xmax/xmin)))\n",
    "        bins = np.logspace(np.log10(xmin),np.log10(xmax),n_decades*bins_per_decade)\n",
    "        #\n",
    "        ysum, edges = np.histogram(tr_mat[:,0],bins=bins,weights=tr_mat[:,1])\n",
    "        ysum_sq, edges = np.histogram(tr_mat[:,0],bins=bins,weights=tr_mat[:,1]*tr_mat[:,1])\n",
    "        xsum, edges = np.histogram(tr_mat[:,0],bins=bins,weights=tr_mat[:,0])\n",
    "        count, edges = np.histogram(tr_mat[:,0],bins=bins)\n",
    "        #\n",
    "        filtr = count > 1\n",
    "        ysum = ysum[filtr]\n",
    "        ysum_sq = ysum_sq[filtr]\n",
    "        xsum = xsum[filtr]\n",
    "        count = count[filtr]\n",
    "        assert not np.any(count == 0), 'incerease bin size!'\n",
    "        #\n",
    "        ysum_sq /= count\n",
    "        ysum /= count\n",
    "        xsum /= count\n",
    "        ysum_sq -= (ysum * ysum)\n",
    "#        assert not np.any(ysum_sq < 0.0), 'print %s'%ysum_sq\n",
    "        \n",
    "        return np.c_[xsum,ysum,(ysum_sq/count)**0.5]\n",
    "\n",
    "msd = MsDisp( lmpDisp )\n",
    "ans = msd.WindowAverage(lmpData.times,bins_per_decade=4)\n",
    "\n",
    "!mkdir msd\n",
    "with open('msd/msd.txt','w') as fp:\n",
    "    np.savetxt(fp,ans,header='t\\tmsd\\terr')"
   ]
  },
  {
   "cell_type": "code",
   "execution_count": 93,
   "metadata": {},
   "outputs": [
    {
     "name": "stdout",
     "output_type": "stream",
     "text": [
      "mkdir: png: File exists\r\n"
     ]
    },
    {
     "data": {
      "image/png": "[encoded data removed]",
      "text/plain": [
       "<Figure size 288x288 with 1 Axes>"
      ]
     },
     "metadata": {
      "needs_background": "light"
     },
     "output_type": "display_data"
    },
    {
     "data": {
      "text/plain": [
       "<AxesSubplot:xlabel='$t\\\\mathrm{(s)}$', ylabel='msd(A$^2$)'>"
      ]
     },
     "execution_count": 93,
     "metadata": {},
     "output_type": "execute_result"
    }
   ],
   "source": [
    "!mkdir png\n",
    "symbols=utl.Symbols()\n",
    "ax = utl.PltErr(ans[:,0],\n",
    "                1e8*ans[:,0],\n",
    "                attrs={'fmt':'-.r'},Plot=False)\n",
    "\n",
    "utl.PltErr(ans[:,0],ans[:,1],\n",
    "           yerr=ans[:,2],\n",
    "           ax = ax,\n",
    "           attrs=symbols.GetAttrs(count=0),\n",
    "           Plot=False,\n",
    "          )\n",
    "utl.PltErr(None,#lmpData.times[1:],\n",
    "           None, #msd.Get()[1:],\n",
    "          xscale='log',\n",
    "          yscale='log',\n",
    "           attrs={'fmt':'-'},\n",
    "           ax=ax,\n",
    "           ylim=(1e-4,1e-1),\n",
    "           xstr=r'$t\\mathrm{(s)}$',\n",
    "           ystr=r'msd(A$^2$)',\n",
    "           title='png/msd.png'\n",
    "          )"
   ]
  },
  {
   "cell_type": "code",
   "execution_count": 145,
   "metadata": {},
   "outputs": [
    {
     "data": {
      "image/png": "[encoded data removed]",
      "text/plain": [
       "<Figure size 288x288 with 1 Axes>"
      ]
     },
     "metadata": {
      "needs_background": "light"
     },
     "output_type": "display_data"
    },
    {
     "data": {
      "text/plain": [
       "<AxesSubplot:xlabel='$t\\\\mathrm{(s)}$', ylabel='msd(A$^2$)'>"
      ]
     },
     "execution_count": 145,
     "metadata": {},
     "output_type": "execute_result"
    }
   ],
   "source": [
    "symbols=utl.Symbols()\n",
    "legends = Legends()\n",
    "legends.Set(bbox_to_anchor=(1.0,0.5,0.5,0.5))\n",
    "\n",
    "ax = utl.PltErr(ans[:,0],\n",
    "                1e8*ans[:,0],\n",
    "                attrs={'fmt':'-.r'},Plot=False)\n",
    "\n",
    "\n",
    "for temp,count in zip(list(map(int,np.linspace(1000,1400,11))),range(100)):\n",
    "    ans=np.loadtxt('NiNatom16KTemp%sK/Run0/msd/msd.txt'%(temp))\n",
    "    \n",
    "    utl.PltErr(ans[:,0],ans[:,1],\n",
    "           yerr=ans[:,2],\n",
    "           ax = ax,\n",
    "           attrs=symbols.GetAttrs(count=count%7,label=r'$%s$'%temp),\n",
    "           Plot=False,\n",
    "          )\n",
    "\n",
    "utl.PltErr(None,#lmpData.times[1:],\n",
    "           None, #msd.Get()[1:],\n",
    "          xscale='log',\n",
    "          yscale='log',\n",
    "           attrs={'fmt':'-'},\n",
    "           ax=ax,\n",
    "           ylim=(1e-4,1e-1),\n",
    "           xstr=r'$t\\mathrm{(s)}$',\n",
    "           ystr=r'msd(A$^2$)',\n",
    "           title='png/msd_temp.png',\n",
    "           legend=legends.Get()\n",
    "          )"
   ]
  },
  {
   "cell_type": "code",
   "execution_count": 131,
   "metadata": {
    "scrolled": true
   },
   "outputs": [
    {
     "name": "stdout",
     "output_type": "stream",
     "text": [
      "x0,y0,c0,alpha [2.59643177e-06 5.33634542e-04 9.99872500e-01 9.99000000e-01]\n"
     ]
    },
    {
     "data": {
      "image/png": "[encoded data removed]",
      "text/plain": [
       "<Figure size 288x288 with 1 Axes>"
      ]
     },
     "metadata": {
      "needs_background": "light"
     },
     "output_type": "display_data"
    },
    {
     "name": "stdout",
     "output_type": "stream",
     "text": [
      "x0,y0,c0,alpha [2.05004740e-06 5.53384474e-04 9.97032977e-01 9.99000009e-01]\n"
     ]
    },
    {
     "data": {
      "image/png": "[encoded data removed]",
      "text/plain": [
       "<Figure size 288x288 with 1 Axes>"
      ]
     },
     "metadata": {
      "needs_background": "light"
     },
     "output_type": "display_data"
    },
    {
     "name": "stdout",
     "output_type": "stream",
     "text": [
      "x0,y0,c0,alpha [8.96120453e-07 3.07824205e-04 9.98828855e-01 1.00100000e+00]\n"
     ]
    },
    {
     "data": {
      "image/png": "[encoded data removed]",
      "text/plain": [
       "<Figure size 288x288 with 1 Axes>"
      ]
     },
     "metadata": {
      "needs_background": "light"
     },
     "output_type": "display_data"
    },
    {
     "name": "stdout",
     "output_type": "stream",
     "text": [
      "x0,y0,c0,alpha [7.19336361e-07 4.61700193e-04 9.98557042e-01 1.00099999e+00]\n"
     ]
    },
    {
     "data": {
      "image/png": "[encoded data removed]",
      "text/plain": [
       "<Figure size 288x288 with 1 Axes>"
      ]
     },
     "metadata": {
      "needs_background": "light"
     },
     "output_type": "display_data"
    },
    {
     "name": "stdout",
     "output_type": "stream",
     "text": [
      "x0,y0,c0,alpha [5.98948240e-07 4.68616756e-04 9.98516572e-01 1.00099993e+00]\n"
     ]
    },
    {
     "data": {
      "image/png": "[encoded data removed]",
      "text/plain": [
       "<Figure size 288x288 with 1 Axes>"
      ]
     },
     "metadata": {
      "needs_background": "light"
     },
     "output_type": "display_data"
    },
    {
     "name": "stdout",
     "output_type": "stream",
     "text": [
      "x0,y0,c0,alpha [1.85121161e-07 8.74066729e-04 9.99290596e-01 9.99000000e-01]\n"
     ]
    },
    {
     "data": {
      "image/png": "[encoded data removed]",
      "text/plain": [
       "<Figure size 288x288 with 1 Axes>"
      ]
     },
     "metadata": {
      "needs_background": "light"
     },
     "output_type": "display_data"
    },
    {
     "name": "stdout",
     "output_type": "stream",
     "text": [
      "x0,y0,c0,alpha [2.61743615e-07 3.39418607e-04 9.99176971e-01 1.00100000e+00]\n"
     ]
    },
    {
     "data": {
      "image/png": "[encoded data removed]",
      "text/plain": [
       "<Figure size 288x288 with 1 Axes>"
      ]
     },
     "metadata": {
      "needs_background": "light"
     },
     "output_type": "display_data"
    },
    {
     "name": "stdout",
     "output_type": "stream",
     "text": [
      "x0,y0,c0,alpha [1.78132133e-07 2.69233057e-04 9.99727297e-01 1.00100000e+00]\n"
     ]
    },
    {
     "data": {
      "image/png": "[encoded data removed]",
      "text/plain": [
       "<Figure size 288x288 with 1 Axes>"
      ]
     },
     "metadata": {
      "needs_background": "light"
     },
     "output_type": "display_data"
    },
    {
     "name": "stdout",
     "output_type": "stream",
     "text": [
      "x0,y0,c0,alpha [1.08244053e-07 3.54268309e-04 9.98594565e-01 1.00100000e+00]\n"
     ]
    },
    {
     "data": {
      "image/png": "[encoded data removed]",
      "text/plain": [
       "<Figure size 288x288 with 1 Axes>"
      ]
     },
     "metadata": {
      "needs_background": "light"
     },
     "output_type": "display_data"
    },
    {
     "name": "stdout",
     "output_type": "stream",
     "text": [
      "x0,y0,c0,alpha [9.09671230e-08 6.07428491e-04 9.98483903e-01 9.99000007e-01]\n"
     ]
    },
    {
     "data": {
      "image/png": "[encoded data removed]",
      "text/plain": [
       "<Figure size 288x288 with 1 Axes>"
      ]
     },
     "metadata": {
      "needs_background": "light"
     },
     "output_type": "display_data"
    },
    {
     "name": "stdout",
     "output_type": "stream",
     "text": [
      "x0,y0,c0,alpha [4.07237130e-08 1.03982703e-03 9.99582819e-01 9.99000000e-01]\n"
     ]
    },
    {
     "data": {
      "image/png": "[encoded data removed]",
      "text/plain": [
       "<Figure size 288x288 with 1 Axes>"
      ]
     },
     "metadata": {
      "needs_background": "light"
     },
     "output_type": "display_data"
    }
   ],
   "source": [
    "def func(x,x0,y0,c0,alpha):\n",
    "    return y0+c0*(x/x0)**alpha\n",
    "\n",
    "D = {}\n",
    "for temp,count in zip(list(map(int,np.linspace(1000,1400,11))),range(100)):\n",
    "    smat=np.loadtxt('NiNatom16KTemp%sK/Run0/msd/msd.txt'%(temp))\n",
    "\n",
    "    xdata=smat[:,0]\n",
    "    ydata=smat[:,1]\n",
    "    yerr = smat[:,2]\n",
    "    popt, pcov = curve_fit(func, xdata, ydata, \n",
    "                           bounds=([0, 0, 0,0.999], [1e-2, 1., 1,1.001]),\n",
    "#                            sigma=yerr,\n",
    "                            )\n",
    "    print('x0,y0,c0,alpha',popt)\n",
    "    c0=popt[2]\n",
    "    tau=popt[0]\n",
    "    pref=1e-10*1e-10\n",
    "    D[temp] = pref*c0/tau\n",
    "    \n",
    "    ax = utl.PltErr(xdata,\n",
    "                    func(xdata,*popt),\n",
    "                    attrs={'fmt':'-.r'},Plot=False)\n",
    "    utl.PltErr(xdata,\n",
    "               ydata,\n",
    "               yerr=yerr,\n",
    "              xscale='log',\n",
    "              yscale='log',\n",
    "               attrs={'fmt':'-'},\n",
    "               ax=ax,\n",
    "               ylim=(1e-4,1e-1),\n",
    "               xstr=r'$t\\mathrm{(s)}$',\n",
    "               ystr=r'msd(A$^2$)',\n",
    "    #           title='png/msd.png',\n",
    "    #           legend=legends.Get()\n",
    "              )"
   ]
  },
  {
   "cell_type": "code",
   "execution_count": 147,
   "metadata": {},
   "outputs": [
    {
     "data": {
      "image/png": "[encoded data removed]",
      "text/plain": [
       "<Figure size 288x288 with 1 Axes>"
      ]
     },
     "metadata": {
      "needs_background": "light"
     },
     "output_type": "display_data"
    },
    {
     "data": {
      "text/plain": [
       "<AxesSubplot:xlabel='$1/T(K^{-1})$', ylabel='$D(m^2/s)$'>"
      ]
     },
     "execution_count": 147,
     "metadata": {},
     "output_type": "execute_result"
    }
   ],
   "source": [
    "temp = list(D.keys())\n",
    "temp.sort()\n",
    "\n",
    "utl.PltErr(1.0/np.array(temp),\n",
    "           list(map(lambda x:D[x],temp)),\n",
    "          yscale='log',\n",
    "           attrs=symbols.GetAttrs(),\n",
    "           ylim=(1e-15,1e-12),\n",
    "           xstr=r'$1/T(K^{-1})$',\n",
    "           ystr=r'$D(m^2/s)$',\n",
    "           title='png/D_temp.png',\n",
    "          )"
   ]
  },
  {
   "cell_type": "code",
   "execution_count": 148,
   "metadata": {},
   "outputs": [
    {
     "data": {
      "text/plain": [
       "array([1000, 1040, 1080, 1120, 1160, 1200, 1240, 1280, 1320, 1360, 1400])"
      ]
     },
     "execution_count": 148,
     "metadata": {},
     "output_type": "execute_result"
    }
   ],
   "source": [
    "np.array(temp)"
   ]
  },
  {
   "cell_type": "code",
   "execution_count": null,
   "metadata": {},
   "outputs": [],
   "source": []
  }
 ],
 "metadata": {
  "kernelspec": {
   "display_name": "Python 3",
   "language": "python",
   "name": "python3"
  },
  "language_info": {
   "codemirror_mode": {
    "name": "ipython",
    "version": 3
   },
   "file_extension": ".py",
   "mimetype": "text/x-python",
   "name": "python",
   "nbconvert_exporter": "python",
   "pygments_lexer": "ipython3",
   "version": "3.9.5"
  }
 },
 "nbformat": 4,
 "nbformat_minor": 4
}
