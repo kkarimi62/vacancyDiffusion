{
 "cells": [
  {
   "cell_type": "markdown",
   "metadata": {},
   "source": [
    "# parsing configuration file"
   ]
  },
  {
   "cell_type": "code",
   "execution_count": 59,
   "metadata": {},
   "outputs": [],
   "source": [
    "import configparser\n",
    "confParser = configparser.ConfigParser()"
   ]
  },
  {
   "cell_type": "code",
   "execution_count": 60,
   "metadata": {},
   "outputs": [
    {
     "name": "stdout",
     "output_type": "stream",
     "text": [
      "conf. file sections: ['parameters', 'flags', 'input files', 'Atomic Radius']\n"
     ]
    }
   ],
   "source": [
    "#--- parse conf. file\n",
    "confParser.read('configuration.ini')\n",
    "print('conf. file sections:',confParser.sections())\n",
    "\n",
    "#--- set dynamic parameters\n",
    "temp=confParser['parameters']['temperature']\n",
    "\n",
    "#--- edit list of input files\n",
    "confParser.set('input files','dump file',''.join([\n",
    "               'allconf ', #0\n",
    "              ]))\n",
    "confParser.set('input files','diffusion file',''.join([\n",
    "               'Diffusion.dat ', #0\n",
    "              ]))\n"
   ]
  },
  {
   "cell_type": "markdown",
   "metadata": {},
   "source": [
    "# import libraries"
   ]
  },
  {
   "cell_type": "code",
   "execution_count": 61,
   "metadata": {},
   "outputs": [
    {
     "data": {
      "text/plain": [
       "<module 'utilityy' from '../../HeaDef/postprocess/utilityy.py'>"
      ]
     },
     "execution_count": 61,
     "metadata": {},
     "output_type": "execute_result"
    }
   ],
   "source": [
    "import sys\n",
    "sys.path.append(confParser['input files']['lib_path'])\n",
    "\n",
    "#--- system libraries\n",
    "import pdb\n",
    "import pandas as pd\n",
    "import numpy as np\n",
    "import matplotlib.pylab as plt\n",
    "import matplotlib as mpl\n",
    "import traceback\n",
    "import os\n",
    "import scipy.interpolate as scp_int\n",
    "import warnings\n",
    "import matplotlib\n",
    "from matplotlib.ticker import (MultipleLocator, AutoMinorLocator)\n",
    "from matplotlib import patches\n",
    "import sys\n",
    "import sklearn\n",
    "from sklearn.preprocessing import PolynomialFeatures\n",
    "from sklearn.linear_model import LinearRegression\n",
    "from sklearn.model_selection import cross_validate\n",
    "import patsy\n",
    "from sklearn import linear_model, mixture\n",
    "import sklearn.mixture as skm\n",
    "from scipy import optimize\n",
    "import scipy\n",
    "import re\n",
    "from functools import reduce\n",
    "import time\n",
    "import fnmatch\n",
    "from scipy.optimize import curve_fit\n",
    "#\n",
    "warnings.filterwarnings('ignore')\n",
    "\n",
    "#--- user modules\n",
    "import LammpsPostProcess as lp\n",
    "import LammpsPostProcess2nd as lpp\n",
    "import utilityy as utll\n",
    "import utility as utl\n",
    "from utility import *\n",
    "import imp\n",
    "imp.reload(lp)\n",
    "imp.reload(lpp)\n",
    "imp.reload(utl)\n",
    "imp.reload(utll)"
   ]
  },
  {
   "cell_type": "code",
   "execution_count": 62,
   "metadata": {},
   "outputs": [],
   "source": [
    "class Symbols:\n",
    "    def __init__(self):\n",
    "        self.colors = ['black','red','green','blue','cyan','brown','grey','magenta','orange','yellow']\n",
    "        self.fillstyles=['white',None,'white',None,'white',None,'white',None,'white',None,'white',None,'white',None,'white',None]\n",
    "        self.markers=['o','s','D','^','<','>','v']\n",
    "        self.markersizes=[10,10,10,12,12,12,10]\n",
    "        self.nmax=7\n",
    "        \n",
    "    def GetAttrs(self,count=0,label='',nevery=1,fmt='.-',zorder=1):\n",
    "        if count > self.nmax:\n",
    "            print('index out of list bound!')\n",
    "            return \n",
    "        attrs={ 'color':self.colors[count],\n",
    "            'markersize':self.markersizes[count],\n",
    "            'marker':self.markers[count],\n",
    "            'markerfacecolor':self.colors[count],\n",
    "            'markeredgecolor':'white', #'black' if not self.fillstyles[count] else None,\n",
    "            'label':label,\n",
    "           'markevery':nevery,\n",
    "           'errorevery':nevery,\n",
    "           'markeredgewidth':1.75,\n",
    "            'linewidth':1, \n",
    "           'barsabove':None,\n",
    "           'capsize':5,\n",
    "           'capthick':1,\n",
    "           'elinewidth':1,\n",
    "           'fmt':fmt,\n",
    "             'zorder':zorder,\n",
    "         }\n",
    "        return attrs\n",
    "    \n",
    "    def GetAttrs2nd(self,count=0,label='',nevery=1,fmt='.-',zorder=1):\n",
    "        if count > self.nmax:\n",
    "            print('index out of list bound!')\n",
    "            return \n",
    "        attrs={ 'color':self.colors[count],\n",
    "            'markersize':self.markersizes[count],\n",
    "            'marker':self.markers[count],\n",
    "            'markerfacecolor':'white',\n",
    "#            'markeredgecolor':'black' if not self.fillstyles[count] else None,\n",
    "            'label':label,\n",
    "           'markevery':nevery,\n",
    "           'errorevery':nevery,\n",
    "           'markeredgewidth':1.75,\n",
    "            'linewidth':1, \n",
    "           'barsabove':None,\n",
    "           'capsize':5,\n",
    "           'capthick':1,\n",
    "           'elinewidth':1,\n",
    "           'fmt':fmt,\n",
    "            'zorder':zorder,\n",
    "          }\n",
    "        return attrs\n",
    "\n",
    "class Legends:\n",
    "    def __init__(self\n",
    "                ):\n",
    "        pass\n",
    "    def Set(self,fontsize=20,\n",
    "                 labelspacing=0,\n",
    "                 **kwargs\n",
    "#                 bbox_to_anchor=(0.5,0.48,0.5,0.5),\n",
    "           ):\n",
    "        self.attrs = {'frameon':False,'fontsize':fontsize,\n",
    "                   'labelspacing':labelspacing,\n",
    "                      'handletextpad':.2,\n",
    "                   'handlelength':1,\n",
    "                    **kwargs,\n",
    "                     }\n",
    "    def Get(self):\n",
    "        return self.attrs\n",
    "\n",
    "DRAW_FRAME=(0.23,0.08,0.12,0.07,0.01)\n",
    "if not eval(confParser['flags']['RemoteMachine']):\n",
    "    matplotlib.rcParams['text.usetex'] = True #--- comment tex stuff!\n",
    "    "
   ]
  },
  {
   "cell_type": "markdown",
   "metadata": {},
   "source": [
    "\n",
    "# Dump File"
   ]
  },
  {
   "cell_type": "code",
   "execution_count": 63,
   "metadata": {
    "scrolled": false
   },
   "outputs": [
    {
     "name": "stdout",
     "output_type": "stream",
     "text": [
      "InputFile= ../simulations/CantorNatom16KTemp1000KEnsemble8/Run0/allconf\n",
      "num_frames= 49\n",
      "frame=0\n",
      "frame=1\n",
      "frame=2\n",
      "frame=3\n",
      "frame=4\n",
      "frame=5\n",
      "frame=6\n",
      "frame=7\n",
      "frame=8\n",
      "frame=9\n",
      "frame=10\n",
      "frame=11\n",
      "frame=12\n",
      "frame=13\n",
      "frame=14\n",
      "frame=15\n",
      "frame=16\n",
      "frame=17\n",
      "frame=18\n",
      "frame=19\n",
      "frame=20\n",
      "frame=21\n",
      "frame=22\n",
      "frame=23\n",
      "frame=24\n",
      "frame=25\n",
      "frame=26\n",
      "frame=27\n",
      "frame=28\n",
      "frame=29\n",
      "frame=30\n",
      "frame=31\n",
      "frame=32\n",
      "frame=33\n",
      "frame=34\n",
      "frame=35\n",
      "frame=36\n",
      "frame=37\n",
      "frame=38\n",
      "frame=39\n",
      "frame=40\n",
      "frame=41\n",
      "frame=42\n",
      "frame=43\n",
      "frame=44\n",
      "frame=45\n",
      "frame=46\n",
      "frame=47\n",
      "frame=48\n",
      "output dump file=6.808608055114746 s\n",
      "parsing dumpFile/dump.xyz\n",
      "reached end of file!\n",
      "time steps: dict_keys([0, 1, 2, 3, 4, 5, 6, 7, 8, 9, 10, 11, 12, 13, 14, 15, 16, 17, 18, 19, 20, 21, 22, 23, 24, 25, 26, 27, 28, 29, 30, 31, 32, 33, 34, 35, 36, 37, 38, 39, 40, 41, 42, 43, 44, 45, 46, 47, 48])\n"
     ]
    },
    {
     "data": {
      "text/html": [
       "<div>\n",
       "<style scoped>\n",
       "    .dataframe tbody tr th:only-of-type {\n",
       "        vertical-align: middle;\n",
       "    }\n",
       "\n",
       "    .dataframe tbody tr th {\n",
       "        vertical-align: top;\n",
       "    }\n",
       "\n",
       "    .dataframe thead th {\n",
       "        text-align: right;\n",
       "    }\n",
       "</style>\n",
       "<table border=\"1\" class=\"dataframe\">\n",
       "  <thead>\n",
       "    <tr style=\"text-align: right;\">\n",
       "      <th></th>\n",
       "      <th>id</th>\n",
       "      <th>type</th>\n",
       "      <th>x</th>\n",
       "      <th>y</th>\n",
       "      <th>z</th>\n",
       "    </tr>\n",
       "  </thead>\n",
       "  <tbody>\n",
       "    <tr>\n",
       "      <th>0</th>\n",
       "      <td>1</td>\n",
       "      <td>4</td>\n",
       "      <td>14.257409</td>\n",
       "      <td>5.364226</td>\n",
       "      <td>12.519177</td>\n",
       "    </tr>\n",
       "    <tr>\n",
       "      <th>1</th>\n",
       "      <td>2</td>\n",
       "      <td>3</td>\n",
       "      <td>19.689968</td>\n",
       "      <td>35.838047</td>\n",
       "      <td>37.701435</td>\n",
       "    </tr>\n",
       "    <tr>\n",
       "      <th>2</th>\n",
       "      <td>3</td>\n",
       "      <td>2</td>\n",
       "      <td>5.313060</td>\n",
       "      <td>30.449585</td>\n",
       "      <td>25.174215</td>\n",
       "    </tr>\n",
       "    <tr>\n",
       "      <th>3</th>\n",
       "      <td>4</td>\n",
       "      <td>2</td>\n",
       "      <td>19.840660</td>\n",
       "      <td>46.732754</td>\n",
       "      <td>16.041273</td>\n",
       "    </tr>\n",
       "    <tr>\n",
       "      <th>4</th>\n",
       "      <td>5</td>\n",
       "      <td>3</td>\n",
       "      <td>52.073833</td>\n",
       "      <td>37.667217</td>\n",
       "      <td>35.884407</td>\n",
       "    </tr>\n",
       "  </tbody>\n",
       "</table>\n",
       "</div>"
      ],
      "text/plain": [
       "   id  type          x          y          z\n",
       "0   1     4  14.257409   5.364226  12.519177\n",
       "1   2     3  19.689968  35.838047  37.701435\n",
       "2   3     2   5.313060  30.449585  25.174215\n",
       "3   4     2  19.840660  46.732754  16.041273\n",
       "4   5     3  52.073833  37.667217  35.884407"
      ]
     },
     "metadata": {},
     "output_type": "display_data"
    },
    {
     "name": "stdout",
     "output_type": "stream",
     "text": [
      "InputFile= dumpFile/dump.xyz\n",
      "num_frames= 49\n",
      "frame=0\n",
      "frame=1\n",
      "frame=2\n",
      "frame=3\n",
      "frame=4\n",
      "frame=5\n",
      "frame=6\n",
      "frame=7\n",
      "frame=8\n",
      "frame=9\n",
      "frame=10\n",
      "frame=11\n",
      "frame=12\n",
      "frame=13\n",
      "frame=14\n",
      "frame=15\n",
      "frame=16\n",
      "frame=17\n",
      "frame=18\n",
      "frame=19\n",
      "frame=20\n",
      "frame=21\n",
      "frame=22\n",
      "frame=23\n",
      "frame=24\n",
      "frame=25\n",
      "frame=26\n",
      "frame=27\n",
      "frame=28\n",
      "frame=29\n",
      "frame=30\n",
      "frame=31\n",
      "frame=32\n",
      "frame=33\n",
      "frame=34\n",
      "frame=35\n",
      "frame=36\n",
      "frame=37\n",
      "frame=38\n",
      "frame=39\n",
      "frame=40\n",
      "frame=41\n",
      "frame=42\n",
      "frame=43\n",
      "frame=44\n",
      "frame=45\n",
      "frame=46\n",
      "frame=47\n",
      "frame=48\n",
      "output dump file=7.473766326904297 s\n",
      "parsing dumpFile/neighbors.xyz\n",
      "reached end of file!\n",
      "time steps: dict_keys([0, 1, 2, 3, 4, 5, 6, 7, 8, 9, 10, 11, 12, 13, 14, 15, 16, 17, 18, 19, 20, 21, 22, 23, 24, 25, 26, 27, 28, 29, 30, 31, 32, 33, 34, 35, 36, 37, 38, 39, 40, 41, 42, 43, 44, 45, 46, 47, 48])\n"
     ]
    },
    {
     "data": {
      "text/html": [
       "<div>\n",
       "<style scoped>\n",
       "    .dataframe tbody tr th:only-of-type {\n",
       "        vertical-align: middle;\n",
       "    }\n",
       "\n",
       "    .dataframe tbody tr th {\n",
       "        vertical-align: top;\n",
       "    }\n",
       "\n",
       "    .dataframe thead th {\n",
       "        text-align: right;\n",
       "    }\n",
       "</style>\n",
       "<table border=\"1\" class=\"dataframe\">\n",
       "  <thead>\n",
       "    <tr style=\"text-align: right;\">\n",
       "      <th></th>\n",
       "      <th>id</th>\n",
       "      <th>type</th>\n",
       "      <th>x</th>\n",
       "      <th>y</th>\n",
       "      <th>z</th>\n",
       "      <th>StructureType</th>\n",
       "    </tr>\n",
       "  </thead>\n",
       "  <tbody>\n",
       "    <tr>\n",
       "      <th>0</th>\n",
       "      <td>1</td>\n",
       "      <td>4</td>\n",
       "      <td>14.257410</td>\n",
       "      <td>5.364226</td>\n",
       "      <td>12.519177</td>\n",
       "      <td>1.0</td>\n",
       "    </tr>\n",
       "    <tr>\n",
       "      <th>1</th>\n",
       "      <td>2</td>\n",
       "      <td>3</td>\n",
       "      <td>19.689968</td>\n",
       "      <td>35.838047</td>\n",
       "      <td>37.701435</td>\n",
       "      <td>1.0</td>\n",
       "    </tr>\n",
       "    <tr>\n",
       "      <th>2</th>\n",
       "      <td>3</td>\n",
       "      <td>2</td>\n",
       "      <td>5.313060</td>\n",
       "      <td>30.449583</td>\n",
       "      <td>25.174215</td>\n",
       "      <td>1.0</td>\n",
       "    </tr>\n",
       "    <tr>\n",
       "      <th>3</th>\n",
       "      <td>4</td>\n",
       "      <td>2</td>\n",
       "      <td>19.840660</td>\n",
       "      <td>46.732754</td>\n",
       "      <td>16.041273</td>\n",
       "      <td>1.0</td>\n",
       "    </tr>\n",
       "    <tr>\n",
       "      <th>4</th>\n",
       "      <td>5</td>\n",
       "      <td>3</td>\n",
       "      <td>52.073833</td>\n",
       "      <td>37.667217</td>\n",
       "      <td>35.884407</td>\n",
       "      <td>1.0</td>\n",
       "    </tr>\n",
       "  </tbody>\n",
       "</table>\n",
       "</div>"
      ],
      "text/plain": [
       "   id  type          x          y          z  StructureType\n",
       "0   1     4  14.257410   5.364226  12.519177            1.0\n",
       "1   2     3  19.689968  35.838047  37.701435            1.0\n",
       "2   3     2   5.313060  30.449583  25.174215            1.0\n",
       "3   4     2  19.840660  46.732754  16.041273            1.0\n",
       "4   5     3  52.073833  37.667217  35.884407            1.0"
      ]
     },
     "metadata": {},
     "output_type": "display_data"
    }
   ],
   "source": [
    "!rm -r dumpFile;mkdir dumpFile\n",
    "\n",
    "#--- fetch parameters\n",
    "path = confParser['input files']['input_path']\n",
    "indx = confParser['input files']['fileIndex']\n",
    "dumpFile = '%s/%s'%(path,confParser['input files']['dump file'].split()[int(indx)])\n",
    "datFile = '%s/%s'%(path,confParser['input files']['diffusion file'].split()[int(indx)])\n",
    "lib_path = confParser['input files']['lib_path']\n",
    "outpt = 'dumpFile/dump.xyz'\n",
    "outpt_headers = 'dumpFile/calcResults.txt'\n",
    "\n",
    "#--- parse dump: call ovito\n",
    "t0=time.time()\n",
    "!ovitos $lib_path/OvitosCna.py $dumpFile $outpt 1 7 $outpt_headers\n",
    "print('output dump file=%s s'%(time.time()-t0))\n",
    "\n",
    "\n",
    "#--- parse dump files\n",
    "print('parsing %s'%(outpt))\n",
    "lmpData = lp.ReadDumpFile( '%s'%(outpt) ) \n",
    "lmpData.GetCords( ncount = sys.maxsize, \n",
    "                )\n",
    "print('time steps:',lmpData.coord_atoms_broken.keys())\n",
    "display(lmpData.coord_atoms_broken[0].head())\n",
    "\n",
    "#--- add timescales\n",
    "lmpData.times = np.loadtxt(datFile)[:,0]\n",
    "\n",
    "#--- parse headers\n",
    "lmpData.headers = pd.DataFrame(np.loadtxt(outpt_headers),columns=[\"Barrier\", \"Energy\", \"Step\", \"Time\"])\n",
    "\n",
    "#--- common neighbor analysis\n",
    "dumpFile = 'dumpFile/dump.xyz'\n",
    "outpt = 'dumpFile/neighbors.xyz'\n",
    "t0=time.time()\n",
    "!ovitos $lib_path/OvitosCna.py $dumpFile $outpt 1 0\n",
    "print('output dump file=%s s'%(time.time()-t0))\n",
    "\n",
    "#--- parse dump files\n",
    "print('parsing %s'%(outpt))\n",
    "lmpCna = lp.ReadDumpFile( '%s'%(outpt) ) \n",
    "lmpCna.GetCords( ncount = sys.maxsize, \n",
    "                )\n",
    "print('time steps:',lmpCna.coord_atoms_broken.keys())\n",
    "display(lmpCna.coord_atoms_broken[0].head())\n"
   ]
  },
  {
   "cell_type": "code",
   "execution_count": 64,
   "metadata": {},
   "outputs": [],
   "source": [
    "def AddRndStrs(df):\n",
    "    df['sxx']=np.random.normal(size=len(df))\n",
    "    df['syy']=np.random.normal(size=len(df))\n",
    "    df['szz']=np.random.normal(size=len(df))\n",
    "\n",
    "#--- add random stress\n",
    "#list( map(lambda x:AddRndStrs(lmpData.coord_atoms_broken[x]),lmpData.coord_atoms_broken.keys()) )\n"
   ]
  },
  {
   "cell_type": "markdown",
   "metadata": {},
   "source": [
    "# Displacements"
   ]
  },
  {
   "cell_type": "code",
   "execution_count": 65,
   "metadata": {
    "scrolled": true
   },
   "outputs": [
    {
     "name": "stdout",
     "output_type": "stream",
     "text": [
      "mkdir: disp: File exists\n",
      "current_frames= [ 0  2  4  6  8 10 12 14 16 18 20 22 24 26 28 30 32 34 36 38 40 42 44 46\n",
      " 48]\n",
      "reference_frames= [0, 0, 0, 0, 0, 0, 0, 0, 0, 0, 0, 0, 0, 0, 0, 0, 0, 0, 0, 0, 0, 0, 0, 0, 0]\n",
      "InputFile= disp/dump_curr.xyz\n",
      "num_frames= 1\n",
      "frame=0\n",
      "InputFile= disp/dump_curr.xyz\n",
      "num_frames= 1\n",
      "frame=0\n",
      "InputFile= disp/dump_curr.xyz\n",
      "num_frames= 1\n",
      "frame=0\n",
      "InputFile= disp/dump_curr.xyz\n",
      "num_frames= 1\n",
      "frame=0\n",
      "InputFile= disp/dump_curr.xyz\n",
      "num_frames= 1\n",
      "frame=0\n",
      "InputFile= disp/dump_curr.xyz\n",
      "num_frames= 1\n",
      "frame=0\n",
      "InputFile= disp/dump_curr.xyz\n",
      "num_frames= 1\n",
      "frame=0\n",
      "InputFile= disp/dump_curr.xyz\n",
      "num_frames= 1\n",
      "frame=0\n",
      "InputFile= disp/dump_curr.xyz\n",
      "num_frames= 1\n",
      "frame=0\n",
      "InputFile= disp/dump_curr.xyz\n",
      "num_frames= 1\n",
      "frame=0\n",
      "InputFile= disp/dump_curr.xyz\n",
      "num_frames= 1\n",
      "frame=0\n",
      "InputFile= disp/dump_curr.xyz\n",
      "num_frames= 1\n",
      "frame=0\n",
      "InputFile= disp/dump_curr.xyz\n",
      "num_frames= 1\n",
      "frame=0\n",
      "InputFile= disp/dump_curr.xyz\n",
      "num_frames= 1\n",
      "frame=0\n",
      "InputFile= disp/dump_curr.xyz\n",
      "num_frames= 1\n",
      "frame=0\n",
      "InputFile= disp/dump_curr.xyz\n",
      "num_frames= 1\n",
      "frame=0\n",
      "InputFile= disp/dump_curr.xyz\n",
      "num_frames= 1\n",
      "frame=0\n",
      "InputFile= disp/dump_curr.xyz\n",
      "num_frames= 1\n",
      "frame=0\n",
      "InputFile= disp/dump_curr.xyz\n",
      "num_frames= 1\n",
      "frame=0\n",
      "InputFile= disp/dump_curr.xyz\n",
      "num_frames= 1\n",
      "frame=0\n",
      "InputFile= disp/dump_curr.xyz\n",
      "num_frames= 1\n",
      "frame=0\n",
      "InputFile= disp/dump_curr.xyz\n",
      "num_frames= 1\n",
      "frame=0\n",
      "InputFile= disp/dump_curr.xyz\n",
      "num_frames= 1\n",
      "frame=0\n",
      "InputFile= disp/dump_curr.xyz\n",
      "num_frames= 1\n",
      "frame=0\n",
      "InputFile= disp/dump_curr.xyz\n",
      "num_frames= 1\n",
      "frame=0\n",
      "parsing disp/disp.xyz\n",
      "reached end of file!\n"
     ]
    },
    {
     "data": {
      "text/html": [
       "<div>\n",
       "<style scoped>\n",
       "    .dataframe tbody tr th:only-of-type {\n",
       "        vertical-align: middle;\n",
       "    }\n",
       "\n",
       "    .dataframe tbody tr th {\n",
       "        vertical-align: top;\n",
       "    }\n",
       "\n",
       "    .dataframe thead th {\n",
       "        text-align: right;\n",
       "    }\n",
       "</style>\n",
       "<table border=\"1\" class=\"dataframe\">\n",
       "  <thead>\n",
       "    <tr style=\"text-align: right;\">\n",
       "      <th></th>\n",
       "      <th>id</th>\n",
       "      <th>type</th>\n",
       "      <th>x</th>\n",
       "      <th>y</th>\n",
       "      <th>z</th>\n",
       "      <th>DisplacementX</th>\n",
       "      <th>DisplacementY</th>\n",
       "      <th>DisplacementZ</th>\n",
       "    </tr>\n",
       "  </thead>\n",
       "  <tbody>\n",
       "    <tr>\n",
       "      <th>0</th>\n",
       "      <td>1</td>\n",
       "      <td>4</td>\n",
       "      <td>14.257409</td>\n",
       "      <td>5.364226</td>\n",
       "      <td>12.519177</td>\n",
       "      <td>0.0</td>\n",
       "      <td>0.0</td>\n",
       "      <td>0.0</td>\n",
       "    </tr>\n",
       "    <tr>\n",
       "      <th>1</th>\n",
       "      <td>2</td>\n",
       "      <td>3</td>\n",
       "      <td>19.689968</td>\n",
       "      <td>35.838047</td>\n",
       "      <td>37.701435</td>\n",
       "      <td>0.0</td>\n",
       "      <td>0.0</td>\n",
       "      <td>0.0</td>\n",
       "    </tr>\n",
       "    <tr>\n",
       "      <th>2</th>\n",
       "      <td>3</td>\n",
       "      <td>2</td>\n",
       "      <td>5.313060</td>\n",
       "      <td>30.449585</td>\n",
       "      <td>25.174215</td>\n",
       "      <td>0.0</td>\n",
       "      <td>0.0</td>\n",
       "      <td>0.0</td>\n",
       "    </tr>\n",
       "    <tr>\n",
       "      <th>3</th>\n",
       "      <td>4</td>\n",
       "      <td>2</td>\n",
       "      <td>19.840660</td>\n",
       "      <td>46.732754</td>\n",
       "      <td>16.041273</td>\n",
       "      <td>0.0</td>\n",
       "      <td>0.0</td>\n",
       "      <td>0.0</td>\n",
       "    </tr>\n",
       "    <tr>\n",
       "      <th>4</th>\n",
       "      <td>5</td>\n",
       "      <td>3</td>\n",
       "      <td>52.073833</td>\n",
       "      <td>37.667217</td>\n",
       "      <td>35.884407</td>\n",
       "      <td>0.0</td>\n",
       "      <td>0.0</td>\n",
       "      <td>0.0</td>\n",
       "    </tr>\n",
       "  </tbody>\n",
       "</table>\n",
       "</div>"
      ],
      "text/plain": [
       "   id  type          x          y          z  DisplacementX  DisplacementY  \\\n",
       "0   1     4  14.257409   5.364226  12.519177            0.0            0.0   \n",
       "1   2     3  19.689968  35.838047  37.701435            0.0            0.0   \n",
       "2   3     2   5.313060  30.449585  25.174215            0.0            0.0   \n",
       "3   4     2  19.840660  46.732754  16.041273            0.0            0.0   \n",
       "4   5     3  52.073833  37.667217  35.884407            0.0            0.0   \n",
       "\n",
       "   DisplacementZ  \n",
       "0            0.0  \n",
       "1            0.0  \n",
       "2            0.0  \n",
       "3            0.0  \n",
       "4            0.0  "
      ]
     },
     "metadata": {},
     "output_type": "display_data"
    }
   ],
   "source": [
    "def WrapperDisp(lmpData,reference_frames,current_frames):\n",
    "    '''\n",
    "    invoke disp analysis in ovito\n",
    "    '''\n",
    "    #--- split dump file\n",
    "    for ii0, ii in zip(reference_frames,current_frames):\n",
    "        atom_current = lp.Atoms(**lmpData.coord_atoms_broken[ii])\n",
    "        atom_reference = lp.Atoms(**lmpData.coord_atoms_broken[ii0])\n",
    "        box  = lp.Box( BoxBounds = lmpData.BoxBounds[ii],  AddMissing = np.array([0.0,0.0,0.0] ))\n",
    "        box0 = lp.Box( BoxBounds = lmpData.BoxBounds[ii0], AddMissing = np.array([0.0,0.0,0.0] ))\n",
    "        lpp.WriteDumpFile(atom_current, box).Write('disp/dump_curr.xyz', itime = ii,\n",
    "                 attrs=['id', 'type','x', 'y', 'z'],\n",
    "                 fmt='%i %i %15.14e %15.14e %15.14e')\n",
    "        lpp.WriteDumpFile(atom_reference, box0).Write('disp/dump_ref.xyz', itime=ii0,\n",
    "                 attrs=['id', 'type','x', 'y', 'z'],\n",
    "                 fmt='%i %i %15.14e %15.14e %15.14e')\n",
    "    #    os.system('tar czf dump.gz dump.xyz')\n",
    "        fileCurr = 'disp/dump_curr.xyz'\n",
    "        fileRef = 'disp/dump_ref.xyz'\n",
    "        output = 'disp/disp.%s.xyz'%ii\n",
    "        #--- load to ovito\n",
    "        os.system('ovitos %s/OvitosCna.py %s %s 2 8 %s'%(lib_path,fileCurr,output,fileRef))\n",
    "        #--- concat\n",
    "        os.system('cat %s >> disp/disp.xyz;rm %s'%(output,output))\n",
    "        \n",
    "        \n",
    "        \n",
    "\n",
    "!mkdir disp\n",
    "\n",
    "#--- fetch parameters\n",
    "lib_path = confParser['input files']['lib_path']\n",
    "outpt = 'disp/disp.xyz'\n",
    "!rm $outpt\n",
    "\n",
    "current_frames = np.array(list(lmpData.coord_atoms_broken.keys()))[::2] #--- ignore half steps\n",
    "current_frames.sort()\n",
    "print('current_frames=',current_frames)\n",
    "#--- reference\n",
    "reference_frames = [current_frames[0]]*len(current_frames)\n",
    "print('reference_frames=',reference_frames)\n",
    "    \n",
    "    \n",
    "#--- call ovito\n",
    "WrapperDisp(lmpData,reference_frames,current_frames)\n",
    "\n",
    "\n",
    "#--- parse dump files\n",
    "print('parsing %s'%(outpt))\n",
    "lmpDisp = lp.ReadDumpFile( 'disp/disp.xyz' )\n",
    "lmpDisp.GetCords( ncount = sys.maxsize )\n",
    "display(lmpDisp.coord_atoms_broken[0].head())\n"
   ]
  },
  {
   "cell_type": "code",
   "execution_count": 66,
   "metadata": {
    "scrolled": true
   },
   "outputs": [
    {
     "name": "stdout",
     "output_type": "stream",
     "text": [
      "current_frames= [ 0  2  4  6  8 10 12 14 16 18 20 22 24 26 28 30 32 34 36 38 40 42 44 46\n",
      " 48]\n",
      "reference_frames= [ 0  0  2  4  6  8 10 12 14 16 18 20 22 24 26 28 30 32 34 36 38 40 42 44\n",
      " 46]\n",
      "InputFile= disp/dump_curr.xyz\n",
      "num_frames= 1\n",
      "frame=0\n",
      "InputFile= disp/dump_curr.xyz\n",
      "num_frames= 1\n",
      "frame=0\n",
      "InputFile= disp/dump_curr.xyz\n",
      "num_frames= 1\n",
      "frame=0\n",
      "InputFile= disp/dump_curr.xyz\n",
      "num_frames= 1\n",
      "frame=0\n",
      "InputFile= disp/dump_curr.xyz\n",
      "num_frames= 1\n",
      "frame=0\n",
      "InputFile= disp/dump_curr.xyz\n",
      "num_frames= 1\n",
      "frame=0\n",
      "InputFile= disp/dump_curr.xyz\n",
      "num_frames= 1\n",
      "frame=0\n",
      "InputFile= disp/dump_curr.xyz\n",
      "num_frames= 1\n",
      "frame=0\n",
      "InputFile= disp/dump_curr.xyz\n",
      "num_frames= 1\n",
      "frame=0\n",
      "InputFile= disp/dump_curr.xyz\n",
      "num_frames= 1\n",
      "frame=0\n",
      "InputFile= disp/dump_curr.xyz\n",
      "num_frames= 1\n",
      "frame=0\n",
      "InputFile= disp/dump_curr.xyz\n",
      "num_frames= 1\n",
      "frame=0\n",
      "InputFile= disp/dump_curr.xyz\n",
      "num_frames= 1\n",
      "frame=0\n",
      "InputFile= disp/dump_curr.xyz\n",
      "num_frames= 1\n",
      "frame=0\n",
      "InputFile= disp/dump_curr.xyz\n",
      "num_frames= 1\n",
      "frame=0\n",
      "InputFile= disp/dump_curr.xyz\n",
      "num_frames= 1\n",
      "frame=0\n",
      "InputFile= disp/dump_curr.xyz\n",
      "num_frames= 1\n",
      "frame=0\n",
      "InputFile= disp/dump_curr.xyz\n",
      "num_frames= 1\n",
      "frame=0\n",
      "InputFile= disp/dump_curr.xyz\n",
      "num_frames= 1\n",
      "frame=0\n",
      "InputFile= disp/dump_curr.xyz\n",
      "num_frames= 1\n",
      "frame=0\n",
      "InputFile= disp/dump_curr.xyz\n",
      "num_frames= 1\n",
      "frame=0\n",
      "InputFile= disp/dump_curr.xyz\n",
      "num_frames= 1\n",
      "frame=0\n",
      "InputFile= disp/dump_curr.xyz\n",
      "num_frames= 1\n",
      "frame=0\n",
      "InputFile= disp/dump_curr.xyz\n",
      "num_frames= 1\n",
      "frame=0\n",
      "InputFile= disp/dump_curr.xyz\n",
      "num_frames= 1\n",
      "frame=0\n",
      "parsing disp/disp.xyz\n",
      "reached end of file!\n"
     ]
    },
    {
     "data": {
      "text/html": [
       "<div>\n",
       "<style scoped>\n",
       "    .dataframe tbody tr th:only-of-type {\n",
       "        vertical-align: middle;\n",
       "    }\n",
       "\n",
       "    .dataframe tbody tr th {\n",
       "        vertical-align: top;\n",
       "    }\n",
       "\n",
       "    .dataframe thead th {\n",
       "        text-align: right;\n",
       "    }\n",
       "</style>\n",
       "<table border=\"1\" class=\"dataframe\">\n",
       "  <thead>\n",
       "    <tr style=\"text-align: right;\">\n",
       "      <th></th>\n",
       "      <th>id</th>\n",
       "      <th>type</th>\n",
       "      <th>x</th>\n",
       "      <th>y</th>\n",
       "      <th>z</th>\n",
       "      <th>DisplacementX</th>\n",
       "      <th>DisplacementY</th>\n",
       "      <th>DisplacementZ</th>\n",
       "    </tr>\n",
       "  </thead>\n",
       "  <tbody>\n",
       "    <tr>\n",
       "      <th>0</th>\n",
       "      <td>1</td>\n",
       "      <td>4</td>\n",
       "      <td>14.257409</td>\n",
       "      <td>5.364226</td>\n",
       "      <td>12.519177</td>\n",
       "      <td>0.0</td>\n",
       "      <td>0.0</td>\n",
       "      <td>0.0</td>\n",
       "    </tr>\n",
       "    <tr>\n",
       "      <th>1</th>\n",
       "      <td>2</td>\n",
       "      <td>3</td>\n",
       "      <td>19.689968</td>\n",
       "      <td>35.838047</td>\n",
       "      <td>37.701435</td>\n",
       "      <td>0.0</td>\n",
       "      <td>0.0</td>\n",
       "      <td>0.0</td>\n",
       "    </tr>\n",
       "    <tr>\n",
       "      <th>2</th>\n",
       "      <td>3</td>\n",
       "      <td>2</td>\n",
       "      <td>5.313060</td>\n",
       "      <td>30.449585</td>\n",
       "      <td>25.174215</td>\n",
       "      <td>0.0</td>\n",
       "      <td>0.0</td>\n",
       "      <td>0.0</td>\n",
       "    </tr>\n",
       "    <tr>\n",
       "      <th>3</th>\n",
       "      <td>4</td>\n",
       "      <td>2</td>\n",
       "      <td>19.840660</td>\n",
       "      <td>46.732754</td>\n",
       "      <td>16.041273</td>\n",
       "      <td>0.0</td>\n",
       "      <td>0.0</td>\n",
       "      <td>0.0</td>\n",
       "    </tr>\n",
       "    <tr>\n",
       "      <th>4</th>\n",
       "      <td>5</td>\n",
       "      <td>3</td>\n",
       "      <td>52.073833</td>\n",
       "      <td>37.667217</td>\n",
       "      <td>35.884407</td>\n",
       "      <td>0.0</td>\n",
       "      <td>0.0</td>\n",
       "      <td>0.0</td>\n",
       "    </tr>\n",
       "  </tbody>\n",
       "</table>\n",
       "</div>"
      ],
      "text/plain": [
       "   id  type          x          y          z  DisplacementX  DisplacementY  \\\n",
       "0   1     4  14.257409   5.364226  12.519177            0.0            0.0   \n",
       "1   2     3  19.689968  35.838047  37.701435            0.0            0.0   \n",
       "2   3     2   5.313060  30.449585  25.174215            0.0            0.0   \n",
       "3   4     2  19.840660  46.732754  16.041273            0.0            0.0   \n",
       "4   5     3  52.073833  37.667217  35.884407            0.0            0.0   \n",
       "\n",
       "   DisplacementZ  \n",
       "0            0.0  \n",
       "1            0.0  \n",
       "2            0.0  \n",
       "3            0.0  \n",
       "4            0.0  "
      ]
     },
     "metadata": {},
     "output_type": "display_data"
    }
   ],
   "source": [
    "#--- refframe = current_frame - 1\n",
    "#--- reference\n",
    "!rm -r disp;mkdir disp\n",
    "print('current_frames=',current_frames)\n",
    "reference_frames = np.concatenate([[0],current_frames[:-1]])\n",
    "print('reference_frames=',reference_frames)\n",
    "    \n",
    "    \n",
    "#--- call ovito\n",
    "WrapperDisp(lmpData,reference_frames,current_frames)\n",
    "\n",
    "\n",
    "#--- parse velocity\n",
    "print('parsing %s'%(outpt))\n",
    "lmpVel = lp.ReadDumpFile( 'disp/disp.xyz' )\n",
    "lmpVel.GetCords( ncount = sys.maxsize )\n",
    "display(lmpVel.coord_atoms_broken[0].head())\n"
   ]
  },
  {
   "cell_type": "code",
   "execution_count": 160,
   "metadata": {},
   "outputs": [],
   "source": [
    "# def unwrapped(key0,key1):\n",
    "#     times = list(lmpDisp.coord_atoms_broken.keys())\n",
    "#     times.sort()\n",
    "#     x = np.concatenate([list(map(lambda x:lmpVel.coord_atoms_broken[x][key0],times))],axis=0).T\n",
    "#     x=x.cumsum(axis=1)\n",
    "#     x= (x.T + np.array(lmpVel.coord_atoms_broken[0][key1])).T\n",
    "#     return x\n",
    "\n",
    "# x=unwrapped('DisplacementX','x')\n",
    "# y=unwrapped('DisplacementY','y')\n",
    "# z=unwrapped('DisplacementZ','z')\n",
    "\n",
    "# times = list(lmpDisp.coord_atoms_broken.keys())\n",
    "# times.sort()\n",
    "# count=0\n",
    "# #xsum_concat=np.array([0,0,0])\n",
    "# for itime in times:\n",
    "#     filtr = lmpCna.coord_atoms_broken[itime]['StructureType'] == 0.0\n",
    "#     xsum = np.array([x[:,itime][filtr].mean(), y[:,itime][filtr].mean(), z[:,itime][filtr].mean()])\n",
    "#     xsum_concat = xsum.copy() if itime == 0 else np.c_[xsum_concat,xsum]\n",
    "#     count += 1\n",
    "# xsum_concat = xsum_concat.T\n",
    "# xsum_concat\n",
    "\n",
    "# !rm void.xyz\n",
    "# for itime in range(xsum_concat.shape[0]):\n",
    "#     sfile=open('void.xyz','a')\n",
    "#     utl.PrintOvito(pd.DataFrame(np.c_[xsum_concat[itime,:]].reshape(1,3),columns=['x','y','z']), \n",
    "#                    sfile, 'itime=%s'%itime, attr_list=['x', 'y', 'z'])"
   ]
  },
  {
   "cell_type": "markdown",
   "metadata": {},
   "source": [
    "## msd vs. time"
   ]
  },
  {
   "cell_type": "code",
   "execution_count": 14,
   "metadata": {},
   "outputs": [
    {
     "name": "stdout",
     "output_type": "stream",
     "text": [
      "mkdir: msd: File exists\r\n"
     ]
    },
    {
     "data": {
      "image/png": "[encoded data removed]",
      "text/plain": [
       "<Figure size 288x288 with 1 Axes>"
      ]
     },
     "metadata": {
      "needs_background": "light"
     },
     "output_type": "display_data"
    }
   ],
   "source": [
    "class MsDisp:\n",
    "    \n",
    "    def __init__(self, lmpDisp, lmpVel, lmpCna, filtr):\n",
    "        '''\n",
    "        returns mean-squared displacements\n",
    "        '''\n",
    "        self.disp = lmpDisp.coord_atoms_broken\n",
    "        self.veloc = lmpVel.coord_atoms_broken\n",
    "        self.cna = lmpCna.coord_atoms_broken\n",
    "        \n",
    "        self.times = list(lmpDisp.coord_atoms_broken.keys())\n",
    "        self.times.sort()\n",
    "        \n",
    "        self.filtr=filtr\n",
    "    def Get(self,LOG=False):\n",
    "        '''\n",
    "        returns msd (no temporal window)\n",
    "        '''\n",
    "        if not LOG: #---  mean\n",
    "            msd = list(map(lambda x:(self.disp[x]['DisplacementX']**2+\\\n",
    "                         self.disp[x]['DisplacementY']**2+\\\n",
    "                         self.disp[x]['DisplacementZ']**2).mean(),\n",
    "                    self.times))\n",
    "        else: #--- geometric mean\n",
    "            msd = list(map(lambda x:10**((np.log10(self.disp[x]['DisplacementX']**2+\\\n",
    "                         self.disp[x]['DisplacementY']**2+\\\n",
    "                         self.disp[x]['DisplacementZ']**2)).mean()),\n",
    "                    self.times))\n",
    "        return np.array(msd)\n",
    "        \n",
    "    def GetPdfJumps(self):\n",
    "        '''\n",
    "        pdf's of jumps\n",
    "        '''\n",
    "        for itime in self.times:\n",
    "            df=self.veloc[itime]\n",
    "            if itime == 0:\n",
    "                df_concat = np.c_[df[['DisplacementX','DisplacementY','DisplacementZ']]]\n",
    "            else:\n",
    "                df_concat = np.concatenate([df_concat,df[['DisplacementX','DisplacementY','DisplacementZ']]],axis=0) \n",
    "        df_abs = np.abs(df_concat.flatten())\n",
    "        filtr = df_abs > 0.0\n",
    "        \n",
    "        hist, bin_edges, err = utl.GetPDF(df_abs[filtr],n_per_decade=4)\n",
    "        utl.PltErr(bin_edges,hist, yerr=err,\n",
    "                  yscale='log',\n",
    "                   xscale='log',\n",
    "        #           ylim=(1e-6,1e4)\n",
    "                  )\n",
    "        #\n",
    "        with open('msd/event_jumps.txt','w') as fp:\n",
    "            np.savetxt(fp,np.c_[bin_edges,hist,err],header='bin_edges hist err')\n",
    "\n",
    "        \n",
    "    def WindowAverage(self,ttime,bins_per_decade=4,LOG=False):\n",
    "        '''\n",
    "        returnd msd (include temporal windows)\n",
    "        '''\n",
    "        for shift in range(1,len(self.times)-1):\n",
    "    #        shift = 1 #--- time index  shift\n",
    "            dt = zip(self.times,self.times[shift:]) #--- time tuples\n",
    "            dt_real = list(map(lambda x: x[1]-x[0], zip(ttime,ttime[shift:]))) #--- real time difference\n",
    "            if not LOG: #---  mean\n",
    "                disp = list(map(lambda x: ((self.disp[x[1]]['DisplacementX'][self.filtr]-self.disp[x[0]]['DisplacementX'][self.filtr])**2+\\\n",
    "                              (self.disp[x[1]]['DisplacementY'][self.filtr]-self.disp[x[0]]['DisplacementY'][self.filtr])**2+\\\n",
    "                              (self.disp[x[1]]['DisplacementZ'][self.filtr]-self.disp[x[0]]['DisplacementZ'][self.filtr])**2).mean(),\n",
    "                    zip(self.times,self.times[shift:])))\n",
    "            else:\n",
    "                disp = list(map(lambda x: 10**((np.log10((self.disp[x[1]]['DisplacementX'][self.filtr]-self.disp[x[0]]['DisplacementX'][self.filtr])**2+\\\n",
    "                              (self.disp[x[1]]['DisplacementY'][self.filtr]-self.disp[x[0]]['DisplacementY'][self.filtr])**2+\\\n",
    "                              (self.disp[x[1]]['DisplacementZ'][self.filtr]-self.disp[x[0]]['DisplacementZ'][self.filtr])**2)).mean()),\n",
    "                    zip(self.times,self.times[shift:])))\n",
    "            \n",
    "#            print(np.array(disp).shape)\n",
    "            if shift == 1:\n",
    "                tr_mat=np.c_[dt_real,disp]\n",
    "            else:    \n",
    "                tr_mat = np.concatenate([tr_mat,np.c_[dt_real,disp]],axis=0)\n",
    "                \n",
    "        #--- remove dt == 0\n",
    "        filtr = tr_mat[:,0] > 0\n",
    "        tr_mat = tr_mat[filtr]\n",
    "        \n",
    "#        pdb.set_trace()\n",
    "        #--- binning\n",
    "        xmin = 0.99*tr_mat[:,0].min()\n",
    "        xmax = 1.01*tr_mat[:,0].max()\n",
    "        n_decades = int(np.ceil(np.log10(xmax/xmin)))\n",
    "        bins = np.logspace(np.log10(xmin),np.log10(xmax),n_decades*bins_per_decade)\n",
    "        #\n",
    "        ysum, edges = np.histogram(tr_mat[:,0],bins=bins,weights=tr_mat[:,1])\n",
    "        ysum_sq, edges = np.histogram(tr_mat[:,0],bins=bins,weights=tr_mat[:,1]*tr_mat[:,1])\n",
    "        xsum, edges = np.histogram(tr_mat[:,0],bins=bins,weights=tr_mat[:,0])\n",
    "        count, edges = np.histogram(tr_mat[:,0],bins=bins)\n",
    "        #\n",
    "        filtr = count > 1\n",
    "        ysum = ysum[filtr]\n",
    "        ysum_sq = ysum_sq[filtr]\n",
    "        xsum = xsum[filtr]\n",
    "        count = count[filtr]\n",
    "        assert not np.any(count == 0), 'incerease bin size!'\n",
    "        #\n",
    "        ysum_sq /= count\n",
    "        ysum /= count\n",
    "        xsum /= count\n",
    "        ysum_sq -= (ysum * ysum)\n",
    "#        assert not np.any(ysum_sq < 0.0), 'print %s'%ysum_sq\n",
    "        \n",
    "        return np.c_[xsum,ysum,(ysum_sq/count)**0.5]\n",
    "    \n",
    "    def VacancyDynamics(self, title='void.xyz'):\n",
    "        '''\n",
    "        return xyz coordinates associated with vacancy \n",
    "        '''\n",
    "        #--- unwrapped coordinates\n",
    "        times = self.times[1:]\n",
    "        xsum_concat=np.array([0,0,0])\n",
    "        for itime in times:\n",
    "            filtr = self.cna[itime-1]['StructureType'] == 0.0 #--- neighboring atoms\n",
    "            xsum = -np.array(self.veloc[itime][filtr] #--- disp\n",
    "                            [['DisplacementX','DisplacementY','DisplacementZ']].sum())\n",
    "            xsum_concat = np.c_[xsum_concat,xsum]\n",
    "        xsum_concat = xsum_concat.T\n",
    "        xv = xsum_concat.cumsum(axis=0) #--- integrate\n",
    "#        utl.PltErr(xv[:,0],xv[:,1])\n",
    "        #--- add initial position\n",
    "        itime=0\n",
    "        filtr = self.cna[itime]['StructureType'] == 0.0\n",
    "        rc = np.array(self.veloc[itime][filtr]\n",
    "                        [['x','y','z']].mean())\n",
    "        #--- print\n",
    "        try:\n",
    "            os.system('rm msd/%s'%title)\n",
    "        except:\n",
    "            pass\n",
    "        for itime in range(xv.shape[0]):\n",
    "            sfile=open('msd/%s'%title,'a')\n",
    "            utl.PrintOvito(pd.DataFrame(np.c_[xv[itime,:]+rc].reshape(1,3),columns=['x','y','z']), \n",
    "                       sfile, 'itime=%s'%itime, attr_list=['x', 'y', 'z'])\n",
    "            \n",
    "        self.xv = xv\n",
    "        self.dxv = xsum_concat\n",
    "    \n",
    "\n",
    "!mkdir msd\n",
    "msd = MsDisp( lmpDisp, lmpVel, lmpCna,\n",
    "              np.ones(lmpDisp.coord_atoms_broken[0].shape[0],dtype=bool) #--- filter \n",
    "            )\n",
    "#\n",
    "msd.GetPdfJumps() #--- jump distributions\n",
    "#--- vacancy\n",
    "msd.VacancyDynamics(title='void4.xyz')\n",
    "#\n",
    "ans = msd.WindowAverage(lmpData.headers['Time'][::2],bins_per_decade=4,LOG=False) #---msd\n",
    "ans_logAveraged = msd.WindowAverage(lmpData.headers['Time'][::2],bins_per_decade=4,LOG=True)\n",
    "#\n",
    "#\n",
    "with open('msd/msd.txt','w') as fp:\n",
    "    np.savetxt(fp,ans,header='t\\tmsd\\terr')\n",
    "#\n",
    "with open('msd/msd_logAveraged.txt','w') as fp:\n",
    "    np.savetxt(fp,ans_logAveraged,header='t\\tmsd\\terr')\n",
    "#\n",
    "with open('msd/event_times.txt','w') as fp:\n",
    "    np.savetxt(fp,lmpData.times,header='t')\n",
    "#\n",
    "with open('msd/timeseries.txt','w') as fp:\n",
    "    np.savetxt(fp,np.c_[lmpData.headers],header='Barrier Energy Step Time')\n",
    "    \n",
    "#--- filter based on atom types\n",
    "# types = list(set(lmpDisp.coord_atoms_broken[0]['type']))\n",
    "# for itype in types:\n",
    "#     filtr = lmpDisp.coord_atoms_broken[0]['type'] == itype\n",
    "#     msd = MsDisp( lmpDisp, lmpVel,\n",
    "#               filtr #--- filter \n",
    "#             )\n",
    "#     ans = msd.WindowAverage(lmpData.times,bins_per_decade=4)\n",
    "#     #--- print\n",
    "#     with open('msd/msd_type%s.txt'%itype,'w') as fp:\n",
    "#         np.savetxt(fp,ans,header='t\\tmsd\\terr')\n",
    "#     with open('msd/event_times_type%s.txt'%itype,'w') as fp:\n",
    "#         np.savetxt(fp,lmpData.times,header='t')\n",
    "\n"
   ]
  },
  {
   "cell_type": "markdown",
   "metadata": {},
   "source": [
    "## Energy barriers"
   ]
  },
  {
   "cell_type": "code",
   "execution_count": 188,
   "metadata": {},
   "outputs": [],
   "source": [
    "class EnergyBarrier:\n",
    "    '''\n",
    "    return energy barriers corresponding to diffusional hopping\n",
    "    '''\n",
    "    def __init__(self,events_directory,evlist_directory):\n",
    "        self.events_dir = events_directory\n",
    "        self.evlist_dir = evlist_directory\n",
    "        \n",
    "    def Parse(self):\n",
    "        '''\n",
    "        parse event files\n",
    "        '''\n",
    "        self.events_id_energy = self.ParseEvents_dir()\n",
    "        self.catalog = self.ParseEvList_dir()\n",
    "        \n",
    "        \n",
    "    def ParseEvents_dir(self):\n",
    "        files = os.listdir(self.events_dir)\n",
    "        d={}\n",
    "        for sfile in files:\n",
    "            if not '.xyz' in sfile: #--- skip .xyz files \n",
    "                try:\n",
    "                    event_id = int(sfile[5:]) #--- event id\n",
    "                    filee=open('%s/%s'%(self.events_dir,sfile)) #--- open file\n",
    "                    xstrs = filee.readlines()\n",
    "                    barrier = float(xstrs[2].split()[-1]) #--- energy\n",
    "                    d.setdefault(event_id,[]).append(barrier) #--- store\n",
    "                except:\n",
    "        #            traceback.print_exc()\n",
    "                    continue\n",
    "        return d\n",
    "\n",
    "    def ParseEvList_dir(self):\n",
    "        files = os.listdir(self.evlist_dir)\n",
    "        events={}\n",
    "        for sfile in files:\n",
    "            try:\n",
    "                kmc_step = int(sfile.split('_')[-1])\n",
    "        #        print(kmc_step)\n",
    "                filee=open('%s/%s'%(self.evlist_dir,sfile)) #--- open file\n",
    "                events[kmc_step] = pd.read_csv(filee,delim_whitespace=True).iloc[1:]#delimiter='')\n",
    "            except:\n",
    "                continue\n",
    "        return events\n",
    "        \n",
    "eb = EnergyBarrier('%s/EVENTS_DIR'%confParser['input files']['input_path'],\n",
    "                   '%s/EVLIST_DIR'%confParser['input files']['input_path']\n",
    "                  \n",
    "                  )\n",
    "eb.Parse()\n",
    "\n",
    "#--- write to file\n",
    "with open('msd/eventID_barrier.txt','w') as fp:\n",
    "    d = eb.events_id_energy\n",
    "    np.savetxt(fp,\n",
    "               np.c_[list(map(lambda x:x, d.keys())),list(map(lambda x:d[x], d.keys()))],\n",
    "               header='event_id\\tbarrier')\n"
   ]
  },
  {
   "cell_type": "code",
   "execution_count": 175,
   "metadata": {},
   "outputs": [
    {
     "data": {
      "image/png": "[encoded data removed]",
      "text/plain": [
       "<Figure size 288x288 with 1 Axes>"
      ]
     },
     "metadata": {
      "needs_background": "light"
     },
     "output_type": "display_data"
    },
    {
     "data": {
      "text/plain": [
       "<AxesSubplot:>"
      ]
     },
     "execution_count": 175,
     "metadata": {},
     "output_type": "execute_result"
    }
   ],
   "source": [
    "# sarr=np.array(list(eb.events_id_energy.values())).flatten()\n",
    "# hist,edges,err=utl.GetPDF(sarr,n_per_decade=8)\n",
    "# utl.PltErr(edges,hist,yerr=err,xscale='log',yscale='log')"
   ]
  },
  {
   "cell_type": "code",
   "execution_count": 186,
   "metadata": {},
   "outputs": [
    {
     "data": {
      "image/png": "[encoded data removed]",
      "text/plain": [
       "<Figure size 288x288 with 1 Axes>"
      ]
     },
     "metadata": {
      "needs_background": "light"
     },
     "output_type": "display_data"
    },
    {
     "data": {
      "text/plain": [
       "<AxesSubplot:>"
      ]
     },
     "execution_count": 186,
     "metadata": {},
     "output_type": "execute_result"
    }
   ],
   "source": [
    "# sarr = np.concatenate(list(d.values()))\n",
    "# hist,edges,err=utl.GetPDF(sarr,n_per_decade=8)\n",
    "# utl.PltErr(edges,hist,yerr=err,xscale='log',yscale='log')"
   ]
  },
  {
   "cell_type": "code",
   "execution_count": 152,
   "metadata": {},
   "outputs": [
    {
     "name": "stdout",
     "output_type": "stream",
     "text": [
      "1\n",
      "2\n",
      "3\n",
      "4\n",
      "5\n",
      "6\n"
     ]
    },
    {
     "ename": "AssertionError",
     "evalue": "modes ['895794'] are missing!",
     "output_type": "error",
     "traceback": [
      "\u001b[0;31m---------------------------------------------------------------------------\u001b[0m",
      "\u001b[0;31mAssertionError\u001b[0m                            Traceback (most recent call last)",
      "\u001b[0;32m/var/folders/w4/q_xx9ztd7s7gxysg7b357v9h0000gn/T/ipykernel_2195/2382891247.py\u001b[0m in \u001b[0;36m<module>\u001b[0;34m\u001b[0m\n\u001b[1;32m      5\u001b[0m     \u001b[0mprint\u001b[0m\u001b[0;34m(\u001b[0m\u001b[0mkmc_step\u001b[0m\u001b[0;34m)\u001b[0m\u001b[0;34m\u001b[0m\u001b[0;34m\u001b[0m\u001b[0m\n\u001b[1;32m      6\u001b[0m     \u001b[0mtrueFalse\u001b[0m \u001b[0;34m=\u001b[0m \u001b[0mlist\u001b[0m\u001b[0;34m(\u001b[0m\u001b[0mmap\u001b[0m\u001b[0;34m(\u001b[0m\u001b[0;32mlambda\u001b[0m \u001b[0mx\u001b[0m\u001b[0;34m:\u001b[0m \u001b[0mint\u001b[0m\u001b[0;34m(\u001b[0m\u001b[0mx\u001b[0m\u001b[0;34m)\u001b[0m \u001b[0;32min\u001b[0m \u001b[0meb\u001b[0m\u001b[0;34m.\u001b[0m\u001b[0mevents_id_energy\u001b[0m\u001b[0;34m.\u001b[0m\u001b[0mkeys\u001b[0m\u001b[0;34m(\u001b[0m\u001b[0;34m)\u001b[0m \u001b[0;34m,\u001b[0m\u001b[0meb\u001b[0m\u001b[0;34m.\u001b[0m\u001b[0mcatalog\u001b[0m\u001b[0;34m[\u001b[0m\u001b[0mkmc_step\u001b[0m\u001b[0;34m]\u001b[0m\u001b[0;34m[\u001b[0m\u001b[0;34m'eventId'\u001b[0m\u001b[0;34m]\u001b[0m\u001b[0;34m)\u001b[0m\u001b[0;34m)\u001b[0m\u001b[0;34m\u001b[0m\u001b[0;34m\u001b[0m\u001b[0m\n\u001b[0;32m----> 7\u001b[0;31m     \u001b[0;32massert\u001b[0m \u001b[0mnp\u001b[0m\u001b[0;34m.\u001b[0m\u001b[0mall\u001b[0m\u001b[0;34m(\u001b[0m\u001b[0mtrueFalse\u001b[0m\u001b[0;34m)\u001b[0m\u001b[0;34m,\u001b[0m\u001b[0;34m'modes %s are missing!'\u001b[0m\u001b[0;34m%\u001b[0m\u001b[0;34m(\u001b[0m\u001b[0mlist\u001b[0m\u001b[0;34m(\u001b[0m\u001b[0meb\u001b[0m\u001b[0;34m.\u001b[0m\u001b[0mcatalog\u001b[0m\u001b[0;34m[\u001b[0m\u001b[0mkmc_step\u001b[0m\u001b[0;34m]\u001b[0m\u001b[0;34m[\u001b[0m\u001b[0;34m'eventId'\u001b[0m\u001b[0;34m]\u001b[0m\u001b[0;34m[\u001b[0m\u001b[0;34m~\u001b[0m\u001b[0mnp\u001b[0m\u001b[0;34m.\u001b[0m\u001b[0marray\u001b[0m\u001b[0;34m(\u001b[0m\u001b[0mtrueFalse\u001b[0m\u001b[0;34m)\u001b[0m\u001b[0;34m]\u001b[0m\u001b[0;34m)\u001b[0m\u001b[0;34m)\u001b[0m\u001b[0;34m\u001b[0m\u001b[0;34m\u001b[0m\u001b[0m\n\u001b[0m",
      "\u001b[0;31mAssertionError\u001b[0m: modes ['895794'] are missing!"
     ]
    }
   ],
   "source": [
    "#--- assert events in catalogs are included in event dir\n",
    "# kmc_steps = list(eb.catalog.keys())\n",
    "# kmc_steps.sort()\n",
    "\n",
    "# for kmc_step in kmc_steps:\n",
    "#     print(kmc_step)\n",
    "#     trueFalse = list(map(lambda x: int(x) in eb.events_id_energy.keys() ,eb.catalog[kmc_step]['eventId']))\n",
    "#     assert np.all(trueFalse),'modes %s are missing!'%(list(eb.catalog[kmc_step]['eventId'][~np.array(trueFalse)]))\n"
   ]
  },
  {
   "cell_type": "code",
   "execution_count": 176,
   "metadata": {},
   "outputs": [],
   "source": [
    "#--- plot energy per atom\n",
    "# d={}\n",
    "# for kmc_step in kmc_steps:\n",
    "#     for items in np.c_[eb.catalog[kmc_step][['AtomId','barrier']]]:\n",
    "#         d.setdefault(int(items[0]),[]).append(float(items[1]))"
   ]
  },
  {
   "cell_type": "code",
   "execution_count": 274,
   "metadata": {},
   "outputs": [
    {
     "data": {
      "image/png": "[encoded data removed]",
      "text/plain": [
       "<Figure size 288x288 with 1 Axes>"
      ]
     },
     "metadata": {
      "needs_background": "light"
     },
     "output_type": "display_data"
    },
    {
     "data": {
      "text/plain": [
       "<AxesSubplot:>"
      ]
     },
     "execution_count": 274,
     "metadata": {},
     "output_type": "execute_result"
    }
   ],
   "source": [
    "# itime=90\n",
    "# #filtr = msd.cna[itime].StructureType==0.0\n",
    "# filtr=msd.veloc[itime].DisplacementX.abs() > 0.1\n",
    "# assert np.any(filtr)\n",
    "# idd = msd.veloc[itime][filtr].id.iloc[0]\n",
    "# #msd.veloc[itime][filtr]\n",
    "\n",
    "# times=list(msd.disp.keys())\n",
    "# times.sort()\n",
    "# #idd=10\n",
    "# dispx={}\n",
    "# itimec=itime\n",
    "# for itime in times:\n",
    "#     filtr= msd.disp[itime].id==idd\n",
    "#     dispx[itime]=msd.disp[itime].DisplacementX[filtr]\n",
    "# tt=lmpData.headers.Time.iloc[0::2]\n",
    "# utl.PltErr(tt,\n",
    "#            list(map(lambda x:dispx[x],times[0::2])),\n",
    "# #           attrs={'fmt':'.'},\n",
    "#            xlim=(tt[itimec-2],tt[itimec+2]),\n",
    "#            attrs={'marker':'o',\n",
    "#                   'markersize':6,\n",
    "#                   'drawstyle':'steps-post'}\n",
    "           \n",
    "#           )"
   ]
  },
  {
   "cell_type": "code",
   "execution_count": 255,
   "metadata": {},
   "outputs": [
    {
     "data": {
      "image/png": "[encoded data removed]",
      "text/plain": [
       "<Figure size 288x288 with 1 Axes>"
      ]
     },
     "metadata": {
      "needs_background": "light"
     },
     "output_type": "display_data"
    },
    {
     "data": {
      "text/plain": [
       "<AxesSubplot:>"
      ]
     },
     "execution_count": 255,
     "metadata": {},
     "output_type": "execute_result"
    }
   ],
   "source": [
    "# tt=lmpData.headers.Time.iloc[0::2]\n",
    "# utl.PltErr(tt,msd.xv[:,0][0::2],\n",
    "#             xlim=(tt[100],tt[130]),\n",
    "#             ylim=(5,22),\n",
    "#            attrs={'marker':'o',\n",
    "#                   'markersize':8,\n",
    "#                   'drawstyle':'steps-post'}\n",
    "#           )\n",
    "\n",
    "# # utl.PltErr(tt,msd.xv[:,1][0::2],\n",
    "# # #            xlim=(tt[100],tt[130]),\n",
    "# # #            ylim=(5,25),\n",
    "# #            attrs={'marker':'o',\n",
    "# #                   'markersize':8,\n",
    "# #                   'drawstyle':'steps-post'}\n",
    "# #           )\n",
    "\n",
    "# # utl.PltErr(tt,msd.xv[:,2][0::2],\n",
    "# # #            xlim=(tt[100],tt[130]),\n",
    "# # #            ylim=(5,25),\n",
    "# #            attrs={'marker':'o',\n",
    "# #                   'markersize':8,\n",
    "# #                   'drawstyle':'steps-post'}\n",
    "# #           )"
   ]
  },
  {
   "cell_type": "code",
   "execution_count": 241,
   "metadata": {
    "scrolled": false
   },
   "outputs": [
    {
     "data": {
      "image/png": "[encoded data removed]",
      "text/plain": [
       "<Figure size 288x288 with 1 Axes>"
      ]
     },
     "metadata": {
      "needs_background": "light"
     },
     "output_type": "display_data"
    },
    {
     "data": {
      "text/plain": [
       "<AxesSubplot:>"
      ]
     },
     "execution_count": 241,
     "metadata": {},
     "output_type": "execute_result"
    }
   ],
   "source": [
    "# tt=lmpData.headers.Time.iloc[0::2]\n",
    "# utl.PltErr(tt,msd.xv[:,0][0::2],\n",
    "#             xlim=(tt[0],tt[50]),\n",
    "#             ylim=(0,10),\n",
    "#            attrs={'marker':'s',\n",
    "#                   'markersize':8,\n",
    "#                   'drawstyle':'steps-post'}\n",
    "#           )"
   ]
  },
  {
   "cell_type": "code",
   "execution_count": 51,
   "metadata": {
    "scrolled": true
   },
   "outputs": [
    {
     "data": {
      "image/png": "[encoded data removed]",
      "text/plain": [
       "<Figure size 288x288 with 1 Axes>"
      ]
     },
     "metadata": {
      "needs_background": "light"
     },
     "output_type": "display_data"
    },
    {
     "data": {
      "text/plain": [
       "<AxesSubplot:>"
      ]
     },
     "execution_count": 51,
     "metadata": {},
     "output_type": "execute_result"
    }
   ],
   "source": [
    "# data = np.loadtxt('xxbarriers.txt')[:,1]\n",
    "\n",
    "# hist, bin_edges, err = utl.GetPDF(data,n_per_decade=16)\n",
    "# symbols=utl.Symbols()\n",
    "# #--- plot\n",
    "# utl.PltErr(bin_edges,hist,\n",
    "#               yerr=err,\n",
    "#        attrs=symbols.GetAttrs(),\n",
    "#            xscale='log',\n",
    "#            yscale='log'\n",
    "#               )\n",
    "            \n",
    "            "
   ]
  },
  {
   "cell_type": "code",
   "execution_count": 178,
   "metadata": {},
   "outputs": [
    {
     "data": {
      "text/html": [
       "<div>\n",
       "<style scoped>\n",
       "    .dataframe tbody tr th:only-of-type {\n",
       "        vertical-align: middle;\n",
       "    }\n",
       "\n",
       "    .dataframe tbody tr th {\n",
       "        vertical-align: top;\n",
       "    }\n",
       "\n",
       "    .dataframe thead th {\n",
       "        text-align: right;\n",
       "    }\n",
       "</style>\n",
       "<table border=\"1\" class=\"dataframe\">\n",
       "  <thead>\n",
       "    <tr style=\"text-align: right;\">\n",
       "      <th></th>\n",
       "      <th>Barrier</th>\n",
       "      <th>Energy</th>\n",
       "      <th>Step</th>\n",
       "      <th>Time</th>\n",
       "    </tr>\n",
       "  </thead>\n",
       "  <tbody>\n",
       "    <tr>\n",
       "      <th>0</th>\n",
       "      <td>0.000</td>\n",
       "      <td>-60079.887</td>\n",
       "      <td>0.0</td>\n",
       "      <td>0.000000e+00</td>\n",
       "    </tr>\n",
       "    <tr>\n",
       "      <th>1</th>\n",
       "      <td>0.987</td>\n",
       "      <td>-60078.900</td>\n",
       "      <td>0.5</td>\n",
       "      <td>2.948000e-11</td>\n",
       "    </tr>\n",
       "    <tr>\n",
       "      <th>2</th>\n",
       "      <td>0.000</td>\n",
       "      <td>-60079.887</td>\n",
       "      <td>1.0</td>\n",
       "      <td>2.948000e-11</td>\n",
       "    </tr>\n",
       "    <tr>\n",
       "      <th>3</th>\n",
       "      <td>0.987</td>\n",
       "      <td>-60078.900</td>\n",
       "      <td>1.5</td>\n",
       "      <td>5.514000e-11</td>\n",
       "    </tr>\n",
       "    <tr>\n",
       "      <th>4</th>\n",
       "      <td>0.000</td>\n",
       "      <td>-60079.887</td>\n",
       "      <td>2.0</td>\n",
       "      <td>5.514000e-11</td>\n",
       "    </tr>\n",
       "    <tr>\n",
       "      <th>...</th>\n",
       "      <td>...</td>\n",
       "      <td>...</td>\n",
       "      <td>...</td>\n",
       "      <td>...</td>\n",
       "    </tr>\n",
       "    <tr>\n",
       "      <th>196</th>\n",
       "      <td>0.000</td>\n",
       "      <td>-60079.887</td>\n",
       "      <td>98.0</td>\n",
       "      <td>2.080000e-09</td>\n",
       "    </tr>\n",
       "    <tr>\n",
       "      <th>197</th>\n",
       "      <td>0.987</td>\n",
       "      <td>-60078.900</td>\n",
       "      <td>98.5</td>\n",
       "      <td>2.080000e-09</td>\n",
       "    </tr>\n",
       "    <tr>\n",
       "      <th>198</th>\n",
       "      <td>0.000</td>\n",
       "      <td>-60079.887</td>\n",
       "      <td>99.0</td>\n",
       "      <td>2.080000e-09</td>\n",
       "    </tr>\n",
       "    <tr>\n",
       "      <th>199</th>\n",
       "      <td>0.987</td>\n",
       "      <td>-60078.900</td>\n",
       "      <td>99.5</td>\n",
       "      <td>2.083000e-09</td>\n",
       "    </tr>\n",
       "    <tr>\n",
       "      <th>200</th>\n",
       "      <td>0.000</td>\n",
       "      <td>-60079.887</td>\n",
       "      <td>100.0</td>\n",
       "      <td>2.083000e-09</td>\n",
       "    </tr>\n",
       "  </tbody>\n",
       "</table>\n",
       "<p>201 rows × 4 columns</p>\n",
       "</div>"
      ],
      "text/plain": [
       "     Barrier     Energy   Step          Time\n",
       "0      0.000 -60079.887    0.0  0.000000e+00\n",
       "1      0.987 -60078.900    0.5  2.948000e-11\n",
       "2      0.000 -60079.887    1.0  2.948000e-11\n",
       "3      0.987 -60078.900    1.5  5.514000e-11\n",
       "4      0.000 -60079.887    2.0  5.514000e-11\n",
       "..       ...        ...    ...           ...\n",
       "196    0.000 -60079.887   98.0  2.080000e-09\n",
       "197    0.987 -60078.900   98.5  2.080000e-09\n",
       "198    0.000 -60079.887   99.0  2.080000e-09\n",
       "199    0.987 -60078.900   99.5  2.083000e-09\n",
       "200    0.000 -60079.887  100.0  2.083000e-09\n",
       "\n",
       "[201 rows x 4 columns]"
      ]
     },
     "execution_count": 178,
     "metadata": {},
     "output_type": "execute_result"
    }
   ],
   "source": [
    "lmpData.headers #.Time.iloc[0::2]"
   ]
  },
  {
   "cell_type": "code",
   "execution_count": 34,
   "metadata": {},
   "outputs": [
    {
     "data": {
      "text/plain": [
       "dict_keys([0, 1, 2, 3, 4, 5, 6, 7, 8, 9, 10, 11, 12, 13, 14, 15, 16, 17, 18, 19, 20, 21, 22, 23, 24, 25, 26, 27, 28, 29, 30, 31, 32, 33, 34, 35, 36, 37, 38, 39, 40, 41, 42, 43, 44, 45, 46, 47, 48, 49, 50, 51, 52, 53, 54, 55, 56, 57, 58, 59, 60, 61, 62, 63, 64, 65, 66, 67, 68, 69, 70, 71, 72, 73, 74, 75, 76, 77, 78, 79, 80, 81, 82, 83, 84, 85, 86, 87, 88, 89, 90, 91, 92, 93, 94, 95, 96, 97, 98, 99, 100, 101, 102, 103, 104, 105, 106, 107, 108, 109, 110, 111, 112, 113, 114, 115, 116, 117, 118, 119, 120, 121, 122, 123, 124, 125, 126, 127, 128, 129, 130, 131, 132, 133, 134, 135, 136, 137, 138, 139, 140, 141, 142, 143, 144, 145, 146, 147, 148, 149, 150, 151, 152, 153, 154, 155, 156, 157, 158, 159, 160, 161, 162, 163, 164, 165, 166, 167, 168, 169, 170, 171, 172, 173, 174, 175, 176, 177, 178, 179, 180, 181, 182, 183, 184, 185, 186, 187, 188, 189, 190, 191, 192, 193, 194, 195, 196, 197, 198, 199, 200, 201])"
      ]
     },
     "execution_count": 34,
     "metadata": {},
     "output_type": "execute_result"
    }
   ],
   "source": [
    "lmpData.coord_atoms_broken.keys()"
   ]
  },
  {
   "cell_type": "code",
   "execution_count": 21,
   "metadata": {},
   "outputs": [
    {
     "name": "stdout",
     "output_type": "stream",
     "text": [
      "mkdir: png: File exists\r\n"
     ]
    },
    {
     "data": {
      "image/png": "[encoded data removed]",
      "text/plain": [
       "<Figure size 288x288 with 1 Axes>"
      ]
     },
     "metadata": {
      "needs_background": "light"
     },
     "output_type": "display_data"
    },
    {
     "data": {
      "text/plain": [
       "<AxesSubplot:xlabel='$t\\\\mathrm{(s)}$', ylabel='msd(A$^2$)'>"
      ]
     },
     "execution_count": 21,
     "metadata": {},
     "output_type": "execute_result"
    }
   ],
   "source": [
    "!mkdir png\n",
    "symbols=utl.Symbols()\n",
    "\n",
    "# ans=ans_tot\n",
    "ax=utl.PltErr(ans_logAveraged[:,0],ans_logAveraged[:,1],\n",
    "           yerr=ans_logAveraged[:,2],\n",
    "           attrs=symbols.GetAttrs(count=0),\n",
    "           Plot=False,\n",
    "          )\n",
    "\n",
    "ax=utl.PltErr(ans[:,0],ans[:,1],\n",
    "           yerr=ans[:,2],\n",
    "           ax = ax,\n",
    "           attrs=symbols.GetAttrs(count=1),\n",
    "           Plot=False,\n",
    "          )\n",
    "utl.PltErr(None,#lmpData.times[1:],\n",
    "           None, #msd.Get()[1:],\n",
    "          xscale='log',\n",
    "          yscale='log',\n",
    "           attrs={'fmt':'-'},\n",
    "           ax=ax,\n",
    "#           ylim=(1e-4,1e-1),\n",
    "           xstr=r'$t\\mathrm{(s)}$',\n",
    "           ystr=r'msd(A$^2$)',\n",
    "           title='png/msd.png'\n",
    "          )"
   ]
  },
  {
   "cell_type": "markdown",
   "metadata": {},
   "source": [
    "## arrhenius law"
   ]
  },
  {
   "cell_type": "code",
   "execution_count": 195,
   "metadata": {
    "scrolled": false
   },
   "outputs": [
    {
     "name": "stdout",
     "output_type": "stream",
     "text": [
      "mkdir: png: File exists\n",
      "ensemble average\n"
     ]
    },
    {
     "data": {
      "image/png": "[encoded data removed]",
      "text/plain": [
       "<Figure size 288x288 with 1 Axes>"
      ]
     },
     "metadata": {
      "needs_background": "light"
     },
     "output_type": "display_data"
    },
    {
     "data": {
      "image/png": "[encoded data removed]",
      "text/plain": [
       "<Figure size 288x288 with 1 Axes>"
      ]
     },
     "metadata": {
      "needs_background": "light"
     },
     "output_type": "display_data"
    },
    {
     "data": {
      "image/png": "[encoded data removed]",
      "text/plain": [
       "<Figure size 288x288 with 1 Axes>"
      ]
     },
     "metadata": {
      "needs_background": "light"
     },
     "output_type": "display_data"
    },
    {
     "data": {
      "image/png": "[encoded data removed]",
      "text/plain": [
       "<Figure size 288x288 with 1 Axes>"
      ]
     },
     "metadata": {
      "needs_background": "light"
     },
     "output_type": "display_data"
    }
   ],
   "source": [
    "class Temperature:\n",
    "    \n",
    "    def __init__(self,temp_range,nrun,verbose=False):\n",
    "        self.temps =  temp_range\n",
    "        self.nrun = nrun\n",
    "        t,r=np.meshgrid(self.temps,np.arange(nrun),indexing='ij')\n",
    "        self.temps_runs = np.array(list(zip(t.flatten(),r.flatten())))\n",
    "        self.verbose = verbose\n",
    "        \n",
    "    def Parse(self,dirs):\n",
    "#         print('dirs:',dirs)\n",
    "        self.data=list(map(lambda x:np.loadtxt(x,ndmin=2),dirs))\n",
    "        if self.verbose:\n",
    "            list(map(lambda x:print('Parsing: data.shape is',x.shape),self.data))\n",
    "#        print('np.array(self.data):',np.array(self.data))\n",
    "\n",
    "        \n",
    "    def Plot(self,**kwargs):\n",
    "#        print(list(self.temps_runs))\n",
    "        self.ax = utl.PltErr(None,#ans[:,0],\n",
    "                        None,#1e8*ans[:,0],\n",
    "                        attrs={'fmt':'-.r'},Plot=False)\n",
    "\n",
    "        symbols=utl.Symbols()\n",
    "        legends = Legends()\n",
    "        legends.Set(bbox_to_anchor=kwargs['bbox_to_anchor'] if 'bbox_to_anchor' in kwargs\n",
    "                    else (1.0,0.5,0.5,0.5)\n",
    "                   )\n",
    "        for data, temp_run, count in zip(self.data,self.temps_runs,range(len(self.data))): \n",
    "            temp = temp_run[0]\n",
    "            try:\n",
    "                utl.PltErr(data[:,0],data[:,1],\n",
    "                       yerr=data[:,2],\n",
    "                       ax = self.ax,\n",
    "                       attrs=symbols.GetAttrs(count=count%7,label=r'$%s$'%temp),\n",
    "                       Plot=False,\n",
    "                      )\n",
    "            except:\n",
    "                continue\n",
    "        #\n",
    "        utl.PltErr(None,\n",
    "                   None,\n",
    "                   ax=self.ax,\n",
    "                   Plot=False,\n",
    "                   DrawFrame=DRAW_FRAME,\n",
    "                legend=legends.Get(),\n",
    "                   **kwargs\n",
    "                  )\n",
    "        \n",
    "    def EnsAverage(self,log_scale=False):\n",
    "        kount = 0\n",
    "        self.data_averaged = {} #np.zeros(len(self.temps))\n",
    "        for temp, indx in zip(self.temps,range(len(self.temps))):\n",
    "            #--- concat. data for each temp\n",
    "            data = self.data[kount:kount+self.nrun]\n",
    "            if self.verbose:\n",
    "                print('data.shape:',np.array(data).shape)\n",
    "#             print('np.array(data):',np.array(data))\n",
    "#             pdb.set_trace()\n",
    "    \n",
    "            filtr = list(map(lambda x:x.shape[0] > 0,data)) #--- filter empty arrays\n",
    "    \n",
    "            data = np.concatenate(np.array(data)[filtr]) #,axis=0)\n",
    "            self.data_averaged[ temp ] = self.hist(data,log_scale)\n",
    "            kount += self.nrun\n",
    "\n",
    "    def hist(self,data,log_scale):\n",
    "        n_thresh = 1\n",
    "            #--- average\n",
    "        xdata = data[:,0]\n",
    "        ydata = data[:,1]\n",
    "        xmin = np.floor(np.log10(xdata).min())\n",
    "        xmax = np.ceil(np.log10(xdata).max())\n",
    "        n_decades = int((xmax - xmin))\n",
    "        bins = np.logspace(xmin,xmax,n_decades*6)\n",
    "        #\n",
    "        count, _ = np.histogram(xdata,bins=bins)\n",
    "        xsum, _  = np.histogram(xdata,bins=bins,weights=xdata)\n",
    "        weights = ydata if not log_scale else np.log10(ydata)\n",
    "        ysum, _  = np.histogram(xdata,bins=bins,weights=weights)\n",
    "        ysum_sq, _  = np.histogram(xdata,bins=bins,weights=weights*weights)\n",
    "        #\n",
    "        xsum = xsum[count>n_thresh]\n",
    "        ysum = ysum[count>n_thresh]\n",
    "        ysum_sq = ysum_sq[count>n_thresh]\n",
    "        count = count[count>n_thresh]\n",
    "        #\n",
    "        xsum /= count\n",
    "        ysum /= count\n",
    "        ysum_sq /= count\n",
    "        std = np.sqrt((ysum_sq - ysum * ysum)/count)\n",
    "        if log_scale:\n",
    "            ysum = 10 ** ysum\n",
    "            std = 0.5 * ysum * (1+2*std*np.log(10))\n",
    "        return np.c_[xsum,ysum,std]\n",
    "        \n",
    "        \n",
    "#            utl.PltErr(xsum,ysum,ax=self.ax)\n",
    "            \n",
    "\n",
    "    def PlotAverage(self,rescale=False,**kwargs):\n",
    "#        print(list(self.temps_runs))\n",
    "        self.ax = utl.PltErr(None,#ans[:,0],\n",
    "                        None,#1e8*ans[:,0],\n",
    "                        attrs={'fmt':'-.r'},Plot=False)\n",
    "\n",
    "        symbols=utl.Symbols()\n",
    "        legends = Legends()\n",
    "        legends.Set(bbox_to_anchor=kwargs['bbox_to_anchor'] if 'bbox_to_anchor' in kwargs\n",
    "                    else (1.0,0.5,0.5,0.5))\n",
    "        for temp, count in zip(self.temps,range(len(self.temps))): \n",
    "            data = self.data_averaged[ temp ]\n",
    "            xdata = data[:,0]\n",
    "            ydata = data[:,1]\n",
    "            yerr = data[:,2]\n",
    "            if rescale:\n",
    "                ydata /= xdata\n",
    "                yerr /= xdata\n",
    "            utl.PltErr(xdata,ydata,\n",
    "                   yerr=yerr,\n",
    "                   ax = self.ax,\n",
    "                   attrs=symbols.GetAttrs(count=count%7,label=r'$%s$'%temp,nevery=1),\n",
    "                   Plot=False,\n",
    "                  )\n",
    "\n",
    "        utl.PltErr(None,\n",
    "                   None, \n",
    "                   ax=self.ax,\n",
    "                   Plot=False,\n",
    "#                    legend=legends.Get(),\n",
    "                   DrawFrame=DRAW_FRAME,\n",
    "                   **kwargs\n",
    "                  )\n",
    "        \n",
    "        \n",
    "    def func2nd(self,x,x0,y0,c0,alpha):\n",
    "        return y0+c0*(x/x0)**alpha\n",
    "#     def func2nd(self,x,y0,m0):\n",
    "#         return y0+m0*x\n",
    "\n",
    "    def Fit(self,Plot=None,shift = False,SIGMA=False,plotAttrs=None,**kwargs):\n",
    "        self.Diffusion = {}\n",
    "        self.exponent = {}\n",
    "        pref=1e-10*1e-10 #--- ang^2 to m^2\n",
    "        symbols=utl.Symbols()\n",
    "        legends = Legends()\n",
    "        legends.Set(bbox_to_anchor=plotAttrs['bbox_to_anchor'] if 'bbox_to_anchor' in plotAttrs\n",
    "                    else (1.0,0.5,0.5,0.5))\n",
    "\n",
    "        if Plot:\n",
    "            ax = utl.PltErr(None,None,\n",
    "                            Plot=False)\n",
    "        #\n",
    "        for temp, count in zip(self.temps,range(len(self.temps))): \n",
    "            smat = self.data_averaged[ temp ] if self.nrun > 1 else self.data[count]\n",
    "\n",
    "            xdata=smat[:,0]\n",
    "            ydata=smat[:,1]\n",
    "            yerr = smat[:,2]\n",
    "            sigma = yerr if SIGMA else None\n",
    "            popt, pcov = curve_fit(self.func2nd, xdata, ydata,\n",
    "                                   sigma = sigma,\n",
    "                                   **kwargs\n",
    "                                    )\n",
    "            #--- uncertainties\n",
    "            if self.verbose:\n",
    "                print('Temp=%s,x0,y0,c0,alpha'%temp,list(popt),pcov)\n",
    "            y0=popt[1]\n",
    "            alpha=popt[3]\n",
    "            err_alpha = pcov[3,3]**0.5\n",
    "            c0=popt[2]\n",
    "            dc = pcov[2,2]**0.5\n",
    "            tau=popt[0]\n",
    "            dtau=pcov[0,0]**0.5\n",
    "#             self.Diffusion[temp] = [pref*c0/tau,pref*c0/tau,pref*c0/tau]\n",
    "            self.Diffusion[temp] = [pref*c0/(tau)**alpha, pref*(c0+dc)/(tau-dtau)**alpha, \n",
    "                                    pref*(c0-dc)/(tau+dtau)**alpha]\n",
    "            self.exponent[temp] = [alpha,alpha+err_alpha,alpha-err_alpha]\n",
    "            if Plot:\n",
    "                #---fit\n",
    "                xdata_shift = xdata*20**count if shift else xdata\n",
    "                utl.PltErr(xdata_shift,\n",
    "                                (self.func2nd(xdata,*popt)),#-y0)/xdata_shift,\n",
    "                                attrs={'fmt':'-.','color':symbols.colors[count%7]},\n",
    "                           Plot=False,ax=ax)\n",
    "                #--- points\n",
    "#                temp= [1000,1200,1400,1600,1800,2000][count]\n",
    "                utl.PltErr(xdata_shift,\n",
    "                           (ydata),#-y0)/xdata_shift,\n",
    "                           yerr=(yerr),#-y0),#/xdata_shift,\n",
    "                           attrs=symbols.GetAttrs(count=count%7,label=r'$%s$'%temp,fmt='.'),\n",
    "                           ax=ax,\n",
    "                           Plot=False,\n",
    "                          )\n",
    "        if Plot:\n",
    "            utl.PltErr(None,\n",
    "                       None, \n",
    "                       ax=ax,\n",
    "                       Plot=False,\n",
    "#                      legend=legends.Get(),\n",
    "                       DrawFrame=DRAW_FRAME,\n",
    "                       **plotAttrs\n",
    "                      )\n",
    "\n",
    "    def PlotDiff(self,**kwargs):\n",
    "        symbols=utl.Symbols()\n",
    "        utl.PltErr(1.0/np.array(self.temps),\n",
    "                   list(map(lambda x:self.Diffusion[x][0],self.temps)),\n",
    "                   yerr=list(map(lambda x:(self.Diffusion[x][1]-self.Diffusion[x][2])/2,self.temps)),\n",
    "                   attrs=symbols.GetAttrs(),\n",
    "                   DrawFrame=DRAW_FRAME,\n",
    "                   **kwargs\n",
    "                  )\n",
    "\n",
    "    def PlotExponent(self,**kwargs):\n",
    "        symbols=utl.Symbols()\n",
    "        ax=utl.PltErr([0.5e-3,1e-3],[1,1],attrs={'fmt':'-.r'},Plot=False)\n",
    "        utl.PltErr(1.0/np.array(self.temps),\n",
    "                   list(map(lambda x:self.exponent[x][0],self.temps)),\n",
    "                   yerr=list(map(lambda x:(self.exponent[x][1]-self.exponent[x][2]),self.temps)),\n",
    "                   attrs=symbols.GetAttrs(),\n",
    "                   DrawFrame=DRAW_FRAME,\n",
    "                   ax=ax,\n",
    "                   **kwargs\n",
    "                  )\n",
    "\n",
    "if not eval(confParser['flags']['RemoteMachine']):\n",
    "    !mkdir png\n",
    "    #--- temp object\n",
    "    temp = Temperature(\n",
    "        [1000,1200,1400,1600,1800,2000],8,\n",
    "#        [1000,1200,1400,1600,1800,2000],8,\n",
    "#        [1000,1200,1400,1600,1800,2000],1,\n",
    "#        np.arange(1000,1440,80),1,\n",
    "#         verbose = True,\n",
    "                     )\n",
    "    #\n",
    "    #--- parse data\n",
    "    temp.Parse( list(map(lambda x:'CantorNatom16KTemp%sKEnsemble8/Run%s/msd/msd.txt'%(x[0],x[1]),\n",
    "#    temp.Parse( list(map(lambda x:'NiCoCrNatom1KTemp%sK/Run%s/msd/msd.txt'%(x[0],x[1]),\n",
    "#    temp.Parse( list(map(lambda x:'NiNatom16KTemp%sK/Run%s/msd/msd.txt'%(x[0],x[1]),\n",
    "                         temp.temps_runs ))\n",
    "              )\n",
    "    #\n",
    "    #--- plot\n",
    "#     print('single realizations')\n",
    "#     temp.Plot(**{\n",
    "#                   'xscale':'log',\n",
    "#                   'yscale':'log',\n",
    "#                    'attrs':{'fmt':'-'},\n",
    "# #                   'xlim':(1e-10,1e-3),\n",
    "# #                   'ylim':(1e-4,1e-1),\n",
    "# #                   'xstr':r'$t\\mathrm{(s)}$',\n",
    "# #                   'ystr':r'msd(A$^2$)',\n",
    "#                    'title':'png/msd_temp_ni.png',\n",
    "#         'bbox_to_anchor':(0.01,0.3,0.5,0.5)\n",
    "#     })\n",
    "    #\n",
    "    #--- plot average\n",
    "    #\n",
    "    if temp.nrun > 1:\n",
    "        print('ensemble average')\n",
    "        temp.EnsAverage(log_scale=False)\n",
    "        temp.PlotAverage(**{\n",
    "                  'yscale':'log',\n",
    "                  'xscale':'log',\n",
    "#                   'xlim':(1e-10,1e-3),\n",
    "#                   'ylim':(1e-4,1e-1),\n",
    "#                     'xstr':r'$t\\mathrm{(s)}$',\n",
    "#                   'ystr':r'msd(A$^2$)',\n",
    "                   'title':'png/msd_temp_cantor.png',\n",
    "        })\n",
    "\n",
    "    #\n",
    "    #--- fit\n",
    "    #\n",
    "    temp.Fit(Plot=True,\n",
    "             shift=True,\n",
    "#             bounds=([0, 0, 0,0.999], [1e-2, 1e-3, 1,1.001]),\n",
    "             p0=[2.450192558293684e-08, 0.00023822488904874157, 0.9999977703994274, 0.9991059679876155],\n",
    "#            p0=[[1e-08, 1e-4, 1e2, 1.0]],\n",
    "             SIGMA=True, #--- comment for ni\n",
    "             plotAttrs={'yscale':'log',\n",
    "                  'xscale':'log',\n",
    "#                   'xlim':(4e-13,8e-4),\n",
    "#                   'ylim':(1e-4,1e-1),\n",
    "#                     'xstr':r'$t\\mathrm{(s)}$',\n",
    "#                   'ystr':r'msd(A$^2$)',\n",
    "                        'ndecade_x':2,\n",
    "                    'bbox_to_anchor':(-0.05,0.23,0.5,0.5),\n",
    "                   'title':'png/msd_temp_nicocr_fit.png'},\n",
    "            )\n",
    "    \n",
    "    temp.PlotDiff(**{\n",
    "                  'yscale':'log',\n",
    "#                   'xlim':(1e-12,1e-3),\n",
    "#                   'ylim':(1e-4,1e-1),\n",
    "#                   xstr=r'$1/T(K^{-1})$',\n",
    "#                   ystr=r'$D(m^2/s)$',\n",
    "                    'title':'png/D_temp_cantor.png',\n",
    "                    }\n",
    "                )\n",
    "\n",
    "    temp.PlotExponent(**{\n",
    "#                  'yscale':'log',\n",
    "#                   'xlim':(1e-10,1e-3),\n",
    "                   'ylim':(.5,1.1),\n",
    "#                   xstr=r'$1/T(K^{-1})$',\n",
    "#                   ystr=r'$D(m^2/s)$',\n",
    "                    'title':'png/alpha_temp_nicocr.png',\n",
    "                    }\n",
    "                )\n",
    "    \n"
   ]
  },
  {
   "cell_type": "markdown",
   "metadata": {},
   "source": [
    "### per type"
   ]
  },
  {
   "cell_type": "code",
   "execution_count": 26,
   "metadata": {
    "scrolled": false
   },
   "outputs": [
    {
     "name": "stdout",
     "output_type": "stream",
     "text": [
      "mkdir: cannot create directory ‘png’: File exists\n",
      "ensemble average: type 1\n",
      "ensemble average: type 2\n",
      "ensemble average: type 3\n",
      "ensemble average: type 4\n",
      "ensemble average: type 5\n"
     ]
    },
    {
     "data": {
      "image/png": "[encoded data removed]",
      "text/plain": [
       "<Figure size 288x288 with 1 Axes>"
      ]
     },
     "metadata": {
      "needs_background": "light"
     },
     "output_type": "display_data"
    }
   ],
   "source": [
    "if not eval(confParser['flags']['RemoteMachine']):\n",
    "    !mkdir png\n",
    "    ax = utl.PltErr(None,None,Plot=False)\n",
    "    symbols=utl.Symbols()\n",
    "    legends = Legends()\n",
    "    legends.Set(bbox_to_anchor=(1.0,0.5,0.5,0.5))\n",
    " \n",
    "                       \n",
    "    ntype = 5\n",
    "    for itype in range(1,ntype+1):\n",
    "        temp = Temperature(#[1000],3\n",
    "                           list(map(int,np.linspace(1000,1400,11))),3\n",
    "                          )\n",
    "        temp.Parse( list(map(lambda x:'CantorNatom16KTemp%sK_ensemble/Run%s/msd/msd_type%s.txt'%(x[0],x[1],itype),\n",
    "                            temp.temps_runs ))\n",
    "                  )\n",
    "        #\n",
    "  #      print('single realizations')\n",
    "  #      temp.Plot()\n",
    "        #\n",
    "        print('ensemble average: type %s'%itype)\n",
    "        temp.EnsAverage()\n",
    "#         temp.PlotAverage()\n",
    "#         #\n",
    "        temp.Fit(#Plot=True,\n",
    "        #         verbose=True\n",
    "        )\n",
    "#         temp.PlotDiff()\n",
    "        \n",
    "        #--- plot\n",
    "        utl.PltErr(1/np.array(list(temp.Diffusion.keys())),\n",
    "                   list(map(lambda x:temp.Diffusion[x],list(temp.Diffusion.keys()))),\n",
    "                       Plot=False,\n",
    "                   ax=ax,\n",
    "                   attrs=symbols.GetAttrs(count=(itype-1)%7,label=r'$%s$'%temp),\n",
    "                 )\n",
    "    utl.PltErr(None,None,\n",
    "               ax=ax,\n",
    "               yscale='log',\n",
    "               ylim=(1e-15,1e-11),\n",
    "              xstr=r'$1/T(K^{-1})$',\n",
    "              ystr=r'$D(m^2/s)$',\n",
    "              )"
   ]
  },
  {
   "cell_type": "markdown",
   "metadata": {},
   "source": [
    "## wait times"
   ]
  },
  {
   "cell_type": "code",
   "execution_count": 53,
   "metadata": {},
   "outputs": [
    {
     "name": "stdout",
     "output_type": "stream",
     "text": [
      "mkdir: png: File exists\r\n"
     ]
    },
    {
     "data": {
      "image/png": "[encoded data removed]",
      "text/plain": [
       "<Figure size 288x288 with 1 Axes>"
      ]
     },
     "metadata": {
      "needs_background": "light"
     },
     "output_type": "display_data"
    },
    {
     "data": {
      "image/png": "[encoded data removed]",
      "text/plain": [
       "<Figure size 288x288 with 1 Axes>"
      ]
     },
     "metadata": {
      "needs_background": "light"
     },
     "output_type": "display_data"
    }
   ],
   "source": [
    "class Stats(Temperature):\n",
    "    def __init__(self,temp_range,nrun,verbose=False):\n",
    "        Temperature.__init__(self,temp_range,nrun)\n",
    "        self.verbose = verbose\n",
    "    #\n",
    "    def PlotWaitTimes(self,scale=False,scalePowerLaw=False,\n",
    "                      **kwargs):\n",
    "        #\n",
    "        self.ax = utl.PltErr(None,#ans[:,0],\n",
    "                        None,#1e8*ans[:,0],\n",
    "                        attrs={'fmt':'-.r'},Plot=False)\n",
    "        symbols=utl.Symbols()\n",
    "        legends = Legends()\n",
    "        legends.Set(bbox_to_anchor=(1.0,0.5,0.5,0.5))\n",
    "        #\n",
    "        self.mean_rate = {}\n",
    "        #\n",
    "        for temp, indx in zip(self.temps,range(len(self.temps))):\n",
    "            #--- concat. data for each temp\n",
    "            data = self.data[indx:indx+self.nrun]\n",
    "            data = list(map(lambda x:self.GetWaitTimes(x),data))\n",
    "            if self.verbose:\n",
    "                print('data.shape (per temperature):',np.array(data).shape)\n",
    "            data = np.concatenate(data) #,axis=0)\n",
    "            rate = 1.0 / data.mean()\n",
    "            self.mean_rate[temp] = [ rate, rate*(1/len(data)**0.5)]\n",
    "            if scale:\n",
    "                data /= data.mean() \n",
    "            if self.verbose:\n",
    "                print('data.shape (concatenated):',data.shape)\n",
    "            #--- histogram\n",
    "            hist, bin_edges, err = utl.GetPDF(data,n_per_decade=6)\n",
    "            if scalePowerLaw:\n",
    "                alpha = 1.6\n",
    "                hist *= bin_edges ** alpha \n",
    "                err *= bin_edges ** alpha \n",
    "            #--- plot\n",
    "            utl.PltErr(bin_edges,hist,\n",
    "                          yerr=err,\n",
    "                   attrs=symbols.GetAttrs(count=indx%7,label=r'$%s$'%temp,fmt='.'),\n",
    "                   ax = self.ax,\n",
    "                   Plot=False,\n",
    "                          )\n",
    "        #\n",
    "        xhi=self.ax.axis()[1]\n",
    "        xarr = np.logspace(np.log10(xhi)-5.0,np.log10(xhi),32)\n",
    "        utl.PltErr( xarr if scale else None,\n",
    "                   np.exp(-xarr) if scale else None,\n",
    "                   attrs={'fmt':'-.r','lw':2},\n",
    "                   ax=self.ax,\n",
    "                   Plot=False,\n",
    "                   \n",
    "#                    legend=legends.Get(),\n",
    "                   DrawFrame=DRAW_FRAME,\n",
    "                   **kwargs\n",
    "                  )\n",
    "            \n",
    "    def PlotAverageRate(self,**kwargs):\n",
    "#        print(list(self.temps_runs))\n",
    "#         self.ax = utl.PltErr(None,#ans[:,0],\n",
    "#                         None,#1e8*ans[:,0],\n",
    "#                         attrs={'fmt':'-.r'},Plot=False)\n",
    "\n",
    "        symbols=utl.Symbols()\n",
    "        legends = Legends()\n",
    "        legends.Set(bbox_to_anchor=(1.0,0.5,0.5,0.5))\n",
    "        data = list(map(lambda x:self.mean_rate[ x ][0], self.temps))\n",
    "        err = list(map(lambda x:self.mean_rate[ x ][1], self.temps))\n",
    "#             utl.PltErr(data[:,0],data[:,1],\n",
    "#                    yerr=data[:,2],\n",
    "#                    ax = self.ax,\n",
    "#                    attrs=symbols.GetAttrs(count=count%7,label=r'$%s$'%temp),\n",
    "#                    Plot=False,\n",
    "#                   )\n",
    "\n",
    "        utl.PltErr(1.0/np.array(self.temps),\n",
    "                   data,\n",
    "                   yerr=err,\n",
    "                   attrs=symbols.GetAttrs(),\n",
    "                   DrawFrame=DRAW_FRAME,\n",
    "                   **kwargs\n",
    "                  )\n",
    "            \n",
    "    \n",
    "    def GetWaitTimes(self,times):\n",
    "#         times = np.array(np.c_[self.lmpData.headers['Time'].iloc[0::2]].flatten())\n",
    "        dtt = times[1:]-times[:-1]\n",
    "        assert not np.any(dtt<0.0)\n",
    "        filtr = dtt > 0.0\n",
    "        return dtt[filtr]\n",
    "\n",
    "    #\n",
    "    def Barries(self):\n",
    "        Barrier = self.lmpData.headers['Barrier'].iloc[1::2]        \n",
    "        hist, bin_edges, err = utl.GetPDF(Barrier,linscale=True,n_per_decade=16)\n",
    "        utl.PltErr(bin_edges,hist,\n",
    "                  yerr=err,\n",
    "                   attrs=symbols.GetAttrs(),\n",
    "                   #yscale='log',\n",
    "                   #xscale='log',\n",
    "                   xstr=r'$\\Delta E$',\n",
    "                   ystr=r'$P(\\Delta E)$'\n",
    "                  )\n",
    "\n",
    "if not eval(confParser['flags']['RemoteMachine']):\n",
    "    !mkdir png\n",
    "    \n",
    "    stats = Stats(\n",
    "#        [1000,1200,1400,1600,1800,2000],6,\n",
    "        [1000,1200,1400,1600,1800,2000],8,\n",
    "#        [1000,1200,1400,1600,1800,2000],1,\n",
    "#        np.arange(1000,1440,80),1,\n",
    "        verbose=False\n",
    "                     )\n",
    "#    stats.Parse( list(map(lambda x:'CantorNatom16KTemp%sKEnsemble8/Run%s/msd/event_times.txt'%(x[0],x[1]),\n",
    "    stats.Parse( list(map(lambda x:'NiCoCrNatom1KTemp%sK/Run%s/msd/event_times.txt'%(x[0],x[1]),\n",
    "#    stats.Parse( list(map(lambda x:'NiNatom16KTemp%sK/Run%s/msd/event_times.txt'%(x[0],x[1]),\n",
    "                         stats.temps_runs ))\n",
    "               )\n",
    "    stats.PlotWaitTimes(scale=True,\n",
    "                        **{'xscale':'log',\n",
    "                  'yscale':'log',\n",
    "#                   'xlim':(1e-9,1e-3),\n",
    "                   'ylim':(1e-5,1e2), #(1e-5,1e2),\n",
    "#                           'xstr':r'$\\Delta t$',\n",
    "#                           'ystr':r'$P(\\Delta t)$',\n",
    "                   'title':'png/waitTimes_unscaled_nicocr.png'},\n",
    "\n",
    "                       )\n",
    "#     stats.PlotWaitTimes(scale=True,scalePowerLaw=True,\n",
    "#                         **{'xscale':'log',\n",
    "#                   'yscale':'log',\n",
    "# #                   'xlim':(1e-9,1e-3),\n",
    "#                    'ylim':(1e-5,1e0), #(1e-5,1e2),\n",
    "# #                           'xstr':r'$\\Delta t$',\n",
    "# #                           'ystr':r'$P(\\Delta t)$',\n",
    "#                    'title':'png/waitTimes_rescaled_ni.png'},\n",
    "#                       )\n",
    "    stats.PlotAverageRate(\n",
    "                **{\n",
    "                    'fontsize':32,\n",
    "#                  'xscale':'log',\n",
    "                  'yscale':'log',\n",
    "#                   'xlim':(1e-9,1e-3),\n",
    "                   'ylim':(1e10,1e12), #(1e-5,1e2),\n",
    "#                           'xstr':r'$1/T$',\n",
    "#                           'ystr':r'$\\lambda$',\n",
    "                   'title':'png/eventRate_nicocr.png'},\n",
    "    \n",
    "    )\n",
    "    #stats.Barries()"
   ]
  },
  {
   "cell_type": "markdown",
   "metadata": {},
   "source": [
    "## jumps"
   ]
  },
  {
   "cell_type": "code",
   "execution_count": 56,
   "metadata": {},
   "outputs": [
    {
     "name": "stdout",
     "output_type": "stream",
     "text": [
      "mkdir: png: File exists\r\n"
     ]
    },
    {
     "data": {
      "image/png": "[encoded data removed]",
      "text/plain": [
       "<Figure size 288x288 with 1 Axes>"
      ]
     },
     "metadata": {
      "needs_background": "light"
     },
     "output_type": "display_data"
    },
    {
     "data": {
      "image/png": "[encoded data removed]",
      "text/plain": [
       "<Figure size 288x288 with 1 Axes>"
      ]
     },
     "metadata": {
      "needs_background": "light"
     },
     "output_type": "display_data"
    }
   ],
   "source": [
    "class JumpStats(Temperature):\n",
    "    def __init__(self,temp_range,nrun,verbose=False):\n",
    "        Temperature.__init__(self,temp_range,nrun)\n",
    "        self.verbose = verbose\n",
    "    #\n",
    "    def PlotPdf(self,scale=False,**kwargs):\n",
    "        #\n",
    "        self.ax = utl.PltErr(None,#ans[:,0],\n",
    "                        None,#1e8*ans[:,0],\n",
    "                        attrs={'fmt':'-.r'},Plot=False)\n",
    "        symbols=utl.Symbols()\n",
    "        legends = Legends()\n",
    "        legends.Set(bbox_to_anchor=kwargs['bbox_to_anchor'] if 'bbox_to_anchor' in kwargs\n",
    "                    else (1.0,0.5,0.5,0.5))\n",
    "        #\n",
    "        self.mean_rate = {}\n",
    "        #\n",
    "        for temp, indx in zip(self.temps,range(len(self.temps))):\n",
    "            #--- concat. data for each temp\n",
    "            data = self.data[indx:indx+self.nrun][0]\n",
    "            if self.verbose:\n",
    "                print('data.shape (per temperature):',np.array(data).shape)\n",
    "            if self.verbose:\n",
    "                print('data.shape (concatenated):',data.shape)\n",
    "            #--- histogram\n",
    "#            data = np.array(data).flatten()\n",
    "            hist = data[:,1]\n",
    "            bin_edges = data[:,0]\n",
    "            err = data[:,2]\n",
    "            \n",
    "            #--- remove count == 1\n",
    "            filtr = err == hist\n",
    "            hist = hist[~filtr]\n",
    "            bin_edges = bin_edges[~filtr]\n",
    "            err = err[~filtr]\n",
    "            if scale:\n",
    "                alpha = 2.5 #2.8 #2.4\n",
    "                hist *= bin_edges ** alpha\n",
    "                err  *= bin_edges ** alpha\n",
    "        #--- plot\n",
    "#            temp= [1000,1200,1400,1600,1800,2000][indx]\n",
    "            utl.PltErr(bin_edges,hist,\n",
    "                          yerr=err,\n",
    "                   attrs=symbols.GetAttrs(count=indx%7,label=r'$%s$'%temp,fmt='.'),\n",
    "                   ax = self.ax,\n",
    "                   Plot=False,\n",
    "                          )\n",
    "        #\n",
    "        utl.PltErr(None,\n",
    "                   None,\n",
    "                   ax=self.ax,\n",
    "                   Plot=False,\n",
    "#                     legend=legends.Get(),\n",
    "                   DrawFrame=DRAW_FRAME,\n",
    "                   **kwargs\n",
    "                  )\n",
    "            \n",
    "\n",
    "if not eval(confParser['flags']['RemoteMachine']):\n",
    "    !mkdir png\n",
    "    \n",
    "    stats = JumpStats(\n",
    "#        [1000,1200,1400,1600,1800,2000],\n",
    "        [1000,1200,1400,1600,1800,2000],\n",
    "#        np.arange(1000,1440,80),\n",
    "        1,\n",
    "#        verbose=True\n",
    "                     )\n",
    "#    stats.Parse( list(map(lambda x:'CantorNatom16KTemp%sKEnsemble8/Run%s/msd/event_jumps.txt'%(x[0],x[1]),\n",
    "    stats.Parse( list(map(lambda x:'NiCoCrNatom1KTemp%sK/Run%s/msd/event_jumps.txt'%(x[0],x[1]),\n",
    "#    stats.Parse( list(map(lambda x:'NiNatom16KTemp%sK/Run%s/msd/event_jumps.txt'%(x[0],x[1]),\n",
    "                         stats.temps_runs ))\n",
    "               )\n",
    "    stats.PlotPdf(scale=False,\n",
    "                        **{'xscale':'log',\n",
    "                  'yscale':'log',\n",
    "                   'xlim':(1e-8,4e0),\n",
    "#                   'ylim':(1e-3,1e1), #(1e-5,1e2),\n",
    "#                           'xstr':r'$\\Delta t$',\n",
    "#                           'ystr':r'$P(\\Delta t)$',\n",
    "                        'ndecade_x':2,'ndecade_y':2,\n",
    "                    'bbox_to_anchor':(0.56,0.27,0.5,0.5),\n",
    "                   'title':'png/jumpsPdf_nicocr.png'},\n",
    "\n",
    "                       )\n",
    "    \n",
    "    stats.PlotPdf(scale=True,\n",
    "                **{'xscale':'log',\n",
    "                  'yscale':'log',\n",
    "                   'fontsize':32,\n",
    "#                   'xlim':(1e-8,2e0),\n",
    "#                   'ylim':(1e-3,1e1), #(1e-5,1e2),\n",
    "#                           'xstr':r'$\\Delta t$',\n",
    "#                           'ystr':r'$P(\\Delta t)$',\n",
    "                        'ndecade_x':2,'ndecade_y':2,\n",
    "                   'title':'png/jumpsPdf_rescaled_nicocr.png'},\n",
    "\n",
    "                       )"
   ]
  },
  {
   "cell_type": "code",
   "execution_count": 7,
   "metadata": {},
   "outputs": [],
   "source": [
    "Energy = lmpData.headers['Energy']"
   ]
  },
  {
   "cell_type": "markdown",
   "metadata": {},
   "source": [
    "## energy"
   ]
  },
  {
   "cell_type": "code",
   "execution_count": 58,
   "metadata": {
    "scrolled": false
   },
   "outputs": [
    {
     "name": "stdout",
     "output_type": "stream",
     "text": [
      "mkdir: png: File exists\r\n"
     ]
    },
    {
     "data": {
      "image/png": "[encoded data removed]",
      "text/plain": [
       "<Figure size 288x288 with 1 Axes>"
      ]
     },
     "metadata": {
      "needs_background": "light"
     },
     "output_type": "display_data"
    },
    {
     "data": {
      "image/png": "[encoded data removed]",
      "text/plain": [
       "<Figure size 288x288 with 1 Axes>"
      ]
     },
     "metadata": {
      "needs_background": "light"
     },
     "output_type": "display_data"
    }
   ],
   "source": [
    "class EnergyStats(Temperature):\n",
    "    def __init__(self,temp_range,nrun,verbose=False):\n",
    "        Temperature.__init__(self,temp_range,nrun)\n",
    "        self.verbose = verbose\n",
    "    #\n",
    "    def GetWaitTimes(self,times):\n",
    "        times = times[0::2]\n",
    "        dtt = times[1:]-times[:-1]\n",
    "        assert not np.any(dtt<0.0)\n",
    "#        filtr = dtt > 0.0\n",
    "        return dtt#[filtr]\n",
    "    #\n",
    "    def PlotPdf(self,**kwargs):\n",
    "        #\n",
    "        self.ax = utl.PltErr(None,#ans[:,0],\n",
    "                        None,#1e8*ans[:,0],\n",
    "                        attrs={'fmt':'-.r'},Plot=False)\n",
    "        symbols=utl.Symbols()\n",
    "        legends = Legends()\n",
    "        legends.Set(bbox_to_anchor=(1.0,0.5,0.5,0.5))\n",
    "        #\n",
    "        self.mean_rate = {}\n",
    "        column_energy = 0\n",
    "        #\n",
    "        for temp, indx in zip(self.temps,range(len(self.temps))):\n",
    "            #--- concat. data for each temp            \n",
    "            data = np.concatenate(list(map(lambda x: self.data[x][:,column_energy],range(indx,indx+self.nrun))))\n",
    "            #--- remove zeros\n",
    "            data = data[data > 0.0]\n",
    "            if self.verbose:\n",
    "                print('data.shape (per temperature):',np.array(data).shape)\n",
    "            if self.verbose:\n",
    "                print('data.shape (concatenated):',data.shape)\n",
    "            #--- histogram\n",
    "#            data = np.array(data).flatten()\n",
    "            #--- histogram\n",
    "            hist, bin_edges, err = utl.GetPDF(data,n_per_decade=16)\n",
    "        #--- plot\n",
    "            utl.PltErr(bin_edges,hist,\n",
    "                          yerr=err,\n",
    "                   attrs=symbols.GetAttrs(count=indx%7,label=r'$%s$'%temp,fmt='.'),\n",
    "                   ax = self.ax,\n",
    "                   Plot=False,\n",
    "                          )\n",
    "        #\n",
    "        utl.PltErr(None,\n",
    "                   None,\n",
    "                   ax=self.ax,\n",
    "                   Plot=False,\n",
    "                   \n",
    "#                    legend=legends.Get(),\n",
    "                   DrawFrame=DRAW_FRAME,\n",
    "                   **kwargs\n",
    "                  )\n",
    "    def Scatter(self,nevery=1,**kwargs):\n",
    "        self.ax = utl.PltErr(None,#ans[:,0],\n",
    "                        None,#1e8*ans[:,0],\n",
    "                        attrs={'fmt':'-.r'},Plot=False)\n",
    "        symbols=utl.Symbols()\n",
    "        legends = Legends()\n",
    "        legends.Set(bbox_to_anchor=(1.0,0.5,0.5,0.5))\n",
    "\n",
    "        #\n",
    "        column_energy = 0\n",
    "        column_time = 3\n",
    "        for indx in range(0,len(self.temps),nevery):\n",
    "            temp = self.temps[indx]\n",
    "            #--- concat. data for each temp            \n",
    "            data_energy = np.concatenate(list(map(lambda x: self.GetEnergy(self.data[x][:,column_energy]),\n",
    "                                                  range(indx,indx+self.nrun))))\n",
    "            #--- wait_times\n",
    "            data = self.data[indx:indx+self.nrun]\n",
    "            data_waitTimes = np.concatenate(list(map(lambda x: self.GetWaitTimes(self.data[x][:,column_time]),\n",
    "                                                     range(indx,indx+self.nrun))))\n",
    "\n",
    "            if self.verbose:\n",
    "                print('data_energy.shape (per temperature):',np.array(data_energy).shape)\n",
    "                print('data_waitTimes.shape (per temperature):',np.array(data_waitTimes).shape)\n",
    "            #--- plot scatter\n",
    "            scale = 100 ** indx\n",
    "            filtr = data_waitTimes > 0\n",
    "            utl.PltErr(data_energy[filtr],scale*data_waitTimes[filtr],\n",
    "                        attrs=symbols.GetAttrs(count=indx%7,label=r'$%s$'%temp,fmt='.'),\n",
    "                        ax = self.ax,\n",
    "                        Plot=False,\n",
    "                        )\n",
    "            #--- plot average\n",
    "#             nbins = 8\n",
    "#             count, _=np.histogram(data_energy[filtr],bins=nbins)\n",
    "#             xsum, _=np.histogram(data_energy[filtr],weights=data_energy[filtr],bins=nbins)\n",
    "#             ysum, _=np.histogram(data_energy[filtr],weights=data_waitTimes[filtr],bins=nbins)\n",
    "#             ysum /= count\n",
    "# #            ysum =10 ** ysum \n",
    "#             xsum /= count\n",
    "#             #---\n",
    "#             utl.PltErr(xsum,ysum,\n",
    "#                         attrs=symbols.GetAttrs(count=(indx)%7,label=r'$%s$'%temp,fmt='.'),\n",
    "#                         ax = self.ax,\n",
    "#                         Plot=False,\n",
    "#                         )\n",
    "        \n",
    "        \n",
    "        utl.PltErr(None,\n",
    "                   None,\n",
    "                   ax=self.ax,\n",
    "                   Plot=False,\n",
    "#                    legend=legends.Get(),\n",
    "                   DrawFrame=DRAW_FRAME,\n",
    "                   **kwargs\n",
    "                  )\n",
    "\n",
    "    def GetEnergy(self,slist):\n",
    "        n=len(slist)\n",
    "        return slist[1:n:2]\n",
    "            \n",
    "if not eval(confParser['flags']['RemoteMachine']):\n",
    "    !mkdir png\n",
    "    \n",
    "    stats = EnergyStats(\n",
    "#        [1000,1200,1400,1600,1800,2000],8,\n",
    "        [1000,1200,1400,1600,1800,2000],8,\n",
    "#        [1000,1400,1800],8,\n",
    "#        np.arange(1000,1440,40),1,\n",
    "#        verbose=True\n",
    "                     )\n",
    "#    stats.Parse( list(map(lambda x:'CantorNatom16KTemp%sKEnsemble8/Run%s/msd/timeseries.txt'%(x[0],x[1]),\n",
    "    stats.Parse( list(map(lambda x:'NiCoCrNatom1KTemp%sK/Run%s/msd/timeseries.txt'%(x[0],x[1]),\n",
    "#    stats.Parse( list(map(lambda x:'NiNatom16KTemp%sK/Run%s/msd/timeseries.txt'%(x[0],x[1]),\n",
    "                         stats.temps_runs ))\n",
    "               )\n",
    "    stats.PlotPdf(scale=False,\n",
    "                        **{'xscale':'log',\n",
    "                  'yscale':'log',\n",
    "#                   'xlim':(1e-3,1e0),\n",
    "                   'ylim':(1e-2,1e2), #(1e-5,1e2),\n",
    "#                           'xstr':r'$\\Delta t$',\n",
    "#                           'ystr':r'$P(\\Delta t)$',\n",
    "#                        'ndecade_x':2,'ndecade_y':2,\n",
    "                   'title':'png/BarrierPdf_cantor.png'},\n",
    "\n",
    "                       )\n",
    "    stats.Scatter(nevery=2,                        \n",
    "                **{'xscale':'linear',\n",
    "                  'yscale':'log',\n",
    "                   'xlim':(0,1),\n",
    "#                   'ylim':(1e-3,1e1), #(1e-5,1e2),\n",
    "#                           'xstr':r'$\\Delta t$',\n",
    "#                           'ystr':r'$P(\\Delta t)$',\n",
    "                        'ndecade_y':2,\n",
    "                   'title':'png/twVsEnergy_cantor.png',\n",
    "                  }\n",
    ")"
   ]
  },
  {
   "cell_type": "code",
   "execution_count": null,
   "metadata": {},
   "outputs": [],
   "source": []
  },
  {
   "cell_type": "code",
   "execution_count": 11,
   "metadata": {},
   "outputs": [
    {
     "data": {
      "text/plain": [
       "[<matplotlib.lines.Line2D at 0x7f9b601ae5d0>]"
      ]
     },
     "execution_count": 11,
     "metadata": {},
     "output_type": "execute_result"
    },
    {
     "data": {
      "image/png": "[encoded data removed]",
      "text/plain": [
       "<Figure size 432x288 with 1 Axes>"
      ]
     },
     "metadata": {
      "needs_background": "light"
     },
     "output_type": "display_data"
    }
   ],
   "source": [
    "times=lmpData.headers['Time']\n",
    "plt.plot(times,np.ones(len(times)),'x')"
   ]
  },
  {
   "cell_type": "code",
   "execution_count": 26,
   "metadata": {},
   "outputs": [],
   "source": [
    "tt=np.array(times.iloc[0:-1:2])\n",
    "dt=tt[1:]-tt[:-1]"
   ]
  },
  {
   "cell_type": "code",
   "execution_count": 27,
   "metadata": {},
   "outputs": [
    {
     "data": {
      "text/plain": [
       "[<matplotlib.lines.Line2D at 0x7f9b5fd51910>]"
      ]
     },
     "execution_count": 27,
     "metadata": {},
     "output_type": "execute_result"
    },
    {
     "data": {
      "image/png": "[encoded data removed]",
      "text/plain": [
       "<Figure size 432x288 with 1 Axes>"
      ]
     },
     "metadata": {
      "needs_background": "light"
     },
     "output_type": "display_data"
    }
   ],
   "source": [
    "Barrier=lmpData.headers['Barrier']\n",
    "\n",
    "plt.plot(Barrier,'x')"
   ]
  },
  {
   "cell_type": "code",
   "execution_count": 28,
   "metadata": {},
   "outputs": [
    {
     "data": {
      "text/plain": [
       "(24,)"
      ]
     },
     "execution_count": 28,
     "metadata": {},
     "output_type": "execute_result"
    }
   ],
   "source": [
    "barrier.shape"
   ]
  },
  {
   "cell_type": "code",
   "execution_count": 33,
   "metadata": {},
   "outputs": [
    {
     "data": {
      "image/png": "[encoded data removed]",
      "text/plain": [
       "<Figure size 432x288 with 1 Axes>"
      ]
     },
     "metadata": {
      "needs_background": "light"
     },
     "output_type": "display_data"
    }
   ],
   "source": [
    "barrier = np.array(Barrier.iloc[1:-1:2])\n",
    "plt.scatter(dt,barrier[:-1])\n",
    "plt.yscale('log')"
   ]
  },
  {
   "cell_type": "code",
   "execution_count": 34,
   "metadata": {},
   "outputs": [
    {
     "data": {
      "text/plain": [
       "array([2.070e-12, 2.685e-12, 3.344e-12, 3.331e-12, 5.300e-13, 9.000e-13,\n",
       "       4.000e-13, 1.600e-13, 3.900e-13, 1.210e-12, 6.000e-13, 2.600e-13,\n",
       "       1.610e-12, 7.800e-13, 4.460e-12, 2.000e-14, 1.930e-12, 1.520e-12,\n",
       "       1.500e-13, 3.800e-13, 1.000e-14, 3.600e-13, 6.000e-14])"
      ]
     },
     "execution_count": 34,
     "metadata": {},
     "output_type": "execute_result"
    }
   ],
   "source": [
    "dt"
   ]
  },
  {
   "cell_type": "code",
   "execution_count": 35,
   "metadata": {},
   "outputs": [
    {
     "data": {
      "text/plain": [
       "array([0.347, 0.59 , 0.318, 0.393, 0.552, 0.144, 0.24 , 0.144, 0.24 ,\n",
       "       0.144, 0.24 , 0.144, 0.24 , 0.144, 0.24 , 0.144, 0.24 , 0.601,\n",
       "       0.199, 0.196, 0.029, 0.241, 0.146, 0.34 ])"
      ]
     },
     "execution_count": 35,
     "metadata": {},
     "output_type": "execute_result"
    }
   ],
   "source": [
    "barrier"
   ]
  },
  {
   "cell_type": "code",
   "execution_count": 95,
   "metadata": {},
   "outputs": [
    {
     "data": {
      "text/plain": [
       "[<matplotlib.lines.Line2D at 0x127e5ea60>]"
      ]
     },
     "execution_count": 95,
     "metadata": {},
     "output_type": "execute_result"
    },
    {
     "data": {
      "image/png": "[encoded data removed]",
      "text/plain": [
       "<Figure size 432x288 with 1 Axes>"
      ]
     },
     "metadata": {
      "needs_background": "light"
     },
     "output_type": "display_data"
    }
   ],
   "source": [
    "plt.plot(lmpData.headers['Time'],Energy,'-o')"
   ]
  },
  {
   "cell_type": "code",
   "execution_count": null,
   "metadata": {},
   "outputs": [],
   "source": []
  }
 ],
 "metadata": {
  "kernelspec": {
   "display_name": "Python 3",
   "language": "python",
   "name": "python3"
  },
  "language_info": {
   "codemirror_mode": {
    "name": "ipython",
    "version": 3
   },
   "file_extension": ".py",
   "mimetype": "text/x-python",
   "name": "python",
   "nbconvert_exporter": "python",
   "pygments_lexer": "ipython3",
   "version": "3.9.5"
  },
  "toc": {
   "base_numbering": 1,
   "nav_menu": {},
   "number_sections": true,
   "sideBar": true,
   "skip_h1_title": false,
   "title_cell": "Table of Contents",
   "title_sidebar": "Contents",
   "toc_cell": false,
   "toc_position": {
    "height": "calc(100% - 180px)",
    "left": "10px",
    "top": "150px",
    "width": "497.6px"
   },
   "toc_section_display": true,
   "toc_window_display": true
  }
 },
 "nbformat": 4,
 "nbformat_minor": 4
}
